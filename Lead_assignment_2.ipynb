{
  "cells": [
    {
      "cell_type": "markdown",
      "metadata": {
        "id": "hEfhtQclDpr_"
      },
      "source": [
        "## Lead Assignment"
      ]
    },
    {
      "cell_type": "code",
      "execution_count": 1,
      "metadata": {
        "id": "bvgkQ17DDpsF"
      },
      "outputs": [],
      "source": [
        "import pandas as pd,numpy as np\n",
        "import warnings\n",
        "warnings.filterwarnings('ignore')\n",
        "import matplotlib.pyplot as plt,seaborn as sns"
      ]
    },
    {
      "cell_type": "code",
      "execution_count": 6,
      "metadata": {
        "colab": {
          "base_uri": "https://localhost:8080/",
          "height": 629
        },
        "id": "LZorK8KNDpsH",
        "outputId": "5dada0c7-b72b-454e-8d02-321de454efff"
      },
      "outputs": [
        {
          "output_type": "execute_result",
          "data": {
            "text/plain": [
              "                            Prospect ID  Lead Number              Lead Origin  \\\n",
              "0  7927b2df-8bba-4d29-b9a2-b6e0beafe620       660737                      API   \n",
              "1  2a272436-5132-4136-86fa-dcc88c88f482       660728                      API   \n",
              "2  8cc8c611-a219-4f35-ad23-fdfd2656bd8a       660727  Landing Page Submission   \n",
              "3  0cc2df48-7cf4-4e39-9de9-19797f9b38cc       660719  Landing Page Submission   \n",
              "4  3256f628-e534-4826-9d63-4a8b88782852       660681  Landing Page Submission   \n",
              "\n",
              "      Lead Source Do Not Email Do Not Call  Converted  TotalVisits  \\\n",
              "0      Olark Chat           No          No          0          0.0   \n",
              "1  Organic Search           No          No          0          5.0   \n",
              "2  Direct Traffic           No          No          1          2.0   \n",
              "3  Direct Traffic           No          No          0          1.0   \n",
              "4          Google           No          No          1          2.0   \n",
              "\n",
              "   Total Time Spent on Website  Page Views Per Visit  ...  \\\n",
              "0                            0                   0.0  ...   \n",
              "1                          674                   2.5  ...   \n",
              "2                         1532                   2.0  ...   \n",
              "3                          305                   1.0  ...   \n",
              "4                         1428                   1.0  ...   \n",
              "\n",
              "  Get updates on DM Content    Lead Profile    City  \\\n",
              "0                        No          Select  Select   \n",
              "1                        No          Select  Select   \n",
              "2                        No  Potential Lead  Mumbai   \n",
              "3                        No          Select  Mumbai   \n",
              "4                        No          Select  Mumbai   \n",
              "\n",
              "  Asymmetrique Activity Index Asymmetrique Profile Index  \\\n",
              "0                   02.Medium                  02.Medium   \n",
              "1                   02.Medium                  02.Medium   \n",
              "2                   02.Medium                    01.High   \n",
              "3                   02.Medium                    01.High   \n",
              "4                   02.Medium                    01.High   \n",
              "\n",
              "  Asymmetrique Activity Score Asymmetrique Profile Score  \\\n",
              "0                        15.0                       15.0   \n",
              "1                        15.0                       15.0   \n",
              "2                        14.0                       20.0   \n",
              "3                        13.0                       17.0   \n",
              "4                        15.0                       18.0   \n",
              "\n",
              "  I agree to pay the amount through cheque  \\\n",
              "0                                       No   \n",
              "1                                       No   \n",
              "2                                       No   \n",
              "3                                       No   \n",
              "4                                       No   \n",
              "\n",
              "  A free copy of Mastering The Interview Last Notable Activity  \n",
              "0                                     No              Modified  \n",
              "1                                     No          Email Opened  \n",
              "2                                    Yes          Email Opened  \n",
              "3                                     No              Modified  \n",
              "4                                     No              Modified  \n",
              "\n",
              "[5 rows x 37 columns]"
            ],
            "text/html": [
              "\n",
              "  <div id=\"df-befda574-e32d-47d1-b326-70bf33ed5796\">\n",
              "    <div class=\"colab-df-container\">\n",
              "      <div>\n",
              "<style scoped>\n",
              "    .dataframe tbody tr th:only-of-type {\n",
              "        vertical-align: middle;\n",
              "    }\n",
              "\n",
              "    .dataframe tbody tr th {\n",
              "        vertical-align: top;\n",
              "    }\n",
              "\n",
              "    .dataframe thead th {\n",
              "        text-align: right;\n",
              "    }\n",
              "</style>\n",
              "<table border=\"1\" class=\"dataframe\">\n",
              "  <thead>\n",
              "    <tr style=\"text-align: right;\">\n",
              "      <th></th>\n",
              "      <th>Prospect ID</th>\n",
              "      <th>Lead Number</th>\n",
              "      <th>Lead Origin</th>\n",
              "      <th>Lead Source</th>\n",
              "      <th>Do Not Email</th>\n",
              "      <th>Do Not Call</th>\n",
              "      <th>Converted</th>\n",
              "      <th>TotalVisits</th>\n",
              "      <th>Total Time Spent on Website</th>\n",
              "      <th>Page Views Per Visit</th>\n",
              "      <th>...</th>\n",
              "      <th>Get updates on DM Content</th>\n",
              "      <th>Lead Profile</th>\n",
              "      <th>City</th>\n",
              "      <th>Asymmetrique Activity Index</th>\n",
              "      <th>Asymmetrique Profile Index</th>\n",
              "      <th>Asymmetrique Activity Score</th>\n",
              "      <th>Asymmetrique Profile Score</th>\n",
              "      <th>I agree to pay the amount through cheque</th>\n",
              "      <th>A free copy of Mastering The Interview</th>\n",
              "      <th>Last Notable Activity</th>\n",
              "    </tr>\n",
              "  </thead>\n",
              "  <tbody>\n",
              "    <tr>\n",
              "      <th>0</th>\n",
              "      <td>7927b2df-8bba-4d29-b9a2-b6e0beafe620</td>\n",
              "      <td>660737</td>\n",
              "      <td>API</td>\n",
              "      <td>Olark Chat</td>\n",
              "      <td>No</td>\n",
              "      <td>No</td>\n",
              "      <td>0</td>\n",
              "      <td>0.0</td>\n",
              "      <td>0</td>\n",
              "      <td>0.0</td>\n",
              "      <td>...</td>\n",
              "      <td>No</td>\n",
              "      <td>Select</td>\n",
              "      <td>Select</td>\n",
              "      <td>02.Medium</td>\n",
              "      <td>02.Medium</td>\n",
              "      <td>15.0</td>\n",
              "      <td>15.0</td>\n",
              "      <td>No</td>\n",
              "      <td>No</td>\n",
              "      <td>Modified</td>\n",
              "    </tr>\n",
              "    <tr>\n",
              "      <th>1</th>\n",
              "      <td>2a272436-5132-4136-86fa-dcc88c88f482</td>\n",
              "      <td>660728</td>\n",
              "      <td>API</td>\n",
              "      <td>Organic Search</td>\n",
              "      <td>No</td>\n",
              "      <td>No</td>\n",
              "      <td>0</td>\n",
              "      <td>5.0</td>\n",
              "      <td>674</td>\n",
              "      <td>2.5</td>\n",
              "      <td>...</td>\n",
              "      <td>No</td>\n",
              "      <td>Select</td>\n",
              "      <td>Select</td>\n",
              "      <td>02.Medium</td>\n",
              "      <td>02.Medium</td>\n",
              "      <td>15.0</td>\n",
              "      <td>15.0</td>\n",
              "      <td>No</td>\n",
              "      <td>No</td>\n",
              "      <td>Email Opened</td>\n",
              "    </tr>\n",
              "    <tr>\n",
              "      <th>2</th>\n",
              "      <td>8cc8c611-a219-4f35-ad23-fdfd2656bd8a</td>\n",
              "      <td>660727</td>\n",
              "      <td>Landing Page Submission</td>\n",
              "      <td>Direct Traffic</td>\n",
              "      <td>No</td>\n",
              "      <td>No</td>\n",
              "      <td>1</td>\n",
              "      <td>2.0</td>\n",
              "      <td>1532</td>\n",
              "      <td>2.0</td>\n",
              "      <td>...</td>\n",
              "      <td>No</td>\n",
              "      <td>Potential Lead</td>\n",
              "      <td>Mumbai</td>\n",
              "      <td>02.Medium</td>\n",
              "      <td>01.High</td>\n",
              "      <td>14.0</td>\n",
              "      <td>20.0</td>\n",
              "      <td>No</td>\n",
              "      <td>Yes</td>\n",
              "      <td>Email Opened</td>\n",
              "    </tr>\n",
              "    <tr>\n",
              "      <th>3</th>\n",
              "      <td>0cc2df48-7cf4-4e39-9de9-19797f9b38cc</td>\n",
              "      <td>660719</td>\n",
              "      <td>Landing Page Submission</td>\n",
              "      <td>Direct Traffic</td>\n",
              "      <td>No</td>\n",
              "      <td>No</td>\n",
              "      <td>0</td>\n",
              "      <td>1.0</td>\n",
              "      <td>305</td>\n",
              "      <td>1.0</td>\n",
              "      <td>...</td>\n",
              "      <td>No</td>\n",
              "      <td>Select</td>\n",
              "      <td>Mumbai</td>\n",
              "      <td>02.Medium</td>\n",
              "      <td>01.High</td>\n",
              "      <td>13.0</td>\n",
              "      <td>17.0</td>\n",
              "      <td>No</td>\n",
              "      <td>No</td>\n",
              "      <td>Modified</td>\n",
              "    </tr>\n",
              "    <tr>\n",
              "      <th>4</th>\n",
              "      <td>3256f628-e534-4826-9d63-4a8b88782852</td>\n",
              "      <td>660681</td>\n",
              "      <td>Landing Page Submission</td>\n",
              "      <td>Google</td>\n",
              "      <td>No</td>\n",
              "      <td>No</td>\n",
              "      <td>1</td>\n",
              "      <td>2.0</td>\n",
              "      <td>1428</td>\n",
              "      <td>1.0</td>\n",
              "      <td>...</td>\n",
              "      <td>No</td>\n",
              "      <td>Select</td>\n",
              "      <td>Mumbai</td>\n",
              "      <td>02.Medium</td>\n",
              "      <td>01.High</td>\n",
              "      <td>15.0</td>\n",
              "      <td>18.0</td>\n",
              "      <td>No</td>\n",
              "      <td>No</td>\n",
              "      <td>Modified</td>\n",
              "    </tr>\n",
              "  </tbody>\n",
              "</table>\n",
              "<p>5 rows × 37 columns</p>\n",
              "</div>\n",
              "      <button class=\"colab-df-convert\" onclick=\"convertToInteractive('df-befda574-e32d-47d1-b326-70bf33ed5796')\"\n",
              "              title=\"Convert this dataframe to an interactive table.\"\n",
              "              style=\"display:none;\">\n",
              "        \n",
              "  <svg xmlns=\"http://www.w3.org/2000/svg\" height=\"24px\"viewBox=\"0 0 24 24\"\n",
              "       width=\"24px\">\n",
              "    <path d=\"M0 0h24v24H0V0z\" fill=\"none\"/>\n",
              "    <path d=\"M18.56 5.44l.94 2.06.94-2.06 2.06-.94-2.06-.94-.94-2.06-.94 2.06-2.06.94zm-11 1L8.5 8.5l.94-2.06 2.06-.94-2.06-.94L8.5 2.5l-.94 2.06-2.06.94zm10 10l.94 2.06.94-2.06 2.06-.94-2.06-.94-.94-2.06-.94 2.06-2.06.94z\"/><path d=\"M17.41 7.96l-1.37-1.37c-.4-.4-.92-.59-1.43-.59-.52 0-1.04.2-1.43.59L10.3 9.45l-7.72 7.72c-.78.78-.78 2.05 0 2.83L4 21.41c.39.39.9.59 1.41.59.51 0 1.02-.2 1.41-.59l7.78-7.78 2.81-2.81c.8-.78.8-2.07 0-2.86zM5.41 20L4 18.59l7.72-7.72 1.47 1.35L5.41 20z\"/>\n",
              "  </svg>\n",
              "      </button>\n",
              "      \n",
              "  <style>\n",
              "    .colab-df-container {\n",
              "      display:flex;\n",
              "      flex-wrap:wrap;\n",
              "      gap: 12px;\n",
              "    }\n",
              "\n",
              "    .colab-df-convert {\n",
              "      background-color: #E8F0FE;\n",
              "      border: none;\n",
              "      border-radius: 50%;\n",
              "      cursor: pointer;\n",
              "      display: none;\n",
              "      fill: #1967D2;\n",
              "      height: 32px;\n",
              "      padding: 0 0 0 0;\n",
              "      width: 32px;\n",
              "    }\n",
              "\n",
              "    .colab-df-convert:hover {\n",
              "      background-color: #E2EBFA;\n",
              "      box-shadow: 0px 1px 2px rgba(60, 64, 67, 0.3), 0px 1px 3px 1px rgba(60, 64, 67, 0.15);\n",
              "      fill: #174EA6;\n",
              "    }\n",
              "\n",
              "    [theme=dark] .colab-df-convert {\n",
              "      background-color: #3B4455;\n",
              "      fill: #D2E3FC;\n",
              "    }\n",
              "\n",
              "    [theme=dark] .colab-df-convert:hover {\n",
              "      background-color: #434B5C;\n",
              "      box-shadow: 0px 1px 3px 1px rgba(0, 0, 0, 0.15);\n",
              "      filter: drop-shadow(0px 1px 2px rgba(0, 0, 0, 0.3));\n",
              "      fill: #FFFFFF;\n",
              "    }\n",
              "  </style>\n",
              "\n",
              "      <script>\n",
              "        const buttonEl =\n",
              "          document.querySelector('#df-befda574-e32d-47d1-b326-70bf33ed5796 button.colab-df-convert');\n",
              "        buttonEl.style.display =\n",
              "          google.colab.kernel.accessAllowed ? 'block' : 'none';\n",
              "\n",
              "        async function convertToInteractive(key) {\n",
              "          const element = document.querySelector('#df-befda574-e32d-47d1-b326-70bf33ed5796');\n",
              "          const dataTable =\n",
              "            await google.colab.kernel.invokeFunction('convertToInteractive',\n",
              "                                                     [key], {});\n",
              "          if (!dataTable) return;\n",
              "\n",
              "          const docLinkHtml = 'Like what you see? Visit the ' +\n",
              "            '<a target=\"_blank\" href=https://colab.research.google.com/notebooks/data_table.ipynb>data table notebook</a>'\n",
              "            + ' to learn more about interactive tables.';\n",
              "          element.innerHTML = '';\n",
              "          dataTable['output_type'] = 'display_data';\n",
              "          await google.colab.output.renderOutput(dataTable, element);\n",
              "          const docLink = document.createElement('div');\n",
              "          docLink.innerHTML = docLinkHtml;\n",
              "          element.appendChild(docLink);\n",
              "        }\n",
              "      </script>\n",
              "    </div>\n",
              "  </div>\n",
              "  "
            ]
          },
          "metadata": {},
          "execution_count": 6
        }
      ],
      "source": [
        "lead_df = pd.read_csv(\"Leads.csv\")\n",
        "lead_df.head()"
      ]
    },
    {
      "cell_type": "code",
      "execution_count": 7,
      "metadata": {
        "colab": {
          "base_uri": "https://localhost:8080/",
          "height": 300
        },
        "id": "a-CUc_SQDpsJ",
        "outputId": "8da823e5-8b23-4012-d5ea-50e8f4ab4e83"
      },
      "outputs": [
        {
          "output_type": "execute_result",
          "data": {
            "text/plain": [
              "         Lead Number    Converted  TotalVisits  Total Time Spent on Website  \\\n",
              "count    9240.000000  9240.000000  9103.000000                  9240.000000   \n",
              "mean   617188.435606     0.385390     3.445238                   487.698268   \n",
              "std     23405.995698     0.486714     4.854853                   548.021466   \n",
              "min    579533.000000     0.000000     0.000000                     0.000000   \n",
              "25%    596484.500000     0.000000     1.000000                    12.000000   \n",
              "50%    615479.000000     0.000000     3.000000                   248.000000   \n",
              "75%    637387.250000     1.000000     5.000000                   936.000000   \n",
              "max    660737.000000     1.000000   251.000000                  2272.000000   \n",
              "\n",
              "       Page Views Per Visit  Asymmetrique Activity Score  \\\n",
              "count           9103.000000                  5022.000000   \n",
              "mean               2.362820                    14.306252   \n",
              "std                2.161418                     1.386694   \n",
              "min                0.000000                     7.000000   \n",
              "25%                1.000000                    14.000000   \n",
              "50%                2.000000                    14.000000   \n",
              "75%                3.000000                    15.000000   \n",
              "max               55.000000                    18.000000   \n",
              "\n",
              "       Asymmetrique Profile Score  \n",
              "count                 5022.000000  \n",
              "mean                    16.344883  \n",
              "std                      1.811395  \n",
              "min                     11.000000  \n",
              "25%                     15.000000  \n",
              "50%                     16.000000  \n",
              "75%                     18.000000  \n",
              "max                     20.000000  "
            ],
            "text/html": [
              "\n",
              "  <div id=\"df-de83726e-5f05-471c-9781-0284f00c38cb\">\n",
              "    <div class=\"colab-df-container\">\n",
              "      <div>\n",
              "<style scoped>\n",
              "    .dataframe tbody tr th:only-of-type {\n",
              "        vertical-align: middle;\n",
              "    }\n",
              "\n",
              "    .dataframe tbody tr th {\n",
              "        vertical-align: top;\n",
              "    }\n",
              "\n",
              "    .dataframe thead th {\n",
              "        text-align: right;\n",
              "    }\n",
              "</style>\n",
              "<table border=\"1\" class=\"dataframe\">\n",
              "  <thead>\n",
              "    <tr style=\"text-align: right;\">\n",
              "      <th></th>\n",
              "      <th>Lead Number</th>\n",
              "      <th>Converted</th>\n",
              "      <th>TotalVisits</th>\n",
              "      <th>Total Time Spent on Website</th>\n",
              "      <th>Page Views Per Visit</th>\n",
              "      <th>Asymmetrique Activity Score</th>\n",
              "      <th>Asymmetrique Profile Score</th>\n",
              "    </tr>\n",
              "  </thead>\n",
              "  <tbody>\n",
              "    <tr>\n",
              "      <th>count</th>\n",
              "      <td>9240.000000</td>\n",
              "      <td>9240.000000</td>\n",
              "      <td>9103.000000</td>\n",
              "      <td>9240.000000</td>\n",
              "      <td>9103.000000</td>\n",
              "      <td>5022.000000</td>\n",
              "      <td>5022.000000</td>\n",
              "    </tr>\n",
              "    <tr>\n",
              "      <th>mean</th>\n",
              "      <td>617188.435606</td>\n",
              "      <td>0.385390</td>\n",
              "      <td>3.445238</td>\n",
              "      <td>487.698268</td>\n",
              "      <td>2.362820</td>\n",
              "      <td>14.306252</td>\n",
              "      <td>16.344883</td>\n",
              "    </tr>\n",
              "    <tr>\n",
              "      <th>std</th>\n",
              "      <td>23405.995698</td>\n",
              "      <td>0.486714</td>\n",
              "      <td>4.854853</td>\n",
              "      <td>548.021466</td>\n",
              "      <td>2.161418</td>\n",
              "      <td>1.386694</td>\n",
              "      <td>1.811395</td>\n",
              "    </tr>\n",
              "    <tr>\n",
              "      <th>min</th>\n",
              "      <td>579533.000000</td>\n",
              "      <td>0.000000</td>\n",
              "      <td>0.000000</td>\n",
              "      <td>0.000000</td>\n",
              "      <td>0.000000</td>\n",
              "      <td>7.000000</td>\n",
              "      <td>11.000000</td>\n",
              "    </tr>\n",
              "    <tr>\n",
              "      <th>25%</th>\n",
              "      <td>596484.500000</td>\n",
              "      <td>0.000000</td>\n",
              "      <td>1.000000</td>\n",
              "      <td>12.000000</td>\n",
              "      <td>1.000000</td>\n",
              "      <td>14.000000</td>\n",
              "      <td>15.000000</td>\n",
              "    </tr>\n",
              "    <tr>\n",
              "      <th>50%</th>\n",
              "      <td>615479.000000</td>\n",
              "      <td>0.000000</td>\n",
              "      <td>3.000000</td>\n",
              "      <td>248.000000</td>\n",
              "      <td>2.000000</td>\n",
              "      <td>14.000000</td>\n",
              "      <td>16.000000</td>\n",
              "    </tr>\n",
              "    <tr>\n",
              "      <th>75%</th>\n",
              "      <td>637387.250000</td>\n",
              "      <td>1.000000</td>\n",
              "      <td>5.000000</td>\n",
              "      <td>936.000000</td>\n",
              "      <td>3.000000</td>\n",
              "      <td>15.000000</td>\n",
              "      <td>18.000000</td>\n",
              "    </tr>\n",
              "    <tr>\n",
              "      <th>max</th>\n",
              "      <td>660737.000000</td>\n",
              "      <td>1.000000</td>\n",
              "      <td>251.000000</td>\n",
              "      <td>2272.000000</td>\n",
              "      <td>55.000000</td>\n",
              "      <td>18.000000</td>\n",
              "      <td>20.000000</td>\n",
              "    </tr>\n",
              "  </tbody>\n",
              "</table>\n",
              "</div>\n",
              "      <button class=\"colab-df-convert\" onclick=\"convertToInteractive('df-de83726e-5f05-471c-9781-0284f00c38cb')\"\n",
              "              title=\"Convert this dataframe to an interactive table.\"\n",
              "              style=\"display:none;\">\n",
              "        \n",
              "  <svg xmlns=\"http://www.w3.org/2000/svg\" height=\"24px\"viewBox=\"0 0 24 24\"\n",
              "       width=\"24px\">\n",
              "    <path d=\"M0 0h24v24H0V0z\" fill=\"none\"/>\n",
              "    <path d=\"M18.56 5.44l.94 2.06.94-2.06 2.06-.94-2.06-.94-.94-2.06-.94 2.06-2.06.94zm-11 1L8.5 8.5l.94-2.06 2.06-.94-2.06-.94L8.5 2.5l-.94 2.06-2.06.94zm10 10l.94 2.06.94-2.06 2.06-.94-2.06-.94-.94-2.06-.94 2.06-2.06.94z\"/><path d=\"M17.41 7.96l-1.37-1.37c-.4-.4-.92-.59-1.43-.59-.52 0-1.04.2-1.43.59L10.3 9.45l-7.72 7.72c-.78.78-.78 2.05 0 2.83L4 21.41c.39.39.9.59 1.41.59.51 0 1.02-.2 1.41-.59l7.78-7.78 2.81-2.81c.8-.78.8-2.07 0-2.86zM5.41 20L4 18.59l7.72-7.72 1.47 1.35L5.41 20z\"/>\n",
              "  </svg>\n",
              "      </button>\n",
              "      \n",
              "  <style>\n",
              "    .colab-df-container {\n",
              "      display:flex;\n",
              "      flex-wrap:wrap;\n",
              "      gap: 12px;\n",
              "    }\n",
              "\n",
              "    .colab-df-convert {\n",
              "      background-color: #E8F0FE;\n",
              "      border: none;\n",
              "      border-radius: 50%;\n",
              "      cursor: pointer;\n",
              "      display: none;\n",
              "      fill: #1967D2;\n",
              "      height: 32px;\n",
              "      padding: 0 0 0 0;\n",
              "      width: 32px;\n",
              "    }\n",
              "\n",
              "    .colab-df-convert:hover {\n",
              "      background-color: #E2EBFA;\n",
              "      box-shadow: 0px 1px 2px rgba(60, 64, 67, 0.3), 0px 1px 3px 1px rgba(60, 64, 67, 0.15);\n",
              "      fill: #174EA6;\n",
              "    }\n",
              "\n",
              "    [theme=dark] .colab-df-convert {\n",
              "      background-color: #3B4455;\n",
              "      fill: #D2E3FC;\n",
              "    }\n",
              "\n",
              "    [theme=dark] .colab-df-convert:hover {\n",
              "      background-color: #434B5C;\n",
              "      box-shadow: 0px 1px 3px 1px rgba(0, 0, 0, 0.15);\n",
              "      filter: drop-shadow(0px 1px 2px rgba(0, 0, 0, 0.3));\n",
              "      fill: #FFFFFF;\n",
              "    }\n",
              "  </style>\n",
              "\n",
              "      <script>\n",
              "        const buttonEl =\n",
              "          document.querySelector('#df-de83726e-5f05-471c-9781-0284f00c38cb button.colab-df-convert');\n",
              "        buttonEl.style.display =\n",
              "          google.colab.kernel.accessAllowed ? 'block' : 'none';\n",
              "\n",
              "        async function convertToInteractive(key) {\n",
              "          const element = document.querySelector('#df-de83726e-5f05-471c-9781-0284f00c38cb');\n",
              "          const dataTable =\n",
              "            await google.colab.kernel.invokeFunction('convertToInteractive',\n",
              "                                                     [key], {});\n",
              "          if (!dataTable) return;\n",
              "\n",
              "          const docLinkHtml = 'Like what you see? Visit the ' +\n",
              "            '<a target=\"_blank\" href=https://colab.research.google.com/notebooks/data_table.ipynb>data table notebook</a>'\n",
              "            + ' to learn more about interactive tables.';\n",
              "          element.innerHTML = '';\n",
              "          dataTable['output_type'] = 'display_data';\n",
              "          await google.colab.output.renderOutput(dataTable, element);\n",
              "          const docLink = document.createElement('div');\n",
              "          docLink.innerHTML = docLinkHtml;\n",
              "          element.appendChild(docLink);\n",
              "        }\n",
              "      </script>\n",
              "    </div>\n",
              "  </div>\n",
              "  "
            ]
          },
          "metadata": {},
          "execution_count": 7
        }
      ],
      "source": [
        "lead_df.describe()"
      ]
    },
    {
      "cell_type": "code",
      "execution_count": 8,
      "metadata": {
        "colab": {
          "base_uri": "https://localhost:8080/"
        },
        "id": "gHHW0JT2DpsJ",
        "outputId": "3c8b1410-6843-40c4-b80c-d8405e577d57"
      },
      "outputs": [
        {
          "output_type": "stream",
          "name": "stdout",
          "text": [
            "<class 'pandas.core.frame.DataFrame'>\n",
            "RangeIndex: 9240 entries, 0 to 9239\n",
            "Data columns (total 37 columns):\n",
            " #   Column                                         Non-Null Count  Dtype  \n",
            "---  ------                                         --------------  -----  \n",
            " 0   Prospect ID                                    9240 non-null   object \n",
            " 1   Lead Number                                    9240 non-null   int64  \n",
            " 2   Lead Origin                                    9240 non-null   object \n",
            " 3   Lead Source                                    9204 non-null   object \n",
            " 4   Do Not Email                                   9240 non-null   object \n",
            " 5   Do Not Call                                    9240 non-null   object \n",
            " 6   Converted                                      9240 non-null   int64  \n",
            " 7   TotalVisits                                    9103 non-null   float64\n",
            " 8   Total Time Spent on Website                    9240 non-null   int64  \n",
            " 9   Page Views Per Visit                           9103 non-null   float64\n",
            " 10  Last Activity                                  9137 non-null   object \n",
            " 11  Country                                        6779 non-null   object \n",
            " 12  Specialization                                 7802 non-null   object \n",
            " 13  How did you hear about X Education             7033 non-null   object \n",
            " 14  What is your current occupation                6550 non-null   object \n",
            " 15  What matters most to you in choosing a course  6531 non-null   object \n",
            " 16  Search                                         9240 non-null   object \n",
            " 17  Magazine                                       9240 non-null   object \n",
            " 18  Newspaper Article                              9240 non-null   object \n",
            " 19  X Education Forums                             9240 non-null   object \n",
            " 20  Newspaper                                      9240 non-null   object \n",
            " 21  Digital Advertisement                          9240 non-null   object \n",
            " 22  Through Recommendations                        9240 non-null   object \n",
            " 23  Receive More Updates About Our Courses         9240 non-null   object \n",
            " 24  Tags                                           5887 non-null   object \n",
            " 25  Lead Quality                                   4473 non-null   object \n",
            " 26  Update me on Supply Chain Content              9240 non-null   object \n",
            " 27  Get updates on DM Content                      9240 non-null   object \n",
            " 28  Lead Profile                                   6531 non-null   object \n",
            " 29  City                                           7820 non-null   object \n",
            " 30  Asymmetrique Activity Index                    5022 non-null   object \n",
            " 31  Asymmetrique Profile Index                     5022 non-null   object \n",
            " 32  Asymmetrique Activity Score                    5022 non-null   float64\n",
            " 33  Asymmetrique Profile Score                     5022 non-null   float64\n",
            " 34  I agree to pay the amount through cheque       9240 non-null   object \n",
            " 35  A free copy of Mastering The Interview         9240 non-null   object \n",
            " 36  Last Notable Activity                          9240 non-null   object \n",
            "dtypes: float64(4), int64(3), object(30)\n",
            "memory usage: 2.6+ MB\n"
          ]
        }
      ],
      "source": [
        "lead_df.info()"
      ]
    },
    {
      "cell_type": "code",
      "execution_count": 9,
      "metadata": {
        "colab": {
          "base_uri": "https://localhost:8080/"
        },
        "id": "N8xpvuVWDpsK",
        "outputId": "8b8161a7-a292-4727-bf08-6e8ed808269b"
      },
      "outputs": [
        {
          "output_type": "execute_result",
          "data": {
            "text/plain": [
              "(9240, 37)"
            ]
          },
          "metadata": {},
          "execution_count": 9
        }
      ],
      "source": [
        "lead_df.shape"
      ]
    },
    {
      "cell_type": "code",
      "execution_count": 9,
      "metadata": {
        "id": "E3UNZ9SzDpsK"
      },
      "outputs": [],
      "source": []
    },
    {
      "cell_type": "code",
      "execution_count": 10,
      "metadata": {
        "colab": {
          "base_uri": "https://localhost:8080/"
        },
        "id": "cLgfWBV2DpsK",
        "outputId": "1f88b15f-91a9-4f01-f1c0-72668133ed7d"
      },
      "outputs": [
        {
          "output_type": "execute_result",
          "data": {
            "text/plain": [
              "0"
            ]
          },
          "metadata": {},
          "execution_count": 10
        }
      ],
      "source": [
        "# checking for duplicate values  \n",
        "lead_df.duplicated(subset = ['Prospect ID'], keep = False).sum()\n"
      ]
    },
    {
      "cell_type": "code",
      "execution_count": 11,
      "metadata": {
        "colab": {
          "base_uri": "https://localhost:8080/"
        },
        "id": "dVNVWH8yDpsL",
        "outputId": "7f14c1fd-60c2-4c02-bce1-a1a12c5ac830"
      },
      "outputs": [
        {
          "output_type": "execute_result",
          "data": {
            "text/plain": [
              "0"
            ]
          },
          "metadata": {},
          "execution_count": 11
        }
      ],
      "source": [
        "lead_df.duplicated(subset = ['Lead Number'], keep = False).sum()"
      ]
    },
    {
      "cell_type": "markdown",
      "metadata": {
        "id": "G_-DWjYzDpsL"
      },
      "source": [
        "No duplicate values in Prospect ID and Lead Number"
      ]
    },
    {
      "cell_type": "markdown",
      "metadata": {
        "id": "xMfLGpGBDpsL"
      },
      "source": [
        "\n",
        "Prospect ID and Lead number are unique valuesa and they are not going to give us any business understanding so we are dropping them "
      ]
    },
    {
      "cell_type": "markdown",
      "metadata": {
        "id": "yppICdsrDpsM"
      },
      "source": [
        "## EXPLORATORY DATA ANALYSIS(EDA)"
      ]
    },
    {
      "cell_type": "markdown",
      "metadata": {
        "id": "_nJo2-4HDpsM"
      },
      "source": [
        "### Data Cleaning,Treatment and Prepration for Model building "
      ]
    },
    {
      "cell_type": "code",
      "execution_count": null,
      "metadata": {
        "id": "OJyuyejzDpsM"
      },
      "outputs": [],
      "source": [
        "#dropping Lead Number and Prospect ID since they have all unique values\n",
        "\n",
        "lead_df.drop(['Prospect ID', 'Lead Number'], 1, inplace = True)"
      ]
    },
    {
      "cell_type": "code",
      "execution_count": null,
      "metadata": {
        "id": "W5kxL1pRDpsN"
      },
      "outputs": [],
      "source": [
        "#Converting 'Select' values to NaN.\n",
        "\n",
        "lead_df = Lead_data.replace('Select', np.nan)"
      ]
    },
    {
      "cell_type": "code",
      "execution_count": null,
      "metadata": {
        "id": "E8Jq_1DrDpsN",
        "outputId": "2b54101a-2435-4d17-e4e8-6a09524a2099"
      },
      "outputs": [
        {
          "data": {
            "text/plain": [
              "Lead Origin                                         5\n",
              "Lead Source                                        21\n",
              "Do Not Email                                        2\n",
              "Do Not Call                                         2\n",
              "Converted                                           2\n",
              "TotalVisits                                        41\n",
              "Total Time Spent on Website                      1731\n",
              "Page Views Per Visit                              114\n",
              "Last Activity                                      17\n",
              "Country                                            38\n",
              "Specialization                                     18\n",
              "How did you hear about X Education                  9\n",
              "What is your current occupation                     6\n",
              "What matters most to you in choosing a course       3\n",
              "Search                                              2\n",
              "Magazine                                            1\n",
              "Newspaper Article                                   2\n",
              "X Education Forums                                  2\n",
              "Newspaper                                           2\n",
              "Digital Advertisement                               2\n",
              "Through Recommendations                             2\n",
              "Receive More Updates About Our Courses              1\n",
              "Tags                                               26\n",
              "Lead Quality                                        5\n",
              "Update me on Supply Chain Content                   1\n",
              "Get updates on DM Content                           1\n",
              "Lead Profile                                        5\n",
              "City                                                6\n",
              "Asymmetrique Activity Index                         3\n",
              "Asymmetrique Profile Index                          3\n",
              "Asymmetrique Activity Score                        12\n",
              "Asymmetrique Profile Score                         10\n",
              "I agree to pay the amount through cheque            1\n",
              "A free copy of Mastering The Interview              2\n",
              "Last Notable Activity                              16\n",
              "dtype: int64"
            ]
          },
          "execution_count": 10,
          "metadata": {},
          "output_type": "execute_result"
        }
      ],
      "source": [
        "lead_df.nunique()"
      ]
    },
    {
      "cell_type": "code",
      "execution_count": null,
      "metadata": {
        "id": "jVvBph9RDpsN"
      },
      "outputs": [],
      "source": [
        "# Dropping unique valued columns\n",
        "lead_df= lead_df.drop(['Magazine','Receive More Updates About Our Courses','I agree to pay the amount through cheque','Get updates on DM Content','Update me on Supply Chain Content'],axis=1)"
      ]
    },
    {
      "cell_type": "code",
      "execution_count": null,
      "metadata": {
        "id": "dKkj4OxyDpsO",
        "outputId": "66638205-eff7-4f0d-c541-66e4f945efc7"
      },
      "outputs": [
        {
          "data": {
            "text/plain": [
              "Lead Origin                                         0\n",
              "Lead Source                                        36\n",
              "Do Not Email                                        0\n",
              "Do Not Call                                         0\n",
              "Converted                                           0\n",
              "TotalVisits                                       137\n",
              "Total Time Spent on Website                         0\n",
              "Page Views Per Visit                              137\n",
              "Last Activity                                     103\n",
              "Country                                          2461\n",
              "Specialization                                   3380\n",
              "How did you hear about X Education               7250\n",
              "What is your current occupation                  2690\n",
              "What matters most to you in choosing a course    2709\n",
              "Search                                              0\n",
              "Newspaper Article                                   0\n",
              "X Education Forums                                  0\n",
              "Newspaper                                           0\n",
              "Digital Advertisement                               0\n",
              "Through Recommendations                             0\n",
              "Tags                                             3353\n",
              "Lead Quality                                     4767\n",
              "Lead Profile                                     6855\n",
              "City                                             3669\n",
              "Asymmetrique Activity Index                      4218\n",
              "Asymmetrique Profile Index                       4218\n",
              "Asymmetrique Activity Score                      4218\n",
              "Asymmetrique Profile Score                       4218\n",
              "A free copy of Mastering The Interview              0\n",
              "Last Notable Activity                               0\n",
              "dtype: int64"
            ]
          },
          "execution_count": 12,
          "metadata": {},
          "output_type": "execute_result"
        }
      ],
      "source": [
        "#checking null values in each rows\n",
        "\n",
        "lead_df.isnull().sum()"
      ]
    },
    {
      "cell_type": "code",
      "execution_count": null,
      "metadata": {
        "id": "hJlrCeBFDpsO",
        "outputId": "c21d41f6-719e-48e5-ead0-bf35b5b768a2"
      },
      "outputs": [
        {
          "data": {
            "text/plain": [
              "Lead Origin                                       0.00\n",
              "Lead Source                                       0.39\n",
              "Do Not Email                                      0.00\n",
              "Do Not Call                                       0.00\n",
              "Converted                                         0.00\n",
              "TotalVisits                                       1.48\n",
              "Total Time Spent on Website                       0.00\n",
              "Page Views Per Visit                              1.48\n",
              "Last Activity                                     1.11\n",
              "Country                                          26.63\n",
              "Specialization                                   36.58\n",
              "How did you hear about X Education               78.46\n",
              "What is your current occupation                  29.11\n",
              "What matters most to you in choosing a course    29.32\n",
              "Search                                            0.00\n",
              "Newspaper Article                                 0.00\n",
              "X Education Forums                                0.00\n",
              "Newspaper                                         0.00\n",
              "Digital Advertisement                             0.00\n",
              "Through Recommendations                           0.00\n",
              "Tags                                             36.29\n",
              "Lead Quality                                     51.59\n",
              "Lead Profile                                     74.19\n",
              "City                                             39.71\n",
              "Asymmetrique Activity Index                      45.65\n",
              "Asymmetrique Profile Index                       45.65\n",
              "Asymmetrique Activity Score                      45.65\n",
              "Asymmetrique Profile Score                       45.65\n",
              "A free copy of Mastering The Interview            0.00\n",
              "Last Notable Activity                             0.00\n",
              "dtype: float64"
            ]
          },
          "execution_count": 13,
          "metadata": {},
          "output_type": "execute_result"
        }
      ],
      "source": [
        "# % of null value\n",
        "round(100*(lead_df.isnull().sum())/len(lead_df.index),2)"
      ]
    },
    {
      "cell_type": "code",
      "execution_count": null,
      "metadata": {
        "id": "YgW5-G0vDpsO"
      },
      "outputs": [],
      "source": [
        "#dropping cols with more than 45% missing values\n",
        "\n",
        "lead_df = lead_df.drop(['Asymmetrique Profile Score','Asymmetrique Activity Score','Asymmetrique Profile Index','Asymmetrique Activity Index','Lead Profile','Lead Quality','How did you hear about X Education',],axis =1)"
      ]
    },
    {
      "cell_type": "code",
      "execution_count": null,
      "metadata": {
        "id": "Y-NsH8oNDpsP",
        "outputId": "26cfef1e-cfe9-48b0-bd91-558981819c87"
      },
      "outputs": [
        {
          "data": {
            "text/plain": [
              "(9240, 23)"
            ]
          },
          "execution_count": 15,
          "metadata": {},
          "output_type": "execute_result"
        }
      ],
      "source": [
        "lead_df.shape"
      ]
    },
    {
      "cell_type": "code",
      "execution_count": 12,
      "metadata": {
        "colab": {
          "base_uri": "https://localhost:8080/"
        },
        "id": "KqW7hBR5DpsP",
        "outputId": "eb912226-e2a1-416b-8fa1-ee2fa47b9535"
      },
      "outputs": [
        {
          "output_type": "execute_result",
          "data": {
            "text/plain": [
              "Prospect ID                                       0.00\n",
              "Lead Number                                       0.00\n",
              "Lead Origin                                       0.00\n",
              "Lead Source                                       0.39\n",
              "Do Not Email                                      0.00\n",
              "Do Not Call                                       0.00\n",
              "Converted                                         0.00\n",
              "TotalVisits                                       1.48\n",
              "Total Time Spent on Website                       0.00\n",
              "Page Views Per Visit                              1.48\n",
              "Last Activity                                     1.11\n",
              "Country                                          26.63\n",
              "Specialization                                   15.56\n",
              "How did you hear about X Education               23.89\n",
              "What is your current occupation                  29.11\n",
              "What matters most to you in choosing a course    29.32\n",
              "Search                                            0.00\n",
              "Magazine                                          0.00\n",
              "Newspaper Article                                 0.00\n",
              "X Education Forums                                0.00\n",
              "Newspaper                                         0.00\n",
              "Digital Advertisement                             0.00\n",
              "Through Recommendations                           0.00\n",
              "Receive More Updates About Our Courses            0.00\n",
              "Tags                                             36.29\n",
              "Lead Quality                                     51.59\n",
              "Update me on Supply Chain Content                 0.00\n",
              "Get updates on DM Content                         0.00\n",
              "Lead Profile                                     29.32\n",
              "City                                             15.37\n",
              "Asymmetrique Activity Index                      45.65\n",
              "Asymmetrique Profile Index                       45.65\n",
              "Asymmetrique Activity Score                      45.65\n",
              "Asymmetrique Profile Score                       45.65\n",
              "I agree to pay the amount through cheque          0.00\n",
              "A free copy of Mastering The Interview            0.00\n",
              "Last Notable Activity                             0.00\n",
              "dtype: float64"
            ]
          },
          "metadata": {},
          "execution_count": 12
        }
      ],
      "source": [
        "#checking null values percentage\n",
        "\n",
        "round(100*(lead_df.isnull().sum()/len(lead_df.index)), 2)"
      ]
    },
    {
      "cell_type": "markdown",
      "metadata": {
        "id": "mnMs5M8_DpsQ"
      },
      "source": [
        "There is a huge value of null variables in some columns as seen above. But removing the rows with the null value will cost us a lot of data and they are important columns. So, instead we are going to replace the NaN values with 'not provided'. This way we have all the data and almost no null values. In case these come up in the model, it will be of no use and we can drop it off then."
      ]
    },
    {
      "cell_type": "code",
      "execution_count": 13,
      "metadata": {
        "colab": {
          "base_uri": "https://localhost:8080/"
        },
        "id": "EUskRMZGDpsQ",
        "outputId": "2672730c-4dbf-4379-f96a-be7aa865c454"
      },
      "outputs": [
        {
          "output_type": "stream",
          "name": "stdout",
          "text": [
            "<class 'pandas.core.frame.DataFrame'>\n",
            "RangeIndex: 9240 entries, 0 to 9239\n",
            "Data columns (total 37 columns):\n",
            " #   Column                                         Non-Null Count  Dtype  \n",
            "---  ------                                         --------------  -----  \n",
            " 0   Prospect ID                                    9240 non-null   object \n",
            " 1   Lead Number                                    9240 non-null   int64  \n",
            " 2   Lead Origin                                    9240 non-null   object \n",
            " 3   Lead Source                                    9204 non-null   object \n",
            " 4   Do Not Email                                   9240 non-null   object \n",
            " 5   Do Not Call                                    9240 non-null   object \n",
            " 6   Converted                                      9240 non-null   int64  \n",
            " 7   TotalVisits                                    9103 non-null   float64\n",
            " 8   Total Time Spent on Website                    9240 non-null   int64  \n",
            " 9   Page Views Per Visit                           9103 non-null   float64\n",
            " 10  Last Activity                                  9137 non-null   object \n",
            " 11  Country                                        9240 non-null   object \n",
            " 12  Specialization                                 9240 non-null   object \n",
            " 13  How did you hear about X Education             7033 non-null   object \n",
            " 14  What is your current occupation                9240 non-null   object \n",
            " 15  What matters most to you in choosing a course  9240 non-null   object \n",
            " 16  Search                                         9240 non-null   object \n",
            " 17  Magazine                                       9240 non-null   object \n",
            " 18  Newspaper Article                              9240 non-null   object \n",
            " 19  X Education Forums                             9240 non-null   object \n",
            " 20  Newspaper                                      9240 non-null   object \n",
            " 21  Digital Advertisement                          9240 non-null   object \n",
            " 22  Through Recommendations                        9240 non-null   object \n",
            " 23  Receive More Updates About Our Courses         9240 non-null   object \n",
            " 24  Tags                                           9240 non-null   object \n",
            " 25  Lead Quality                                   4473 non-null   object \n",
            " 26  Update me on Supply Chain Content              9240 non-null   object \n",
            " 27  Get updates on DM Content                      9240 non-null   object \n",
            " 28  Lead Profile                                   6531 non-null   object \n",
            " 29  City                                           9240 non-null   object \n",
            " 30  Asymmetrique Activity Index                    5022 non-null   object \n",
            " 31  Asymmetrique Profile Index                     5022 non-null   object \n",
            " 32  Asymmetrique Activity Score                    5022 non-null   float64\n",
            " 33  Asymmetrique Profile Score                     5022 non-null   float64\n",
            " 34  I agree to pay the amount through cheque       9240 non-null   object \n",
            " 35  A free copy of Mastering The Interview         9240 non-null   object \n",
            " 36  Last Notable Activity                          9240 non-null   object \n",
            "dtypes: float64(4), int64(3), object(30)\n",
            "memory usage: 2.6+ MB\n"
          ]
        }
      ],
      "source": [
        "lead_df['Specialization'] = lead_df['Specialization'].fillna('not provided')\n",
        "lead_df['City'] = lead_df['City'].fillna('not provided')\n",
        "lead_df['Tags'] = lead_df['Tags'].fillna('not provided')\n",
        "lead_df['What matters most to you in choosing a course'] = lead_df['What matters most to you in choosing a course'].fillna('not provided')\n",
        "lead_df['What is your current occupation'] = lead_df['What is your current occupation'].fillna('not provided')\n",
        "lead_df['Country'] = lead_df['Country'].fillna('not provided')\n",
        "lead_df.info()"
      ]
    },
    {
      "cell_type": "code",
      "execution_count": null,
      "metadata": {
        "id": "erKC_364DpsQ",
        "outputId": "11f06033-2f9b-4338-ef6f-5a7d52c9e4cb"
      },
      "outputs": [
        {
          "data": {
            "text/plain": [
              "Lead Origin                                      0.00\n",
              "Lead Source                                      0.39\n",
              "Do Not Email                                     0.00\n",
              "Do Not Call                                      0.00\n",
              "Converted                                        0.00\n",
              "TotalVisits                                      1.48\n",
              "Total Time Spent on Website                      0.00\n",
              "Page Views Per Visit                             1.48\n",
              "Last Activity                                    1.11\n",
              "Country                                          0.00\n",
              "Specialization                                   0.00\n",
              "What is your current occupation                  0.00\n",
              "What matters most to you in choosing a course    0.00\n",
              "Search                                           0.00\n",
              "Newspaper Article                                0.00\n",
              "X Education Forums                               0.00\n",
              "Newspaper                                        0.00\n",
              "Digital Advertisement                            0.00\n",
              "Through Recommendations                          0.00\n",
              "Tags                                             0.00\n",
              "City                                             0.00\n",
              "A free copy of Mastering The Interview           0.00\n",
              "Last Notable Activity                            0.00\n",
              "dtype: float64"
            ]
          },
          "execution_count": 18,
          "metadata": {},
          "output_type": "execute_result"
        }
      ],
      "source": [
        "#checking null values percentage\n",
        "\n",
        "round(100*(lead_df.isnull().sum()/len(lead_df.index)), 2)"
      ]
    },
    {
      "cell_type": "code",
      "execution_count": null,
      "metadata": {
        "id": "7dvx7L1jDpsR",
        "outputId": "275e3e9d-5249-484b-c922-71b0a2e8bb6b"
      },
      "outputs": [
        {
          "data": {
            "text/plain": [
              "(9240, 23)"
            ]
          },
          "execution_count": 19,
          "metadata": {},
          "output_type": "execute_result"
        }
      ],
      "source": [
        "Lead_data.shape"
      ]
    },
    {
      "cell_type": "markdown",
      "metadata": {
        "id": "eByHRFV4DpsR"
      },
      "source": [
        "### Categorical Attributes Analysis:"
      ]
    },
    {
      "cell_type": "code",
      "execution_count": null,
      "metadata": {
        "id": "HrNlytk8DpsR",
        "outputId": "6d1d0b62-1834-471e-d2ba-c2d47b33aa20"
      },
      "outputs": [
        {
          "data": {
            "text/plain": [
              "India                   6492\n",
              "not provided            2461\n",
              "United States             69\n",
              "United Arab Emirates      53\n",
              "Singapore                 24\n",
              "Saudi Arabia              21\n",
              "United Kingdom            15\n",
              "Australia                 13\n",
              "Qatar                     10\n",
              "Bahrain                    7\n",
              "Hong Kong                  7\n",
              "France                     6\n",
              "Oman                       6\n",
              "unknown                    5\n",
              "Canada                     4\n",
              "South Africa               4\n",
              "Nigeria                    4\n",
              "Kuwait                     4\n",
              "Germany                    4\n",
              "Sweden                     3\n",
              "Ghana                      2\n",
              "Uganda                     2\n",
              "Italy                      2\n",
              "Bangladesh                 2\n",
              "Philippines                2\n",
              "China                      2\n",
              "Netherlands                2\n",
              "Belgium                    2\n",
              "Asia/Pacific Region        2\n",
              "Russia                     1\n",
              "Kenya                      1\n",
              "Liberia                    1\n",
              "Denmark                    1\n",
              "Sri Lanka                  1\n",
              "Switzerland                1\n",
              "Vietnam                    1\n",
              "Tanzania                   1\n",
              "Malaysia                   1\n",
              "Indonesia                  1\n",
              "Name: Country, dtype: int64"
            ]
          },
          "execution_count": 20,
          "metadata": {},
          "output_type": "execute_result"
        }
      ],
      "source": [
        "Lead_data['Country'].value_counts()"
      ]
    },
    {
      "cell_type": "code",
      "execution_count": 14,
      "metadata": {
        "colab": {
          "base_uri": "https://localhost:8080/"
        },
        "id": "qZbKwXsoDpsS",
        "outputId": "1496db6c-7b5d-42e1-dfb0-31f6079acc48"
      },
      "outputs": [
        {
          "output_type": "execute_result",
          "data": {
            "text/plain": [
              "India            6492\n",
              "not provided     2461\n",
              "outside india     287\n",
              "Name: Country, dtype: int64"
            ]
          },
          "metadata": {},
          "execution_count": 14
        }
      ],
      "source": [
        "def cate(x):\n",
        "    category = \"\"\n",
        "    if x == \"India\":\n",
        "        category = \"India\"\n",
        "    elif x == \"not provided\":\n",
        "        category = \"not provided\"\n",
        "    else:\n",
        "        category = \"outside india\"\n",
        "    return category\n",
        "\n",
        "lead_df['Country'] = lead_df.apply(lambda x:cate(x['Country']), axis = 1)\n",
        "lead_df['Country'].value_counts()"
      ]
    },
    {
      "cell_type": "code",
      "execution_count": 15,
      "metadata": {
        "colab": {
          "base_uri": "https://localhost:8080/"
        },
        "id": "-opOXH5mDpsV",
        "outputId": "40609e42-e1ec-4480-f83a-4d34b3a62d9a"
      },
      "outputs": [
        {
          "output_type": "execute_result",
          "data": {
            "text/plain": [
              "India            8953\n",
              "outside india     287\n",
              "Name: Country, dtype: int64"
            ]
          },
          "metadata": {},
          "execution_count": 15
        }
      ],
      "source": [
        "# Since India is the most common occurence among the non-missing values we can impute all not provided values with India\n",
        "\n",
        "lead_df['Country'] = lead_df['Country'].replace('not provided','India')\n",
        "lead_df['Country'].value_counts()"
      ]
    },
    {
      "cell_type": "code",
      "execution_count": 17,
      "metadata": {
        "colab": {
          "base_uri": "https://localhost:8080/"
        },
        "id": "0ElzoQowDpsW",
        "outputId": "8616a239-a401-44b1-a754-228e8a91be28"
      },
      "outputs": [
        {
          "output_type": "execute_result",
          "data": {
            "text/plain": [
              "0.0"
            ]
          },
          "metadata": {},
          "execution_count": 17
        }
      ],
      "source": [
        "# Checking the percent of lose if the null values are removed\n",
        "round(100*(sum(lead_df.isnull().sum(axis=1) > 1)/lead_df.shape[0]),2)"
      ]
    },
    {
      "cell_type": "code",
      "execution_count": 16,
      "metadata": {
        "id": "loTZmLPIDpsX"
      },
      "outputs": [],
      "source": [
        "lead_df = lead_df[lead_df.isnull().sum(axis=1) <1]\n"
      ]
    },
    {
      "cell_type": "code",
      "execution_count": 18,
      "metadata": {
        "colab": {
          "base_uri": "https://localhost:8080/"
        },
        "id": "IMh1AzGHDpsX",
        "outputId": "cfa56c44-0398-4e37-edd4-7029ae145d67"
      },
      "outputs": [
        {
          "output_type": "execute_result",
          "data": {
            "text/plain": [
              "Prospect ID                                      0.0\n",
              "Lead Number                                      0.0\n",
              "Lead Origin                                      0.0\n",
              "Lead Source                                      0.0\n",
              "Do Not Email                                     0.0\n",
              "Do Not Call                                      0.0\n",
              "Converted                                        0.0\n",
              "TotalVisits                                      0.0\n",
              "Total Time Spent on Website                      0.0\n",
              "Page Views Per Visit                             0.0\n",
              "Last Activity                                    0.0\n",
              "Country                                          0.0\n",
              "Specialization                                   0.0\n",
              "How did you hear about X Education               0.0\n",
              "What is your current occupation                  0.0\n",
              "What matters most to you in choosing a course    0.0\n",
              "Search                                           0.0\n",
              "Magazine                                         0.0\n",
              "Newspaper Article                                0.0\n",
              "X Education Forums                               0.0\n",
              "Newspaper                                        0.0\n",
              "Digital Advertisement                            0.0\n",
              "Through Recommendations                          0.0\n",
              "Receive More Updates About Our Courses           0.0\n",
              "Tags                                             0.0\n",
              "Lead Quality                                     0.0\n",
              "Update me on Supply Chain Content                0.0\n",
              "Get updates on DM Content                        0.0\n",
              "Lead Profile                                     0.0\n",
              "City                                             0.0\n",
              "Asymmetrique Activity Index                      0.0\n",
              "Asymmetrique Profile Index                       0.0\n",
              "Asymmetrique Activity Score                      0.0\n",
              "Asymmetrique Profile Score                       0.0\n",
              "I agree to pay the amount through cheque         0.0\n",
              "A free copy of Mastering The Interview           0.0\n",
              "Last Notable Activity                            0.0\n",
              "dtype: float64"
            ]
          },
          "metadata": {},
          "execution_count": 18
        }
      ],
      "source": [
        "# Rechecking the percentage of missing values\n",
        "round(100*(lead_df.isnull().sum()/len(lead_df.index)), 2)"
      ]
    },
    {
      "cell_type": "code",
      "execution_count": null,
      "metadata": {
        "id": "jTjGoW4XDpsY",
        "outputId": "a3578f0e-bf80-4478-be10-18bcb740d0af"
      },
      "outputs": [
        {
          "data": {
            "text/plain": [
              "(9074, 23)"
            ]
          },
          "execution_count": 26,
          "metadata": {},
          "output_type": "execute_result"
        }
      ],
      "source": [
        "lead_df.shape"
      ]
    },
    {
      "cell_type": "code",
      "execution_count": 20,
      "metadata": {
        "colab": {
          "base_uri": "https://localhost:8080/",
          "height": 388
        },
        "id": "opV9qdQUDpsY",
        "outputId": "b8850592-22d1-42c2-8a4d-df2974b36509"
      },
      "outputs": [
        {
          "output_type": "display_data",
          "data": {
            "text/plain": [
              "<Figure size 1080x360 with 1 Axes>"
            ],
            "image/png": "[encoded data removed]"
          },
          "metadata": {
            "needs_background": "light"
          }
        }
      ],
      "source": [
        "#plotting spread of Country columnn after replacing NaN values\n",
        "\n",
        "plt.figure(figsize=(15,5))\n",
        "s1=sns.countplot(x=lead_df.Country, hue=lead_df.Converted)\n",
        "s1.set_xticklabels(s1.get_xticklabels(),rotation=90)\n",
        "plt.show()"
      ]
    },
    {
      "cell_type": "markdown",
      "metadata": {
        "id": "jSLQldtCDpsZ"
      },
      "source": [
        "As we can see the Number of Values for India are quite high (nearly 97% of the Data), this column can be dropped"
      ]
    },
    {
      "cell_type": "code",
      "execution_count": 21,
      "metadata": {
        "id": "ueF7VyOXDpsZ"
      },
      "outputs": [],
      "source": [
        "#creating a list of columns to be droppped\n",
        "\n",
        "cols_to_drop=['Country']"
      ]
    },
    {
      "cell_type": "code",
      "execution_count": 22,
      "metadata": {
        "colab": {
          "base_uri": "https://localhost:8080/"
        },
        "id": "YxcbR-SHDpsZ",
        "outputId": "5e26c60c-a230-4e07-b6e5-e7662276f974"
      },
      "outputs": [
        {
          "output_type": "execute_result",
          "data": {
            "text/plain": [
              "Mumbai                         1032\n",
              "Select                          590\n",
              "Thane & Outskirts               264\n",
              "Other Cities                    211\n",
              "Other Cities of Maharashtra     149\n",
              "Other Metro Cities              104\n",
              "Tier II Cities                   27\n",
              "Name: City, dtype: int64"
            ]
          },
          "metadata": {},
          "execution_count": 22
        }
      ],
      "source": [
        "#checking value counts of \"City\" column\n",
        "\n",
        "lead_df['City'].value_counts(dropna=False)"
      ]
    },
    {
      "cell_type": "code",
      "execution_count": 25,
      "metadata": {
        "colab": {
          "base_uri": "https://localhost:8080/",
          "height": 462
        },
        "id": "Pcisu8kwDpsa",
        "outputId": "25d3b10d-603c-4c61-db8d-3b6564ff12f3"
      },
      "outputs": [
        {
          "output_type": "display_data",
          "data": {
            "text/plain": [
              "<Figure size 720x360 with 1 Axes>"
            ],
            "image/png": "[encoded data removed]"
          },
          "metadata": {
            "needs_background": "light"
          }
        }
      ],
      "source": [
        "#plotting spread of City columnn\n",
        "\n",
        "plt.figure(figsize=(10,5))\n",
        "l1=sns.countplot(x=lead_df.City, hue=lead_df.Converted)\n",
        "l1.set_xticklabels(l1.get_xticklabels(),rotation=90)\n",
        "plt.show()"
      ]
    },
    {
      "cell_type": "code",
      "execution_count": null,
      "metadata": {
        "id": "4zOSeB_mDpsa",
        "outputId": "dfdf0bed-804e-4f80-ac1a-3a9a6c175910"
      },
      "outputs": [
        {
          "data": {
            "image/png": "[encoded data removed]",
            "text/plain": [
              "<Figure size 1440x2880 with 12 Axes>"
            ]
          },
          "metadata": {
            "needs_background": "light"
          },
          "output_type": "display_data"
        }
      ],
      "source": [
        "plt.figure(figsize = (20,40))\n",
        "\n",
        "plt.subplot(6,2,1)\n",
        "sns.countplot(x=lead_df['Lead Origin'])\n",
        "plt.title('Lead Origin')\n",
        "\n",
        "plt.subplot(6,2,2)\n",
        "sns.countplot(x=lead_df['Do Not Email'])\n",
        "plt.title('Do Not Email')\n",
        "\n",
        "plt.subplot(6,2,3)\n",
        "sns.countplot(x=lead_df['Do Not Call'])\n",
        "plt.title('Do Not Call')\n",
        "\n",
        "plt.subplot(6,2,4)\n",
        "sns.countplot(x=lead_df['Country'])\n",
        "plt.title('Country')\n",
        "\n",
        "plt.subplot(6,2,5)\n",
        "sns.countplot(x=lead_df['Search'])\n",
        "plt.title('Search')\n",
        "plt.subplot(6,2,6)\n",
        "sns.countplot(x=lead_df['Newspaper Article'])\n",
        "plt.title('Newspaper Article')\n",
        "\n",
        "plt.subplot(6,2,7)\n",
        "sns.countplot(x=lead_df['X Education Forums'])\n",
        "plt.title('X Education Forums')\n",
        "\n",
        "plt.subplot(6,2,8)\n",
        "sns.countplot(x=lead_df['Newspaper'])\n",
        "plt.title('Newspaper')\n",
        "\n",
        "plt.subplot(6,2,9)\n",
        "sns.countplot(x=lead_df['Digital Advertisement'])\n",
        "plt.title('Digital Advertisement')\n",
        "\n",
        "plt.subplot(6,2,10)\n",
        "sns.countplot(x=lead_df['Through Recommendations'])\n",
        "plt.title('Through Recommendations')\n",
        "\n",
        "plt.subplot(6,2,11)\n",
        "sns.countplot(x=lead_df['A free copy of Mastering The Interview'])\n",
        "plt.title('A free copy of Mastering The Interview')\n",
        "plt.subplot(6,2,12)\n",
        "sns.countplot(x=lead_df['Last Notable Activity']).tick_params(axis='x', rotation = 90)\n",
        "plt.title('Last Notable Activity')\n",
        "\n",
        "\n",
        "plt.show()"
      ]
    },
    {
      "cell_type": "code",
      "execution_count": 27,
      "metadata": {
        "colab": {
          "base_uri": "https://localhost:8080/",
          "height": 374
        },
        "id": "oWuzgZH7Dpsb",
        "outputId": "3d2eea18-5230-49cc-f812-8ee5ffa9aa37"
      },
      "outputs": [
        {
          "output_type": "display_data",
          "data": {
            "text/plain": [
              "<Figure size 432x288 with 1 Axes>"
            ],
            "image/png": "[encoded data removed]"
          },
          "metadata": {
            "needs_background": "light"
          }
        }
      ],
      "source": [
        "sns.countplot(x=lead_df['Lead Source']).tick_params(axis='x', rotation = 90)\n",
        "plt.title('Lead Source')\n",
        "plt.show()"
      ]
    },
    {
      "cell_type": "code",
      "execution_count": 79,
      "metadata": {
        "colab": {
          "base_uri": "https://localhost:8080/",
          "height": 1000
        },
        "id": "i9hvMPRQDpsb",
        "outputId": "3130bd7b-c1c0-4f1e-fa5b-e7c143ecd2aa"
      },
      "outputs": [
        {
          "output_type": "error",
          "ename": "ValueError",
          "evalue": "ignored",
          "traceback": [
            "\u001b[0;31m---------------------------------------------------------------------------\u001b[0m",
            "\u001b[0;31mValueError\u001b[0m                                Traceback (most recent call last)",
            "\u001b[0;32m<ipython-input-79-4d8ff86549ac>\u001b[0m in \u001b[0;36m<module>\u001b[0;34m\u001b[0m\n\u001b[1;32m      4\u001b[0m \u001b[0mplt\u001b[0m\u001b[0;34m.\u001b[0m\u001b[0mtitle\u001b[0m\u001b[0;34m(\u001b[0m\u001b[0;34m'Specialization'\u001b[0m\u001b[0;34m)\u001b[0m\u001b[0;34m\u001b[0m\u001b[0;34m\u001b[0m\u001b[0m\n\u001b[1;32m      5\u001b[0m \u001b[0mplt\u001b[0m\u001b[0;34m.\u001b[0m\u001b[0msubplot\u001b[0m\u001b[0;34m(\u001b[0m\u001b[0;36m2\u001b[0m\u001b[0;34m,\u001b[0m\u001b[0;36m2\u001b[0m\u001b[0;34m,\u001b[0m\u001b[0;36m2\u001b[0m\u001b[0;34m)\u001b[0m\u001b[0;34m\u001b[0m\u001b[0;34m\u001b[0m\u001b[0m\n\u001b[0;32m----> 6\u001b[0;31m \u001b[0msns\u001b[0m\u001b[0;34m.\u001b[0m\u001b[0mcountplot\u001b[0m\u001b[0;34m(\u001b[0m\u001b[0mlead_df\u001b[0m\u001b[0;34m[\u001b[0m\u001b[0;34m'What is your current occupation'\u001b[0m\u001b[0;34m]\u001b[0m\u001b[0;34m)\u001b[0m\u001b[0;34m.\u001b[0m\u001b[0mtick_params\u001b[0m\u001b[0;34m(\u001b[0m\u001b[0maxis\u001b[0m\u001b[0;34m=\u001b[0m\u001b[0;34m'x'\u001b[0m\u001b[0;34m,\u001b[0m \u001b[0mrotation\u001b[0m \u001b[0;34m=\u001b[0m \u001b[0;36m90\u001b[0m\u001b[0;34m)\u001b[0m\u001b[0;34m\u001b[0m\u001b[0;34m\u001b[0m\u001b[0m\n\u001b[0m\u001b[1;32m      7\u001b[0m \u001b[0mplt\u001b[0m\u001b[0;34m.\u001b[0m\u001b[0mtitle\u001b[0m\u001b[0;34m(\u001b[0m\u001b[0;34m'Current Occupation'\u001b[0m\u001b[0;34m)\u001b[0m\u001b[0;34m\u001b[0m\u001b[0;34m\u001b[0m\u001b[0m\n\u001b[1;32m      8\u001b[0m \u001b[0mplt\u001b[0m\u001b[0;34m.\u001b[0m\u001b[0msubplot\u001b[0m\u001b[0;34m(\u001b[0m\u001b[0;36m2\u001b[0m\u001b[0;34m,\u001b[0m\u001b[0;36m2\u001b[0m\u001b[0;34m,\u001b[0m\u001b[0;36m3\u001b[0m\u001b[0;34m)\u001b[0m\u001b[0;34m\u001b[0m\u001b[0;34m\u001b[0m\u001b[0m\n",
            "\u001b[0;32m/usr/local/lib/python3.9/dist-packages/seaborn/categorical.py\u001b[0m in \u001b[0;36mcountplot\u001b[0;34m(data, x, y, hue, order, hue_order, orient, color, palette, saturation, width, dodge, ax, **kwargs)\u001b[0m\n\u001b[1;32m   2941\u001b[0m         \u001b[0;32mraise\u001b[0m \u001b[0mValueError\u001b[0m\u001b[0;34m(\u001b[0m\u001b[0;34m\"Cannot pass values for both `x` and `y`\"\u001b[0m\u001b[0;34m)\u001b[0m\u001b[0;34m\u001b[0m\u001b[0;34m\u001b[0m\u001b[0m\n\u001b[1;32m   2942\u001b[0m \u001b[0;34m\u001b[0m\u001b[0m\n\u001b[0;32m-> 2943\u001b[0;31m     plotter = _CountPlotter(\n\u001b[0m\u001b[1;32m   2944\u001b[0m         \u001b[0mx\u001b[0m\u001b[0;34m,\u001b[0m \u001b[0my\u001b[0m\u001b[0;34m,\u001b[0m \u001b[0mhue\u001b[0m\u001b[0;34m,\u001b[0m \u001b[0mdata\u001b[0m\u001b[0;34m,\u001b[0m \u001b[0morder\u001b[0m\u001b[0;34m,\u001b[0m \u001b[0mhue_order\u001b[0m\u001b[0;34m,\u001b[0m\u001b[0;34m\u001b[0m\u001b[0;34m\u001b[0m\u001b[0m\n\u001b[1;32m   2945\u001b[0m         \u001b[0mestimator\u001b[0m\u001b[0;34m,\u001b[0m \u001b[0merrorbar\u001b[0m\u001b[0;34m,\u001b[0m \u001b[0mn_boot\u001b[0m\u001b[0;34m,\u001b[0m \u001b[0munits\u001b[0m\u001b[0;34m,\u001b[0m \u001b[0mseed\u001b[0m\u001b[0;34m,\u001b[0m\u001b[0;34m\u001b[0m\u001b[0;34m\u001b[0m\u001b[0m\n",
            "\u001b[0;32m/usr/local/lib/python3.9/dist-packages/seaborn/categorical.py\u001b[0m in \u001b[0;36m__init__\u001b[0;34m(self, x, y, hue, data, order, hue_order, estimator, errorbar, n_boot, units, seed, orient, color, palette, saturation, width, errcolor, errwidth, capsize, dodge)\u001b[0m\n\u001b[1;32m   1528\u001b[0m                  errcolor, errwidth, capsize, dodge):\n\u001b[1;32m   1529\u001b[0m         \u001b[0;34m\"\"\"Initialize the plotter.\"\"\"\u001b[0m\u001b[0;34m\u001b[0m\u001b[0;34m\u001b[0m\u001b[0m\n\u001b[0;32m-> 1530\u001b[0;31m         self.establish_variables(x, y, hue, data, orient,\n\u001b[0m\u001b[1;32m   1531\u001b[0m                                  order, hue_order, units)\n\u001b[1;32m   1532\u001b[0m         \u001b[0mself\u001b[0m\u001b[0;34m.\u001b[0m\u001b[0mestablish_colors\u001b[0m\u001b[0;34m(\u001b[0m\u001b[0mcolor\u001b[0m\u001b[0;34m,\u001b[0m \u001b[0mpalette\u001b[0m\u001b[0;34m,\u001b[0m \u001b[0msaturation\u001b[0m\u001b[0;34m)\u001b[0m\u001b[0;34m\u001b[0m\u001b[0;34m\u001b[0m\u001b[0m\n",
            "\u001b[0;32m/usr/local/lib/python3.9/dist-packages/seaborn/categorical.py\u001b[0m in \u001b[0;36mestablish_variables\u001b[0;34m(self, x, y, hue, data, orient, order, hue_order, units)\u001b[0m\n\u001b[1;32m    514\u001b[0m \u001b[0;34m\u001b[0m\u001b[0m\n\u001b[1;32m    515\u001b[0m                 \u001b[0;31m# Convert to a list of arrays, the common representation\u001b[0m\u001b[0;34m\u001b[0m\u001b[0;34m\u001b[0m\u001b[0m\n\u001b[0;32m--> 516\u001b[0;31m                 \u001b[0mplot_data\u001b[0m \u001b[0;34m=\u001b[0m \u001b[0;34m[\u001b[0m\u001b[0mnp\u001b[0m\u001b[0;34m.\u001b[0m\u001b[0masarray\u001b[0m\u001b[0;34m(\u001b[0m\u001b[0md\u001b[0m\u001b[0;34m,\u001b[0m \u001b[0mfloat\u001b[0m\u001b[0;34m)\u001b[0m \u001b[0;32mfor\u001b[0m \u001b[0md\u001b[0m \u001b[0;32min\u001b[0m \u001b[0mplot_data\u001b[0m\u001b[0;34m]\u001b[0m\u001b[0;34m\u001b[0m\u001b[0;34m\u001b[0m\u001b[0m\n\u001b[0m\u001b[1;32m    517\u001b[0m \u001b[0;34m\u001b[0m\u001b[0m\n\u001b[1;32m    518\u001b[0m                 \u001b[0;31m# The group names will just be numeric indices\u001b[0m\u001b[0;34m\u001b[0m\u001b[0;34m\u001b[0m\u001b[0m\n",
            "\u001b[0;32m/usr/local/lib/python3.9/dist-packages/seaborn/categorical.py\u001b[0m in \u001b[0;36m<listcomp>\u001b[0;34m(.0)\u001b[0m\n\u001b[1;32m    514\u001b[0m \u001b[0;34m\u001b[0m\u001b[0m\n\u001b[1;32m    515\u001b[0m                 \u001b[0;31m# Convert to a list of arrays, the common representation\u001b[0m\u001b[0;34m\u001b[0m\u001b[0;34m\u001b[0m\u001b[0m\n\u001b[0;32m--> 516\u001b[0;31m                 \u001b[0mplot_data\u001b[0m \u001b[0;34m=\u001b[0m \u001b[0;34m[\u001b[0m\u001b[0mnp\u001b[0m\u001b[0;34m.\u001b[0m\u001b[0masarray\u001b[0m\u001b[0;34m(\u001b[0m\u001b[0md\u001b[0m\u001b[0;34m,\u001b[0m \u001b[0mfloat\u001b[0m\u001b[0;34m)\u001b[0m \u001b[0;32mfor\u001b[0m \u001b[0md\u001b[0m \u001b[0;32min\u001b[0m \u001b[0mplot_data\u001b[0m\u001b[0;34m]\u001b[0m\u001b[0;34m\u001b[0m\u001b[0;34m\u001b[0m\u001b[0m\n\u001b[0m\u001b[1;32m    517\u001b[0m \u001b[0;34m\u001b[0m\u001b[0m\n\u001b[1;32m    518\u001b[0m                 \u001b[0;31m# The group names will just be numeric indices\u001b[0m\u001b[0;34m\u001b[0m\u001b[0;34m\u001b[0m\u001b[0m\n",
            "\u001b[0;32m/usr/local/lib/python3.9/dist-packages/pandas/core/series.py\u001b[0m in \u001b[0;36m__array__\u001b[0;34m(self, dtype)\u001b[0m\n\u001b[1;32m    870\u001b[0m               dtype='datetime64[ns]')\n\u001b[1;32m    871\u001b[0m         \"\"\"\n\u001b[0;32m--> 872\u001b[0;31m         \u001b[0;32mreturn\u001b[0m \u001b[0mnp\u001b[0m\u001b[0;34m.\u001b[0m\u001b[0masarray\u001b[0m\u001b[0;34m(\u001b[0m\u001b[0mself\u001b[0m\u001b[0;34m.\u001b[0m\u001b[0m_values\u001b[0m\u001b[0;34m,\u001b[0m \u001b[0mdtype\u001b[0m\u001b[0;34m)\u001b[0m\u001b[0;34m\u001b[0m\u001b[0;34m\u001b[0m\u001b[0m\n\u001b[0m\u001b[1;32m    873\u001b[0m \u001b[0;34m\u001b[0m\u001b[0m\n\u001b[1;32m    874\u001b[0m     \u001b[0;31m# ----------------------------------------------------------------------\u001b[0m\u001b[0;34m\u001b[0m\u001b[0;34m\u001b[0m\u001b[0m\n",
            "\u001b[0;31mValueError\u001b[0m: could not convert string to float: 'Unemployed'"
          ]
        },
        {
          "output_type": "display_data",
          "data": {
            "text/plain": [
              "<Figure size 1440x2160 with 2 Axes>"
            ],
            "image/png": "[encoded data removed]"
          },
          "metadata": {
            "needs_background": "light"
          }
        }
      ],
      "source": [
        "plt.figure(figsize = (20,30))\n",
        "plt.subplot(2,2,1)\n",
        "sns.countplot(x=lead_df['Specialization']).tick_params(axis='x', rotation = 90)\n",
        "plt.title('Specialization')\n",
        "plt.subplot(2,2,2)\n",
        "sns.countplot(lead_df['What is your current occupation']).tick_params(axis='x', rotation = 90)\n",
        "plt.title('Current Occupation')\n",
        "plt.subplot(2,2,3)\n",
        "sns.countplot(lead_df['What matters most to you in choosing a course']).tick_params(axis='x', rotation = 90)\n",
        "plt.title('What matters most to you in choosing a course')\n",
        "plt.subplot(2,2,4)\n",
        "sns.countplot(lead_df['Last Activity']).tick_params(axis='x', rotation = 90)\n",
        "plt.title('Last Activity')\n",
        "plt.show()"
      ]
    },
    {
      "cell_type": "code",
      "execution_count": 29,
      "metadata": {
        "colab": {
          "base_uri": "https://localhost:8080/",
          "height": 295
        },
        "id": "vL6t0oA0Dpsb",
        "outputId": "6c8f6ece-b456-4a0b-a88f-81857d20a1b3"
      },
      "outputs": [
        {
          "output_type": "display_data",
          "data": {
            "text/plain": [
              "<Figure size 432x288 with 1 Axes>"
            ],
            "image/png": "[encoded data removed]"
          },
          "metadata": {
            "needs_background": "light"
          }
        }
      ],
      "source": [
        "sns.countplot(x=lead_df['Converted'])\n",
        "plt.title('Converted(\"Y variable\")')\n",
        "plt.show()"
      ]
    },
    {
      "cell_type": "markdown",
      "metadata": {
        "id": "m5XARl2-Dpsc"
      },
      "source": [
        "## Numerical Variables"
      ]
    },
    {
      "cell_type": "code",
      "execution_count": 30,
      "metadata": {
        "colab": {
          "base_uri": "https://localhost:8080/",
          "height": 607
        },
        "id": "t56B1vACDpsc",
        "outputId": "eb71c967-1332-4034-bd51-f300e9469d64"
      },
      "outputs": [
        {
          "output_type": "display_data",
          "data": {
            "text/plain": [
              "<Figure size 720x720 with 3 Axes>"
            ],
            "image/png": "[encoded data removed]"
          },
          "metadata": {
            "needs_background": "light"
          }
        }
      ],
      "source": [
        "\n",
        "plt.figure(figsize = (10,10))\n",
        "plt.subplot(221)\n",
        "plt.hist(x=lead_df['TotalVisits'], bins = 200)\n",
        "plt.title('Total Visits')\n",
        "plt.xlim(0,25)\n",
        "\n",
        "plt.subplot(222)\n",
        "plt.hist(x=lead_df['Total Time Spent on Website'], bins = 10)\n",
        "plt.title('Total Time Spent on Website')\n",
        "\n",
        "plt.subplot(223)\n",
        "plt.hist(x=lead_df['Page Views Per Visit'], bins = 20)\n",
        "plt.title('Page Views Per Visit')\n",
        "plt.xlim(0,20)\n",
        "plt.show( )         "
      ]
    },
    {
      "cell_type": "markdown",
      "metadata": {
        "id": "kLZPXiSWDpsd"
      },
      "source": [
        "## Relating all the categorical variables to Converted"
      ]
    },
    {
      "cell_type": "code",
      "execution_count": 31,
      "metadata": {
        "colab": {
          "base_uri": "https://localhost:8080/",
          "height": 442
        },
        "id": "NZZnBGOeDpsd",
        "outputId": "6fe19b54-14ae-4382-f9c6-8888a7be1cdc"
      },
      "outputs": [
        {
          "output_type": "display_data",
          "data": {
            "text/plain": [
              "<Figure size 720x720 with 2 Axes>"
            ],
            "image/png": "[encoded data removed]"
          },
          "metadata": {
            "needs_background": "light"
          }
        }
      ],
      "source": [
        "plt.figure(figsize = (10,10))\n",
        "\n",
        "plt.subplot(2,2,1)\n",
        "sns.countplot(x='Lead Origin', hue='Converted', data= lead_df).tick_params(axis='x', rotation = 90)\n",
        "plt.title('Lead Origin')\n",
        "\n",
        "plt.subplot(2,2,2)\n",
        "sns.countplot(x='Lead Source', hue='Converted', data= lead_df).tick_params(axis='x', rotation = 90)\n",
        "plt.title('Lead Source')\n",
        "plt.show()\n",
        "\n"
      ]
    },
    {
      "cell_type": "code",
      "execution_count": 33,
      "metadata": {
        "colab": {
          "base_uri": "https://localhost:8080/",
          "height": 356
        },
        "id": "NPDKhwuXDpse",
        "outputId": "2071fb4d-0569-4403-8619-0851383b72ec"
      },
      "outputs": [
        {
          "output_type": "display_data",
          "data": {
            "text/plain": [
              "<Figure size 720x360 with 2 Axes>"
            ],
            "image/png": "[encoded data removed]"
          },
          "metadata": {
            "needs_background": "light"
          }
        }
      ],
      "source": [
        "plt.figure(figsize=(10 ,5))\n",
        "plt.subplot(1,2,1)\n",
        "sns.countplot(x='Do Not Email', hue='Converted', data= lead_df).tick_params(axis='x', rotation = 90)\n",
        "plt.title('Do Not Email')\n",
        "\n",
        "plt.subplot(1,2,2)\n",
        "sns.countplot(x='Do Not Call', hue='Converted', data= lead_df).tick_params(axis='x', rotation = 90)\n",
        "plt.title('Do Not Call')\n",
        "plt.show()"
      ]
    },
    {
      "cell_type": "code",
      "execution_count": 34,
      "metadata": {
        "colab": {
          "base_uri": "https://localhost:8080/",
          "height": 479
        },
        "id": "MlIheYPGDpse",
        "outputId": "691d6112-b6af-4eea-e534-7d04af55d2f1"
      },
      "outputs": [
        {
          "output_type": "display_data",
          "data": {
            "text/plain": [
              "<Figure size 720x360 with 2 Axes>"
            ],
            "image/png": "[encoded data removed]"
          },
          "metadata": {
            "needs_background": "light"
          }
        }
      ],
      "source": [
        "plt.figure(figsize = (10,5))\n",
        "\n",
        "plt.subplot(1,2,1)\n",
        "sns.countplot(x='Last Activity', hue='Converted', data= lead_df).tick_params(axis='x', rotation = 90)\n",
        "plt.title('Last Activity')\n",
        "\n",
        "plt.subplot(1,2,2)\n",
        "sns.countplot(x='Country', hue='Converted', data= lead_df).tick_params(axis='x', rotation = 90)\n",
        "plt.title('Country')\n",
        "plt.show()"
      ]
    },
    {
      "cell_type": "code",
      "execution_count": 35,
      "metadata": {
        "colab": {
          "base_uri": "https://localhost:8080/",
          "height": 518
        },
        "id": "WM6rGqDBDpsf",
        "outputId": "ed3f1ce0-bd98-4b82-bcc7-4580e121c0ed"
      },
      "outputs": [
        {
          "output_type": "display_data",
          "data": {
            "text/plain": [
              "<Figure size 720x360 with 2 Axes>"
            ],
            "image/png": "[encoded data removed]"
          },
          "metadata": {
            "needs_background": "light"
          }
        }
      ],
      "source": [
        "plt.figure(figsize = (10,5))\n",
        "\n",
        "plt.subplot(1,2,1)\n",
        "sns.countplot(x='Specialization', hue='Converted', data= lead_df).tick_params(axis='x', rotation = 90)\n",
        "plt.title('Specialization')\n",
        "\n",
        "plt.subplot(1,2,2)\n",
        "sns.countplot(x='What is your current occupation', hue='Converted', data= lead_df).tick_params(axis='x', rotation = 90)\n",
        "plt.title('What is your current occupation')\n",
        "plt.show()"
      ]
    },
    {
      "cell_type": "code",
      "execution_count": 36,
      "metadata": {
        "colab": {
          "base_uri": "https://localhost:8080/",
          "height": 458
        },
        "id": "FD9m1MiCDpsf",
        "outputId": "5ca1075b-24dd-44a0-dc7e-a71cdbdfffee"
      },
      "outputs": [
        {
          "output_type": "display_data",
          "data": {
            "text/plain": [
              "<Figure size 720x360 with 2 Axes>"
            ],
            "image/png": "[encoded data removed]"
          },
          "metadata": {
            "needs_background": "light"
          }
        }
      ],
      "source": [
        "plt.figure(figsize = (10,5))\n",
        "\n",
        "plt.subplot(1,2,1)\n",
        "sns.countplot(x='What matters most to you in choosing a course', hue='Converted', data= lead_df).tick_params(axis='x', rotation = 90)\n",
        "plt.title('What matters most to you in choosing a course')\n",
        "\n",
        "plt.subplot(1,2,2)\n",
        "sns.countplot(x='Search', hue='Converted', data= lead_df).tick_params(axis='x', rotation = 90)\n",
        "plt.title('Search')\n",
        "plt.show()"
      ]
    },
    {
      "cell_type": "code",
      "execution_count": 37,
      "metadata": {
        "colab": {
          "base_uri": "https://localhost:8080/",
          "height": 356
        },
        "id": "ZWHUO4OYDpsg",
        "outputId": "2715323e-1fea-43a9-e13e-78b6f6e8f1ea"
      },
      "outputs": [
        {
          "output_type": "display_data",
          "data": {
            "text/plain": [
              "<Figure size 720x360 with 2 Axes>"
            ],
            "image/png": "[encoded data removed]"
          },
          "metadata": {
            "needs_background": "light"
          }
        }
      ],
      "source": [
        "plt.figure(figsize = (10,5))\n",
        "\n",
        "plt.subplot(1,2,1)\n",
        "sns.countplot(x='Newspaper Article', hue='Converted', data= lead_df).tick_params(axis='x', rotation = 90)\n",
        "plt.title('Newspaper Article')\n",
        "\n",
        "plt.subplot(1,2,2)\n",
        "sns.countplot(x='X Education Forums', hue='Converted', data=lead_df).tick_params(axis='x', rotation = 90)\n",
        "plt.title('X Education Forums')\n",
        "plt.show()"
      ]
    },
    {
      "cell_type": "code",
      "execution_count": 38,
      "metadata": {
        "colab": {
          "base_uri": "https://localhost:8080/",
          "height": 356
        },
        "id": "AGD8UJ-RDpsg",
        "outputId": "317b2b87-f863-4936-d370-24d2e1f40107"
      },
      "outputs": [
        {
          "output_type": "display_data",
          "data": {
            "text/plain": [
              "<Figure size 720x360 with 2 Axes>"
            ],
            "image/png": "[encoded data removed]"
          },
          "metadata": {
            "needs_background": "light"
          }
        }
      ],
      "source": [
        "plt.figure(figsize = (10,5))\n",
        "\n",
        "plt.subplot(1,2,1)\n",
        "sns.countplot(x='Newspaper', hue='Converted', data= lead_df).tick_params(axis='x', rotation = 90)\n",
        "plt.title('Newspaper')\n",
        "\n",
        "plt.subplot(1,2,2)\n",
        "sns.countplot(x='Digital Advertisement', hue='Converted', data= lead_df).tick_params(axis='x', rotation = 90)\n",
        "plt.title('Digital Advertisement')\n",
        "plt.show()"
      ]
    },
    {
      "cell_type": "code",
      "execution_count": 39,
      "metadata": {
        "colab": {
          "base_uri": "https://localhost:8080/",
          "height": 356
        },
        "id": "0L8XFw3WDpsn",
        "outputId": "a03cf6c5-0ae8-4403-846d-ffa53e2ce8ff"
      },
      "outputs": [
        {
          "output_type": "display_data",
          "data": {
            "text/plain": [
              "<Figure size 720x360 with 2 Axes>"
            ],
            "image/png": "[encoded data removed]"
          },
          "metadata": {
            "needs_background": "light"
          }
        }
      ],
      "source": [
        "plt.figure(figsize = (10,5))\n",
        "\n",
        "plt.subplot(1,2,1)\n",
        "sns.countplot(x='Through Recommendations', hue='Converted', data= lead_df).tick_params(axis='x', rotation = 90)\n",
        "plt.title('Through Recommendations')\n",
        "\n",
        "plt.subplot(1,2,2)\n",
        "sns.countplot(x='A free copy of Mastering The Interview', hue='Converted', data= lead_df).tick_params(axis='x', rotation = 90)\n",
        "plt.title('A free copy of Mastering The Interview')\n",
        "plt.show()"
      ]
    },
    {
      "cell_type": "code",
      "execution_count": 40,
      "metadata": {
        "colab": {
          "base_uri": "https://localhost:8080/",
          "height": 418
        },
        "id": "LYy8FvrrDpsn",
        "outputId": "5cdceaab-c71e-4923-d174-19dce309ffc8"
      },
      "outputs": [
        {
          "output_type": "display_data",
          "data": {
            "text/plain": [
              "<Figure size 432x288 with 1 Axes>"
            ],
            "image/png": "[encoded data removed]"
          },
          "metadata": {
            "needs_background": "light"
          }
        }
      ],
      "source": [
        "sns.countplot(x='Last Notable Activity', hue='Converted', data= lead_df).tick_params(axis='x', rotation = 90)\n",
        "plt.title('Last Notable Activity')\n",
        "plt.show()"
      ]
    },
    {
      "cell_type": "code",
      "execution_count": null,
      "metadata": {
        "id": "eN7ZG6z0Dpso",
        "outputId": "6b2b23dc-fd39-4c4a-a879-7ad2eb3a8b94"
      },
      "outputs": [
        {
          "data": {
            "image/png": "[encoded data removed]",
            "text/plain": [
              "<Figure size 720x360 with 2 Axes>"
            ]
          },
          "metadata": {
            "needs_background": "light"
          },
          "output_type": "display_data"
        }
      ],
      "source": [
        "# To check the correlation among varibles\n",
        "plt.figure(figsize=(10,5))\n",
        "sns.heatmap(lead_df.corr(), )\n",
        "plt.show()"
      ]
    },
    {
      "cell_type": "markdown",
      "metadata": {
        "id": "El0W-5ggDpso"
      },
      "source": [
        "It is understandable from the above EDA that there are many elements that have very little data and so will be of less relevance to our analysis."
      ]
    },
    {
      "cell_type": "markdown",
      "metadata": {
        "id": "nGwf-CyTDpsp"
      },
      "source": [
        "## Outlier"
      ]
    },
    {
      "cell_type": "code",
      "execution_count": 41,
      "metadata": {
        "colab": {
          "base_uri": "https://localhost:8080/",
          "height": 363
        },
        "id": "WhjUmS5_Dpsp",
        "outputId": "3dbe071a-5aab-417c-c834-a17a5f16bcb2"
      },
      "outputs": [
        {
          "output_type": "execute_result",
          "data": {
            "text/plain": [
              "       TotalVisits  Total Time Spent on Website  Page Views Per Visit\n",
              "count  2377.000000                  2377.000000           2377.000000\n",
              "mean      3.972655                   613.705090              2.667766\n",
              "std       3.832302                   579.616968              2.071051\n",
              "min       0.000000                     0.000000              0.000000\n",
              "25%       2.000000                    77.000000              1.500000\n",
              "50%       3.000000                   377.000000              2.000000\n",
              "75%       5.000000                  1120.000000              4.000000\n",
              "90%       8.000000                  1487.800000              5.000000\n",
              "99%      18.240000                  1862.240000              9.240000\n",
              "max      43.000000                  2253.000000             15.000000"
            ],
            "text/html": [
              "\n",
              "  <div id=\"df-0d152900-fda5-4084-a265-97545e4c9e24\">\n",
              "    <div class=\"colab-df-container\">\n",
              "      <div>\n",
              "<style scoped>\n",
              "    .dataframe tbody tr th:only-of-type {\n",
              "        vertical-align: middle;\n",
              "    }\n",
              "\n",
              "    .dataframe tbody tr th {\n",
              "        vertical-align: top;\n",
              "    }\n",
              "\n",
              "    .dataframe thead th {\n",
              "        text-align: right;\n",
              "    }\n",
              "</style>\n",
              "<table border=\"1\" class=\"dataframe\">\n",
              "  <thead>\n",
              "    <tr style=\"text-align: right;\">\n",
              "      <th></th>\n",
              "      <th>TotalVisits</th>\n",
              "      <th>Total Time Spent on Website</th>\n",
              "      <th>Page Views Per Visit</th>\n",
              "    </tr>\n",
              "  </thead>\n",
              "  <tbody>\n",
              "    <tr>\n",
              "      <th>count</th>\n",
              "      <td>2377.000000</td>\n",
              "      <td>2377.000000</td>\n",
              "      <td>2377.000000</td>\n",
              "    </tr>\n",
              "    <tr>\n",
              "      <th>mean</th>\n",
              "      <td>3.972655</td>\n",
              "      <td>613.705090</td>\n",
              "      <td>2.667766</td>\n",
              "    </tr>\n",
              "    <tr>\n",
              "      <th>std</th>\n",
              "      <td>3.832302</td>\n",
              "      <td>579.616968</td>\n",
              "      <td>2.071051</td>\n",
              "    </tr>\n",
              "    <tr>\n",
              "      <th>min</th>\n",
              "      <td>0.000000</td>\n",
              "      <td>0.000000</td>\n",
              "      <td>0.000000</td>\n",
              "    </tr>\n",
              "    <tr>\n",
              "      <th>25%</th>\n",
              "      <td>2.000000</td>\n",
              "      <td>77.000000</td>\n",
              "      <td>1.500000</td>\n",
              "    </tr>\n",
              "    <tr>\n",
              "      <th>50%</th>\n",
              "      <td>3.000000</td>\n",
              "      <td>377.000000</td>\n",
              "      <td>2.000000</td>\n",
              "    </tr>\n",
              "    <tr>\n",
              "      <th>75%</th>\n",
              "      <td>5.000000</td>\n",
              "      <td>1120.000000</td>\n",
              "      <td>4.000000</td>\n",
              "    </tr>\n",
              "    <tr>\n",
              "      <th>90%</th>\n",
              "      <td>8.000000</td>\n",
              "      <td>1487.800000</td>\n",
              "      <td>5.000000</td>\n",
              "    </tr>\n",
              "    <tr>\n",
              "      <th>99%</th>\n",
              "      <td>18.240000</td>\n",
              "      <td>1862.240000</td>\n",
              "      <td>9.240000</td>\n",
              "    </tr>\n",
              "    <tr>\n",
              "      <th>max</th>\n",
              "      <td>43.000000</td>\n",
              "      <td>2253.000000</td>\n",
              "      <td>15.000000</td>\n",
              "    </tr>\n",
              "  </tbody>\n",
              "</table>\n",
              "</div>\n",
              "      <button class=\"colab-df-convert\" onclick=\"convertToInteractive('df-0d152900-fda5-4084-a265-97545e4c9e24')\"\n",
              "              title=\"Convert this dataframe to an interactive table.\"\n",
              "              style=\"display:none;\">\n",
              "        \n",
              "  <svg xmlns=\"http://www.w3.org/2000/svg\" height=\"24px\"viewBox=\"0 0 24 24\"\n",
              "       width=\"24px\">\n",
              "    <path d=\"M0 0h24v24H0V0z\" fill=\"none\"/>\n",
              "    <path d=\"M18.56 5.44l.94 2.06.94-2.06 2.06-.94-2.06-.94-.94-2.06-.94 2.06-2.06.94zm-11 1L8.5 8.5l.94-2.06 2.06-.94-2.06-.94L8.5 2.5l-.94 2.06-2.06.94zm10 10l.94 2.06.94-2.06 2.06-.94-2.06-.94-.94-2.06-.94 2.06-2.06.94z\"/><path d=\"M17.41 7.96l-1.37-1.37c-.4-.4-.92-.59-1.43-.59-.52 0-1.04.2-1.43.59L10.3 9.45l-7.72 7.72c-.78.78-.78 2.05 0 2.83L4 21.41c.39.39.9.59 1.41.59.51 0 1.02-.2 1.41-.59l7.78-7.78 2.81-2.81c.8-.78.8-2.07 0-2.86zM5.41 20L4 18.59l7.72-7.72 1.47 1.35L5.41 20z\"/>\n",
              "  </svg>\n",
              "      </button>\n",
              "      \n",
              "  <style>\n",
              "    .colab-df-container {\n",
              "      display:flex;\n",
              "      flex-wrap:wrap;\n",
              "      gap: 12px;\n",
              "    }\n",
              "\n",
              "    .colab-df-convert {\n",
              "      background-color: #E8F0FE;\n",
              "      border: none;\n",
              "      border-radius: 50%;\n",
              "      cursor: pointer;\n",
              "      display: none;\n",
              "      fill: #1967D2;\n",
              "      height: 32px;\n",
              "      padding: 0 0 0 0;\n",
              "      width: 32px;\n",
              "    }\n",
              "\n",
              "    .colab-df-convert:hover {\n",
              "      background-color: #E2EBFA;\n",
              "      box-shadow: 0px 1px 2px rgba(60, 64, 67, 0.3), 0px 1px 3px 1px rgba(60, 64, 67, 0.15);\n",
              "      fill: #174EA6;\n",
              "    }\n",
              "\n",
              "    [theme=dark] .colab-df-convert {\n",
              "      background-color: #3B4455;\n",
              "      fill: #D2E3FC;\n",
              "    }\n",
              "\n",
              "    [theme=dark] .colab-df-convert:hover {\n",
              "      background-color: #434B5C;\n",
              "      box-shadow: 0px 1px 3px 1px rgba(0, 0, 0, 0.15);\n",
              "      filter: drop-shadow(0px 1px 2px rgba(0, 0, 0, 0.3));\n",
              "      fill: #FFFFFF;\n",
              "    }\n",
              "  </style>\n",
              "\n",
              "      <script>\n",
              "        const buttonEl =\n",
              "          document.querySelector('#df-0d152900-fda5-4084-a265-97545e4c9e24 button.colab-df-convert');\n",
              "        buttonEl.style.display =\n",
              "          google.colab.kernel.accessAllowed ? 'block' : 'none';\n",
              "\n",
              "        async function convertToInteractive(key) {\n",
              "          const element = document.querySelector('#df-0d152900-fda5-4084-a265-97545e4c9e24');\n",
              "          const dataTable =\n",
              "            await google.colab.kernel.invokeFunction('convertToInteractive',\n",
              "                                                     [key], {});\n",
              "          if (!dataTable) return;\n",
              "\n",
              "          const docLinkHtml = 'Like what you see? Visit the ' +\n",
              "            '<a target=\"_blank\" href=https://colab.research.google.com/notebooks/data_table.ipynb>data table notebook</a>'\n",
              "            + ' to learn more about interactive tables.';\n",
              "          element.innerHTML = '';\n",
              "          dataTable['output_type'] = 'display_data';\n",
              "          await google.colab.output.renderOutput(dataTable, element);\n",
              "          const docLink = document.createElement('div');\n",
              "          docLink.innerHTML = docLinkHtml;\n",
              "          element.appendChild(docLink);\n",
              "        }\n",
              "      </script>\n",
              "    </div>\n",
              "  </div>\n",
              "  "
            ]
          },
          "metadata": {},
          "execution_count": 41
        }
      ],
      "source": [
        "numeric = lead_df[['TotalVisits','Total Time Spent on Website','Page Views Per Visit']]\n",
        "numeric.describe(percentiles=[0.25,0.5,0.75,0.9,0.99])"
      ]
    },
    {
      "cell_type": "code",
      "execution_count": 42,
      "metadata": {
        "colab": {
          "base_uri": "https://localhost:8080/",
          "height": 306
        },
        "id": "d6haM92_Dpsp",
        "outputId": "6f317a07-05f9-44e4-acf2-b9849db62c9a"
      },
      "outputs": [
        {
          "output_type": "display_data",
          "data": {
            "text/plain": [
              "<Figure size 360x360 with 1 Axes>"
            ],
            "image/png": "[encoded data removed]"
          },
          "metadata": {
            "needs_background": "light"
          }
        }
      ],
      "source": [
        "plt.figure(figsize = (5,5))\n",
        "sns.boxplot(y=lead_df['TotalVisits'])\n",
        "plt.show()\n",
        "\n"
      ]
    },
    {
      "cell_type": "code",
      "execution_count": null,
      "metadata": {
        "id": "tLKUDD3DDpsq",
        "outputId": "4cbc5af9-243c-4e03-f1f8-cb47130e21a0"
      },
      "outputs": [
        {
          "data": {
            "image/png": "[encoded data removed]",
            "text/plain": [
              "<Figure size 432x288 with 1 Axes>"
            ]
          },
          "metadata": {
            "needs_background": "light"
          },
          "output_type": "display_data"
        }
      ],
      "source": [
        "sns.boxplot(y=lead_df['Total Time Spent on Website'])\n",
        "plt.show()\n"
      ]
    },
    {
      "cell_type": "code",
      "execution_count": null,
      "metadata": {
        "id": "s536tZc2Dpsq",
        "outputId": "946df885-f86d-4bae-e4b6-6df629600346"
      },
      "outputs": [
        {
          "data": {
            "image/png": "[encoded data removed]",
            "text/plain": [
              "<Figure size 432x288 with 1 Axes>"
            ]
          },
          "metadata": {
            "needs_background": "light"
          },
          "output_type": "display_data"
        }
      ],
      "source": [
        "sns.boxplot(y=lead_df['Page Views Per Visit'])\n",
        "plt.show()\n"
      ]
    },
    {
      "cell_type": "markdown",
      "metadata": {
        "id": "XAxVovgLDpsq"
      },
      "source": [
        "We can see presence of outliers in TotalVisits "
      ]
    },
    {
      "cell_type": "code",
      "execution_count": 43,
      "metadata": {
        "colab": {
          "base_uri": "https://localhost:8080/",
          "height": 252
        },
        "id": "_94u5MM9Dpsr",
        "outputId": "79323086-2e95-4ae5-9e58-70aa0118a1f7"
      },
      "outputs": [
        {
          "output_type": "display_data",
          "data": {
            "text/plain": [
              "<Figure size 432x288 with 1 Axes>"
            ],
            "image/png": "[encoded data removed]"
          },
          "metadata": {
            "needs_background": "light"
          }
        }
      ],
      "source": [
        "#Outlier Treatment: Remove top & bottom 1% of the Column Outlier values\n",
        "\n",
        "Q3 = lead_df.TotalVisits.quantile(0.99)\n",
        "lead_df = lead_df[(lead_df.TotalVisits <= Q3)]\n",
        "Q1 = lead_df.TotalVisits.quantile(0.01)\n",
        "lead_df = lead_df[(lead_df.TotalVisits >= Q1)]\n",
        "sns.boxplot(y=lead_df['TotalVisits'])\n",
        "plt.show()"
      ]
    },
    {
      "cell_type": "markdown",
      "metadata": {
        "id": "ZMDDXfk2Dpsr"
      },
      "source": [
        "## Dummy Variables"
      ]
    },
    {
      "cell_type": "code",
      "execution_count": null,
      "metadata": {
        "id": "_nUuh81EDpsr"
      },
      "outputs": [],
      "source": []
    },
    {
      "cell_type": "code",
      "execution_count": 44,
      "metadata": {
        "id": "-MEP2PKEDpsr"
      },
      "outputs": [],
      "source": [
        "#list of columns to be dropped\n",
        "cols_to_drop=['Country','Tags']\n"
      ]
    },
    {
      "cell_type": "markdown",
      "metadata": {
        "id": "zG59NUgzDpsr"
      },
      "source": [
        "We can drop \"Tags\" ,As tags variable is generated by the sales sales team after the disscussion with student otherwise it will increase the model accuracy ."
      ]
    },
    {
      "cell_type": "code",
      "execution_count": 85,
      "metadata": {
        "colab": {
          "base_uri": "https://localhost:8080/"
        },
        "id": "E7c6_xX1Dpss",
        "outputId": "bb0aae28-6ade-4e5b-f3de-60db1c319205"
      },
      "outputs": [
        {
          "output_type": "stream",
          "name": "stdout",
          "text": [
            "<class 'pandas.core.frame.DataFrame'>\n",
            "Int64Index: 2353 entries, 0 to 9239\n",
            "Data columns (total 35 columns):\n",
            " #   Column                                         Non-Null Count  Dtype  \n",
            "---  ------                                         --------------  -----  \n",
            " 0   Prospect ID                                    2353 non-null   object \n",
            " 1   Lead Number                                    2353 non-null   int64  \n",
            " 2   Lead Origin                                    2353 non-null   object \n",
            " 3   Lead Source                                    2353 non-null   object \n",
            " 4   Do Not Email                                   2353 non-null   object \n",
            " 5   Do Not Call                                    2353 non-null   object \n",
            " 6   Converted                                      2353 non-null   int64  \n",
            " 7   TotalVisits                                    2353 non-null   float64\n",
            " 8   Total Time Spent on Website                    2353 non-null   int64  \n",
            " 9   Page Views Per Visit                           2353 non-null   float64\n",
            " 10  Last Activity                                  2353 non-null   object \n",
            " 11  Specialization                                 2353 non-null   object \n",
            " 12  How did you hear about X Education             2353 non-null   object \n",
            " 13  What is your current occupation                2353 non-null   object \n",
            " 14  What matters most to you in choosing a course  2353 non-null   object \n",
            " 15  Search                                         2353 non-null   object \n",
            " 16  Magazine                                       2353 non-null   object \n",
            " 17  Newspaper Article                              2353 non-null   object \n",
            " 18  X Education Forums                             2353 non-null   object \n",
            " 19  Newspaper                                      2353 non-null   object \n",
            " 20  Digital Advertisement                          2353 non-null   object \n",
            " 21  Through Recommendations                        2353 non-null   object \n",
            " 22  Receive More Updates About Our Courses         2353 non-null   object \n",
            " 23  Lead Quality                                   2353 non-null   object \n",
            " 24  Update me on Supply Chain Content              2353 non-null   object \n",
            " 25  Get updates on DM Content                      2353 non-null   object \n",
            " 26  Lead Profile                                   2353 non-null   object \n",
            " 27  City                                           2353 non-null   object \n",
            " 28  Asymmetrique Activity Index                    2353 non-null   object \n",
            " 29  Asymmetrique Profile Index                     2353 non-null   object \n",
            " 30  Asymmetrique Activity Score                    2353 non-null   float64\n",
            " 31  Asymmetrique Profile Score                     2353 non-null   float64\n",
            " 32  I agree to pay the amount through cheque       2353 non-null   object \n",
            " 33  A free copy of Mastering The Interview         2353 non-null   object \n",
            " 34  Last Notable Activity                          2353 non-null   object \n",
            "dtypes: float64(4), int64(3), object(28)\n",
            "memory usage: 726.3+ KB\n"
          ]
        }
      ],
      "source": [
        "#dropping columns\n",
        "lead_df = lead_df.drop(cols_to_drop,1)\n",
        "lead_df.info()"
      ]
    },
    {
      "cell_type": "code",
      "execution_count": 45,
      "metadata": {
        "colab": {
          "base_uri": "https://localhost:8080/"
        },
        "id": "VaN36WjQDpss",
        "outputId": "454f19e2-e361-487a-c46a-b3e6e8101d43"
      },
      "outputs": [
        {
          "output_type": "execute_result",
          "data": {
            "text/plain": [
              "Index(['Prospect ID', 'Lead Origin', 'Lead Source', 'Do Not Email',\n",
              "       'Do Not Call', 'Last Activity', 'Country', 'Specialization',\n",
              "       'How did you hear about X Education', 'What is your current occupation',\n",
              "       'What matters most to you in choosing a course', 'Search', 'Magazine',\n",
              "       'Newspaper Article', 'X Education Forums', 'Newspaper',\n",
              "       'Digital Advertisement', 'Through Recommendations',\n",
              "       'Receive More Updates About Our Courses', 'Tags', 'Lead Quality',\n",
              "       'Update me on Supply Chain Content', 'Get updates on DM Content',\n",
              "       'Lead Profile', 'City', 'Asymmetrique Activity Index',\n",
              "       'Asymmetrique Profile Index',\n",
              "       'I agree to pay the amount through cheque',\n",
              "       'A free copy of Mastering The Interview', 'Last Notable Activity'],\n",
              "      dtype='object')"
            ]
          },
          "metadata": {},
          "execution_count": 45
        }
      ],
      "source": [
        "#getting a list of categorical columns\n",
        "\n",
        "cat_cols= lead_df.select_dtypes(include=['object']).columns\n",
        "cat_cols"
      ]
    },
    {
      "cell_type": "code",
      "execution_count": 46,
      "metadata": {
        "colab": {
          "base_uri": "https://localhost:8080/",
          "height": 1000
        },
        "id": "xC8IaagoDpss",
        "outputId": "d1f46302-5c39-4bc7-88a5-673fecd7ae32"
      },
      "outputs": [
        {
          "output_type": "execute_result",
          "data": {
            "text/plain": [
              "                               Prospect ID  Lead Number  \\\n",
              "0     7927b2df-8bba-4d29-b9a2-b6e0beafe620       660737   \n",
              "2     8cc8c611-a219-4f35-ad23-fdfd2656bd8a       660727   \n",
              "3     0cc2df48-7cf4-4e39-9de9-19797f9b38cc       660719   \n",
              "4     3256f628-e534-4826-9d63-4a8b88782852       660681   \n",
              "6     9fae7df4-169d-489b-afe4-0f3d752542ed       660673   \n",
              "...                                    ...          ...   \n",
              "9234  c0b25922-511f-4c56-852e-ced210a45447       579615   \n",
              "9235  19d6451e-fcd6-407c-b83b-48e1af805ea9       579564   \n",
              "9236  82a7005b-7196-4d56-95ce-a79f937a158d       579546   \n",
              "9237  aac550fe-a586-452d-8d3c-f1b62c94e02c       579545   \n",
              "9239  571b5c8e-a5b2-4d57-8574-f2ffb06fdeff       579533   \n",
              "\n",
              "                  Lead Origin     Lead Source Do Not Email Do Not Call  \\\n",
              "0                         API      Olark Chat           No          No   \n",
              "2     Landing Page Submission  Direct Traffic           No          No   \n",
              "3     Landing Page Submission  Direct Traffic           No          No   \n",
              "4     Landing Page Submission          Google           No          No   \n",
              "6     Landing Page Submission          Google           No          No   \n",
              "...                       ...             ...          ...         ...   \n",
              "9234  Landing Page Submission  Direct Traffic           No          No   \n",
              "9235  Landing Page Submission  Direct Traffic          Yes          No   \n",
              "9236  Landing Page Submission  Direct Traffic           No          No   \n",
              "9237  Landing Page Submission  Direct Traffic          Yes          No   \n",
              "9239  Landing Page Submission  Direct Traffic           No          No   \n",
              "\n",
              "      Converted  TotalVisits  Total Time Spent on Website  \\\n",
              "0             0          0.0                            0   \n",
              "2             1          2.0                         1532   \n",
              "3             0          1.0                          305   \n",
              "4             1          2.0                         1428   \n",
              "6             1          2.0                         1640   \n",
              "...         ...          ...                          ...   \n",
              "9234          1          5.0                          210   \n",
              "9235          1          8.0                         1845   \n",
              "9236          0          2.0                          238   \n",
              "9237          0          2.0                          199   \n",
              "9239          1          6.0                         1279   \n",
              "\n",
              "      Page Views Per Visit  ... Last Notable Activity_Email Marked Spam  \\\n",
              "0                     0.00  ...                                       0   \n",
              "2                     2.00  ...                                       0   \n",
              "3                     1.00  ...                                       0   \n",
              "4                     1.00  ...                                       0   \n",
              "6                     2.00  ...                                       0   \n",
              "...                    ...  ...                                     ...   \n",
              "9234                  2.50  ...                                       0   \n",
              "9235                  2.67  ...                                       1   \n",
              "9236                  2.00  ...                                       0   \n",
              "9237                  2.00  ...                                       0   \n",
              "9239                  3.00  ...                                       0   \n",
              "\n",
              "     Last Notable Activity_Email Opened Last Notable Activity_Email Received  \\\n",
              "0                                     0                                    0   \n",
              "2                                     1                                    0   \n",
              "3                                     0                                    0   \n",
              "4                                     0                                    0   \n",
              "6                                     0                                    0   \n",
              "...                                 ...                                  ...   \n",
              "9234                                  0                                    0   \n",
              "9235                                  0                                    0   \n",
              "9236                                  0                                    0   \n",
              "9237                                  0                                    0   \n",
              "9239                                  0                                    0   \n",
              "\n",
              "     Last Notable Activity_Had a Phone Conversation  \\\n",
              "0                                                 0   \n",
              "2                                                 0   \n",
              "3                                                 0   \n",
              "4                                                 0   \n",
              "6                                                 0   \n",
              "...                                             ...   \n",
              "9234                                              0   \n",
              "9235                                              0   \n",
              "9236                                              0   \n",
              "9237                                              0   \n",
              "9239                                              0   \n",
              "\n",
              "     Last Notable Activity_Modified  \\\n",
              "0                                 1   \n",
              "2                                 0   \n",
              "3                                 1   \n",
              "4                                 1   \n",
              "6                                 1   \n",
              "...                             ...   \n",
              "9234                              1   \n",
              "9235                              0   \n",
              "9236                              0   \n",
              "9237                              0   \n",
              "9239                              1   \n",
              "\n",
              "     Last Notable Activity_Olark Chat Conversation  \\\n",
              "0                                                0   \n",
              "2                                                0   \n",
              "3                                                0   \n",
              "4                                                0   \n",
              "6                                                0   \n",
              "...                                            ...   \n",
              "9234                                             0   \n",
              "9235                                             0   \n",
              "9236                                             0   \n",
              "9237                                             0   \n",
              "9239                                             0   \n",
              "\n",
              "     Last Notable Activity_Page Visited on Website  \\\n",
              "0                                                0   \n",
              "2                                                0   \n",
              "3                                                0   \n",
              "4                                                0   \n",
              "6                                                0   \n",
              "...                                            ...   \n",
              "9234                                             0   \n",
              "9235                                             0   \n",
              "9236                                             0   \n",
              "9237                                             0   \n",
              "9239                                             0   \n",
              "\n",
              "     Last Notable Activity_SMS Sent Last Notable Activity_Unreachable  \\\n",
              "0                                 0                                 0   \n",
              "2                                 0                                 0   \n",
              "3                                 0                                 0   \n",
              "4                                 0                                 0   \n",
              "6                                 0                                 0   \n",
              "...                             ...                               ...   \n",
              "9234                              0                                 0   \n",
              "9235                              0                                 0   \n",
              "9236                              1                                 0   \n",
              "9237                              1                                 0   \n",
              "9239                              0                                 0   \n",
              "\n",
              "     Last Notable Activity_Unsubscribed  \n",
              "0                                     0  \n",
              "2                                     0  \n",
              "3                                     0  \n",
              "4                                     0  \n",
              "6                                     0  \n",
              "...                                 ...  \n",
              "9234                                  0  \n",
              "9235                                  0  \n",
              "9236                                  0  \n",
              "9237                                  0  \n",
              "9239                                  0  \n",
              "\n",
              "[2353 rows x 104 columns]"
            ],
            "text/html": [
              "\n",
              "  <div id=\"df-63457652-20a5-40b0-9207-c2608d0938ba\">\n",
              "    <div class=\"colab-df-container\">\n",
              "      <div>\n",
              "<style scoped>\n",
              "    .dataframe tbody tr th:only-of-type {\n",
              "        vertical-align: middle;\n",
              "    }\n",
              "\n",
              "    .dataframe tbody tr th {\n",
              "        vertical-align: top;\n",
              "    }\n",
              "\n",
              "    .dataframe thead th {\n",
              "        text-align: right;\n",
              "    }\n",
              "</style>\n",
              "<table border=\"1\" class=\"dataframe\">\n",
              "  <thead>\n",
              "    <tr style=\"text-align: right;\">\n",
              "      <th></th>\n",
              "      <th>Prospect ID</th>\n",
              "      <th>Lead Number</th>\n",
              "      <th>Lead Origin</th>\n",
              "      <th>Lead Source</th>\n",
              "      <th>Do Not Email</th>\n",
              "      <th>Do Not Call</th>\n",
              "      <th>Converted</th>\n",
              "      <th>TotalVisits</th>\n",
              "      <th>Total Time Spent on Website</th>\n",
              "      <th>Page Views Per Visit</th>\n",
              "      <th>...</th>\n",
              "      <th>Last Notable Activity_Email Marked Spam</th>\n",
              "      <th>Last Notable Activity_Email Opened</th>\n",
              "      <th>Last Notable Activity_Email Received</th>\n",
              "      <th>Last Notable Activity_Had a Phone Conversation</th>\n",
              "      <th>Last Notable Activity_Modified</th>\n",
              "      <th>Last Notable Activity_Olark Chat Conversation</th>\n",
              "      <th>Last Notable Activity_Page Visited on Website</th>\n",
              "      <th>Last Notable Activity_SMS Sent</th>\n",
              "      <th>Last Notable Activity_Unreachable</th>\n",
              "      <th>Last Notable Activity_Unsubscribed</th>\n",
              "    </tr>\n",
              "  </thead>\n",
              "  <tbody>\n",
              "    <tr>\n",
              "      <th>0</th>\n",
              "      <td>7927b2df-8bba-4d29-b9a2-b6e0beafe620</td>\n",
              "      <td>660737</td>\n",
              "      <td>API</td>\n",
              "      <td>Olark Chat</td>\n",
              "      <td>No</td>\n",
              "      <td>No</td>\n",
              "      <td>0</td>\n",
              "      <td>0.0</td>\n",
              "      <td>0</td>\n",
              "      <td>0.00</td>\n",
              "      <td>...</td>\n",
              "      <td>0</td>\n",
              "      <td>0</td>\n",
              "      <td>0</td>\n",
              "      <td>0</td>\n",
              "      <td>1</td>\n",
              "      <td>0</td>\n",
              "      <td>0</td>\n",
              "      <td>0</td>\n",
              "      <td>0</td>\n",
              "      <td>0</td>\n",
              "    </tr>\n",
              "    <tr>\n",
              "      <th>2</th>\n",
              "      <td>8cc8c611-a219-4f35-ad23-fdfd2656bd8a</td>\n",
              "      <td>660727</td>\n",
              "      <td>Landing Page Submission</td>\n",
              "      <td>Direct Traffic</td>\n",
              "      <td>No</td>\n",
              "      <td>No</td>\n",
              "      <td>1</td>\n",
              "      <td>2.0</td>\n",
              "      <td>1532</td>\n",
              "      <td>2.00</td>\n",
              "      <td>...</td>\n",
              "      <td>0</td>\n",
              "      <td>1</td>\n",
              "      <td>0</td>\n",
              "      <td>0</td>\n",
              "      <td>0</td>\n",
              "      <td>0</td>\n",
              "      <td>0</td>\n",
              "      <td>0</td>\n",
              "      <td>0</td>\n",
              "      <td>0</td>\n",
              "    </tr>\n",
              "    <tr>\n",
              "      <th>3</th>\n",
              "      <td>0cc2df48-7cf4-4e39-9de9-19797f9b38cc</td>\n",
              "      <td>660719</td>\n",
              "      <td>Landing Page Submission</td>\n",
              "      <td>Direct Traffic</td>\n",
              "      <td>No</td>\n",
              "      <td>No</td>\n",
              "      <td>0</td>\n",
              "      <td>1.0</td>\n",
              "      <td>305</td>\n",
              "      <td>1.00</td>\n",
              "      <td>...</td>\n",
              "      <td>0</td>\n",
              "      <td>0</td>\n",
              "      <td>0</td>\n",
              "      <td>0</td>\n",
              "      <td>1</td>\n",
              "      <td>0</td>\n",
              "      <td>0</td>\n",
              "      <td>0</td>\n",
              "      <td>0</td>\n",
              "      <td>0</td>\n",
              "    </tr>\n",
              "    <tr>\n",
              "      <th>4</th>\n",
              "      <td>3256f628-e534-4826-9d63-4a8b88782852</td>\n",
              "      <td>660681</td>\n",
              "      <td>Landing Page Submission</td>\n",
              "      <td>Google</td>\n",
              "      <td>No</td>\n",
              "      <td>No</td>\n",
              "      <td>1</td>\n",
              "      <td>2.0</td>\n",
              "      <td>1428</td>\n",
              "      <td>1.00</td>\n",
              "      <td>...</td>\n",
              "      <td>0</td>\n",
              "      <td>0</td>\n",
              "      <td>0</td>\n",
              "      <td>0</td>\n",
              "      <td>1</td>\n",
              "      <td>0</td>\n",
              "      <td>0</td>\n",
              "      <td>0</td>\n",
              "      <td>0</td>\n",
              "      <td>0</td>\n",
              "    </tr>\n",
              "    <tr>\n",
              "      <th>6</th>\n",
              "      <td>9fae7df4-169d-489b-afe4-0f3d752542ed</td>\n",
              "      <td>660673</td>\n",
              "      <td>Landing Page Submission</td>\n",
              "      <td>Google</td>\n",
              "      <td>No</td>\n",
              "      <td>No</td>\n",
              "      <td>1</td>\n",
              "      <td>2.0</td>\n",
              "      <td>1640</td>\n",
              "      <td>2.00</td>\n",
              "      <td>...</td>\n",
              "      <td>0</td>\n",
              "      <td>0</td>\n",
              "      <td>0</td>\n",
              "      <td>0</td>\n",
              "      <td>1</td>\n",
              "      <td>0</td>\n",
              "      <td>0</td>\n",
              "      <td>0</td>\n",
              "      <td>0</td>\n",
              "      <td>0</td>\n",
              "    </tr>\n",
              "    <tr>\n",
              "      <th>...</th>\n",
              "      <td>...</td>\n",
              "      <td>...</td>\n",
              "      <td>...</td>\n",
              "      <td>...</td>\n",
              "      <td>...</td>\n",
              "      <td>...</td>\n",
              "      <td>...</td>\n",
              "      <td>...</td>\n",
              "      <td>...</td>\n",
              "      <td>...</td>\n",
              "      <td>...</td>\n",
              "      <td>...</td>\n",
              "      <td>...</td>\n",
              "      <td>...</td>\n",
              "      <td>...</td>\n",
              "      <td>...</td>\n",
              "      <td>...</td>\n",
              "      <td>...</td>\n",
              "      <td>...</td>\n",
              "      <td>...</td>\n",
              "      <td>...</td>\n",
              "    </tr>\n",
              "    <tr>\n",
              "      <th>9234</th>\n",
              "      <td>c0b25922-511f-4c56-852e-ced210a45447</td>\n",
              "      <td>579615</td>\n",
              "      <td>Landing Page Submission</td>\n",
              "      <td>Direct Traffic</td>\n",
              "      <td>No</td>\n",
              "      <td>No</td>\n",
              "      <td>1</td>\n",
              "      <td>5.0</td>\n",
              "      <td>210</td>\n",
              "      <td>2.50</td>\n",
              "      <td>...</td>\n",
              "      <td>0</td>\n",
              "      <td>0</td>\n",
              "      <td>0</td>\n",
              "      <td>0</td>\n",
              "      <td>1</td>\n",
              "      <td>0</td>\n",
              "      <td>0</td>\n",
              "      <td>0</td>\n",
              "      <td>0</td>\n",
              "      <td>0</td>\n",
              "    </tr>\n",
              "    <tr>\n",
              "      <th>9235</th>\n",
              "      <td>19d6451e-fcd6-407c-b83b-48e1af805ea9</td>\n",
              "      <td>579564</td>\n",
              "      <td>Landing Page Submission</td>\n",
              "      <td>Direct Traffic</td>\n",
              "      <td>Yes</td>\n",
              "      <td>No</td>\n",
              "      <td>1</td>\n",
              "      <td>8.0</td>\n",
              "      <td>1845</td>\n",
              "      <td>2.67</td>\n",
              "      <td>...</td>\n",
              "      <td>1</td>\n",
              "      <td>0</td>\n",
              "      <td>0</td>\n",
              "      <td>0</td>\n",
              "      <td>0</td>\n",
              "      <td>0</td>\n",
              "      <td>0</td>\n",
              "      <td>0</td>\n",
              "      <td>0</td>\n",
              "      <td>0</td>\n",
              "    </tr>\n",
              "    <tr>\n",
              "      <th>9236</th>\n",
              "      <td>82a7005b-7196-4d56-95ce-a79f937a158d</td>\n",
              "      <td>579546</td>\n",
              "      <td>Landing Page Submission</td>\n",
              "      <td>Direct Traffic</td>\n",
              "      <td>No</td>\n",
              "      <td>No</td>\n",
              "      <td>0</td>\n",
              "      <td>2.0</td>\n",
              "      <td>238</td>\n",
              "      <td>2.00</td>\n",
              "      <td>...</td>\n",
              "      <td>0</td>\n",
              "      <td>0</td>\n",
              "      <td>0</td>\n",
              "      <td>0</td>\n",
              "      <td>0</td>\n",
              "      <td>0</td>\n",
              "      <td>0</td>\n",
              "      <td>1</td>\n",
              "      <td>0</td>\n",
              "      <td>0</td>\n",
              "    </tr>\n",
              "    <tr>\n",
              "      <th>9237</th>\n",
              "      <td>aac550fe-a586-452d-8d3c-f1b62c94e02c</td>\n",
              "      <td>579545</td>\n",
              "      <td>Landing Page Submission</td>\n",
              "      <td>Direct Traffic</td>\n",
              "      <td>Yes</td>\n",
              "      <td>No</td>\n",
              "      <td>0</td>\n",
              "      <td>2.0</td>\n",
              "      <td>199</td>\n",
              "      <td>2.00</td>\n",
              "      <td>...</td>\n",
              "      <td>0</td>\n",
              "      <td>0</td>\n",
              "      <td>0</td>\n",
              "      <td>0</td>\n",
              "      <td>0</td>\n",
              "      <td>0</td>\n",
              "      <td>0</td>\n",
              "      <td>1</td>\n",
              "      <td>0</td>\n",
              "      <td>0</td>\n",
              "    </tr>\n",
              "    <tr>\n",
              "      <th>9239</th>\n",
              "      <td>571b5c8e-a5b2-4d57-8574-f2ffb06fdeff</td>\n",
              "      <td>579533</td>\n",
              "      <td>Landing Page Submission</td>\n",
              "      <td>Direct Traffic</td>\n",
              "      <td>No</td>\n",
              "      <td>No</td>\n",
              "      <td>1</td>\n",
              "      <td>6.0</td>\n",
              "      <td>1279</td>\n",
              "      <td>3.00</td>\n",
              "      <td>...</td>\n",
              "      <td>0</td>\n",
              "      <td>0</td>\n",
              "      <td>0</td>\n",
              "      <td>0</td>\n",
              "      <td>1</td>\n",
              "      <td>0</td>\n",
              "      <td>0</td>\n",
              "      <td>0</td>\n",
              "      <td>0</td>\n",
              "      <td>0</td>\n",
              "    </tr>\n",
              "  </tbody>\n",
              "</table>\n",
              "<p>2353 rows × 104 columns</p>\n",
              "</div>\n",
              "      <button class=\"colab-df-convert\" onclick=\"convertToInteractive('df-63457652-20a5-40b0-9207-c2608d0938ba')\"\n",
              "              title=\"Convert this dataframe to an interactive table.\"\n",
              "              style=\"display:none;\">\n",
              "        \n",
              "  <svg xmlns=\"http://www.w3.org/2000/svg\" height=\"24px\"viewBox=\"0 0 24 24\"\n",
              "       width=\"24px\">\n",
              "    <path d=\"M0 0h24v24H0V0z\" fill=\"none\"/>\n",
              "    <path d=\"M18.56 5.44l.94 2.06.94-2.06 2.06-.94-2.06-.94-.94-2.06-.94 2.06-2.06.94zm-11 1L8.5 8.5l.94-2.06 2.06-.94-2.06-.94L8.5 2.5l-.94 2.06-2.06.94zm10 10l.94 2.06.94-2.06 2.06-.94-2.06-.94-.94-2.06-.94 2.06-2.06.94z\"/><path d=\"M17.41 7.96l-1.37-1.37c-.4-.4-.92-.59-1.43-.59-.52 0-1.04.2-1.43.59L10.3 9.45l-7.72 7.72c-.78.78-.78 2.05 0 2.83L4 21.41c.39.39.9.59 1.41.59.51 0 1.02-.2 1.41-.59l7.78-7.78 2.81-2.81c.8-.78.8-2.07 0-2.86zM5.41 20L4 18.59l7.72-7.72 1.47 1.35L5.41 20z\"/>\n",
              "  </svg>\n",
              "      </button>\n",
              "      \n",
              "  <style>\n",
              "    .colab-df-container {\n",
              "      display:flex;\n",
              "      flex-wrap:wrap;\n",
              "      gap: 12px;\n",
              "    }\n",
              "\n",
              "    .colab-df-convert {\n",
              "      background-color: #E8F0FE;\n",
              "      border: none;\n",
              "      border-radius: 50%;\n",
              "      cursor: pointer;\n",
              "      display: none;\n",
              "      fill: #1967D2;\n",
              "      height: 32px;\n",
              "      padding: 0 0 0 0;\n",
              "      width: 32px;\n",
              "    }\n",
              "\n",
              "    .colab-df-convert:hover {\n",
              "      background-color: #E2EBFA;\n",
              "      box-shadow: 0px 1px 2px rgba(60, 64, 67, 0.3), 0px 1px 3px 1px rgba(60, 64, 67, 0.15);\n",
              "      fill: #174EA6;\n",
              "    }\n",
              "\n",
              "    [theme=dark] .colab-df-convert {\n",
              "      background-color: #3B4455;\n",
              "      fill: #D2E3FC;\n",
              "    }\n",
              "\n",
              "    [theme=dark] .colab-df-convert:hover {\n",
              "      background-color: #434B5C;\n",
              "      box-shadow: 0px 1px 3px 1px rgba(0, 0, 0, 0.15);\n",
              "      filter: drop-shadow(0px 1px 2px rgba(0, 0, 0, 0.3));\n",
              "      fill: #FFFFFF;\n",
              "    }\n",
              "  </style>\n",
              "\n",
              "      <script>\n",
              "        const buttonEl =\n",
              "          document.querySelector('#df-63457652-20a5-40b0-9207-c2608d0938ba button.colab-df-convert');\n",
              "        buttonEl.style.display =\n",
              "          google.colab.kernel.accessAllowed ? 'block' : 'none';\n",
              "\n",
              "        async function convertToInteractive(key) {\n",
              "          const element = document.querySelector('#df-63457652-20a5-40b0-9207-c2608d0938ba');\n",
              "          const dataTable =\n",
              "            await google.colab.kernel.invokeFunction('convertToInteractive',\n",
              "                                                     [key], {});\n",
              "          if (!dataTable) return;\n",
              "\n",
              "          const docLinkHtml = 'Like what you see? Visit the ' +\n",
              "            '<a target=\"_blank\" href=https://colab.research.google.com/notebooks/data_table.ipynb>data table notebook</a>'\n",
              "            + ' to learn more about interactive tables.';\n",
              "          element.innerHTML = '';\n",
              "          dataTable['output_type'] = 'display_data';\n",
              "          await google.colab.output.renderOutput(dataTable, element);\n",
              "          const docLink = document.createElement('div');\n",
              "          docLink.innerHTML = docLinkHtml;\n",
              "          element.appendChild(docLink);\n",
              "        }\n",
              "      </script>\n",
              "    </div>\n",
              "  </div>\n",
              "  "
            ]
          },
          "metadata": {},
          "execution_count": 46
        }
      ],
      "source": [
        "# Create dummy variables using the 'get_dummies'\n",
        "dummy = pd.get_dummies(lead_df[['Lead Origin','Specialization' ,'Lead Source', 'Do Not Email', 'Last Activity', 'What is your current occupation','A free copy of Mastering The Interview', 'Last Notable Activity']], drop_first=True)\n",
        "# Add the results to the master dataframe\n",
        "lead_df_dum = pd.concat([lead_df, dummy], axis=1)\n",
        "lead_df_dum"
      ]
    },
    {
      "cell_type": "code",
      "execution_count": 82,
      "metadata": {
        "colab": {
          "base_uri": "https://localhost:8080/",
          "height": 313
        },
        "id": "zaVHaVK6Dpst",
        "outputId": "a1024d6a-f550-4a86-a553-bfc6065fdd8f"
      },
      "outputs": [
        {
          "output_type": "execute_result",
          "data": {
            "text/plain": [
              "                            Prospect ID  Lead Number  Converted  TotalVisits  \\\n",
              "0  7927b2df-8bba-4d29-b9a2-b6e0beafe620       660737          0          0.0   \n",
              "\n",
              "   Total Time Spent on Website  Page Views Per Visit Country  \\\n",
              "0                            0                   0.0   India   \n",
              "\n",
              "  How did you hear about X Education Magazine  \\\n",
              "0                             Select       No   \n",
              "\n",
              "  Receive More Updates About Our Courses  ...  \\\n",
              "0                                     No  ...   \n",
              "\n",
              "  Last Notable Activity_Email Marked Spam Last Notable Activity_Email Opened  \\\n",
              "0                                       0                                  0   \n",
              "\n",
              "  Last Notable Activity_Email Received  \\\n",
              "0                                    0   \n",
              "\n",
              "  Last Notable Activity_Had a Phone Conversation  \\\n",
              "0                                              0   \n",
              "\n",
              "  Last Notable Activity_Modified  \\\n",
              "0                              1   \n",
              "\n",
              "  Last Notable Activity_Olark Chat Conversation  \\\n",
              "0                                             0   \n",
              "\n",
              "  Last Notable Activity_Page Visited on Website  \\\n",
              "0                                             0   \n",
              "\n",
              "   Last Notable Activity_SMS Sent  Last Notable Activity_Unreachable  \\\n",
              "0                               0                                  0   \n",
              "\n",
              "  Last Notable Activity_Unsubscribed  \n",
              "0                                  0  \n",
              "\n",
              "[1 rows x 87 columns]"
            ],
            "text/html": [
              "\n",
              "  <div id=\"df-0b0b62b5-27d8-46db-b865-63b09061b75e\">\n",
              "    <div class=\"colab-df-container\">\n",
              "      <div>\n",
              "<style scoped>\n",
              "    .dataframe tbody tr th:only-of-type {\n",
              "        vertical-align: middle;\n",
              "    }\n",
              "\n",
              "    .dataframe tbody tr th {\n",
              "        vertical-align: top;\n",
              "    }\n",
              "\n",
              "    .dataframe thead th {\n",
              "        text-align: right;\n",
              "    }\n",
              "</style>\n",
              "<table border=\"1\" class=\"dataframe\">\n",
              "  <thead>\n",
              "    <tr style=\"text-align: right;\">\n",
              "      <th></th>\n",
              "      <th>Prospect ID</th>\n",
              "      <th>Lead Number</th>\n",
              "      <th>Converted</th>\n",
              "      <th>TotalVisits</th>\n",
              "      <th>Total Time Spent on Website</th>\n",
              "      <th>Page Views Per Visit</th>\n",
              "      <th>Country</th>\n",
              "      <th>How did you hear about X Education</th>\n",
              "      <th>Magazine</th>\n",
              "      <th>Receive More Updates About Our Courses</th>\n",
              "      <th>...</th>\n",
              "      <th>Last Notable Activity_Email Marked Spam</th>\n",
              "      <th>Last Notable Activity_Email Opened</th>\n",
              "      <th>Last Notable Activity_Email Received</th>\n",
              "      <th>Last Notable Activity_Had a Phone Conversation</th>\n",
              "      <th>Last Notable Activity_Modified</th>\n",
              "      <th>Last Notable Activity_Olark Chat Conversation</th>\n",
              "      <th>Last Notable Activity_Page Visited on Website</th>\n",
              "      <th>Last Notable Activity_SMS Sent</th>\n",
              "      <th>Last Notable Activity_Unreachable</th>\n",
              "      <th>Last Notable Activity_Unsubscribed</th>\n",
              "    </tr>\n",
              "  </thead>\n",
              "  <tbody>\n",
              "    <tr>\n",
              "      <th>0</th>\n",
              "      <td>7927b2df-8bba-4d29-b9a2-b6e0beafe620</td>\n",
              "      <td>660737</td>\n",
              "      <td>0</td>\n",
              "      <td>0.0</td>\n",
              "      <td>0</td>\n",
              "      <td>0.0</td>\n",
              "      <td>India</td>\n",
              "      <td>Select</td>\n",
              "      <td>No</td>\n",
              "      <td>No</td>\n",
              "      <td>...</td>\n",
              "      <td>0</td>\n",
              "      <td>0</td>\n",
              "      <td>0</td>\n",
              "      <td>0</td>\n",
              "      <td>1</td>\n",
              "      <td>0</td>\n",
              "      <td>0</td>\n",
              "      <td>0</td>\n",
              "      <td>0</td>\n",
              "      <td>0</td>\n",
              "    </tr>\n",
              "  </tbody>\n",
              "</table>\n",
              "<p>1 rows × 87 columns</p>\n",
              "</div>\n",
              "      <button class=\"colab-df-convert\" onclick=\"convertToInteractive('df-0b0b62b5-27d8-46db-b865-63b09061b75e')\"\n",
              "              title=\"Convert this dataframe to an interactive table.\"\n",
              "              style=\"display:none;\">\n",
              "        \n",
              "  <svg xmlns=\"http://www.w3.org/2000/svg\" height=\"24px\"viewBox=\"0 0 24 24\"\n",
              "       width=\"24px\">\n",
              "    <path d=\"M0 0h24v24H0V0z\" fill=\"none\"/>\n",
              "    <path d=\"M18.56 5.44l.94 2.06.94-2.06 2.06-.94-2.06-.94-.94-2.06-.94 2.06-2.06.94zm-11 1L8.5 8.5l.94-2.06 2.06-.94-2.06-.94L8.5 2.5l-.94 2.06-2.06.94zm10 10l.94 2.06.94-2.06 2.06-.94-2.06-.94-.94-2.06-.94 2.06-2.06.94z\"/><path d=\"M17.41 7.96l-1.37-1.37c-.4-.4-.92-.59-1.43-.59-.52 0-1.04.2-1.43.59L10.3 9.45l-7.72 7.72c-.78.78-.78 2.05 0 2.83L4 21.41c.39.39.9.59 1.41.59.51 0 1.02-.2 1.41-.59l7.78-7.78 2.81-2.81c.8-.78.8-2.07 0-2.86zM5.41 20L4 18.59l7.72-7.72 1.47 1.35L5.41 20z\"/>\n",
              "  </svg>\n",
              "      </button>\n",
              "      \n",
              "  <style>\n",
              "    .colab-df-container {\n",
              "      display:flex;\n",
              "      flex-wrap:wrap;\n",
              "      gap: 12px;\n",
              "    }\n",
              "\n",
              "    .colab-df-convert {\n",
              "      background-color: #E8F0FE;\n",
              "      border: none;\n",
              "      border-radius: 50%;\n",
              "      cursor: pointer;\n",
              "      display: none;\n",
              "      fill: #1967D2;\n",
              "      height: 32px;\n",
              "      padding: 0 0 0 0;\n",
              "      width: 32px;\n",
              "    }\n",
              "\n",
              "    .colab-df-convert:hover {\n",
              "      background-color: #E2EBFA;\n",
              "      box-shadow: 0px 1px 2px rgba(60, 64, 67, 0.3), 0px 1px 3px 1px rgba(60, 64, 67, 0.15);\n",
              "      fill: #174EA6;\n",
              "    }\n",
              "\n",
              "    [theme=dark] .colab-df-convert {\n",
              "      background-color: #3B4455;\n",
              "      fill: #D2E3FC;\n",
              "    }\n",
              "\n",
              "    [theme=dark] .colab-df-convert:hover {\n",
              "      background-color: #434B5C;\n",
              "      box-shadow: 0px 1px 3px 1px rgba(0, 0, 0, 0.15);\n",
              "      filter: drop-shadow(0px 1px 2px rgba(0, 0, 0, 0.3));\n",
              "      fill: #FFFFFF;\n",
              "    }\n",
              "  </style>\n",
              "\n",
              "      <script>\n",
              "        const buttonEl =\n",
              "          document.querySelector('#df-0b0b62b5-27d8-46db-b865-63b09061b75e button.colab-df-convert');\n",
              "        buttonEl.style.display =\n",
              "          google.colab.kernel.accessAllowed ? 'block' : 'none';\n",
              "\n",
              "        async function convertToInteractive(key) {\n",
              "          const element = document.querySelector('#df-0b0b62b5-27d8-46db-b865-63b09061b75e');\n",
              "          const dataTable =\n",
              "            await google.colab.kernel.invokeFunction('convertToInteractive',\n",
              "                                                     [key], {});\n",
              "          if (!dataTable) return;\n",
              "\n",
              "          const docLinkHtml = 'Like what you see? Visit the ' +\n",
              "            '<a target=\"_blank\" href=https://colab.research.google.com/notebooks/data_table.ipynb>data table notebook</a>'\n",
              "            + ' to learn more about interactive tables.';\n",
              "          element.innerHTML = '';\n",
              "          dataTable['output_type'] = 'display_data';\n",
              "          await google.colab.output.renderOutput(dataTable, element);\n",
              "          const docLink = document.createElement('div');\n",
              "          docLink.innerHTML = docLinkHtml;\n",
              "          element.appendChild(docLink);\n",
              "        }\n",
              "      </script>\n",
              "    </div>\n",
              "  </div>\n",
              "  "
            ]
          },
          "metadata": {},
          "execution_count": 82
        }
      ],
      "source": [
        "#lead_df_dum = lead_df_dum.drop(['City','Lead Origin', 'Lead Source', 'Do Not Email', 'Do Not Call','Last Activity', 'Specialization', 'What is your current occupation','What matters most to you in choosing a course', 'Search','Newspaper Article', 'X Education Forums', 'Newspaper','Digital Advertisement', 'Through Recommendations','A free copy of Mastering The Interview', 'Last Notable Activity'], 1)\n",
        "lead_df_dum.head(1)"
      ]
    },
    {
      "cell_type": "markdown",
      "metadata": {
        "id": "K9lAwE_HDpst"
      },
      "source": [
        "## Test-Train Split"
      ]
    },
    {
      "cell_type": "code",
      "execution_count": 54,
      "metadata": {
        "id": "Vg3GDYo4Dpst"
      },
      "outputs": [],
      "source": [
        " #Import the required library\n",
        "from sklearn.model_selection import train_test_split"
      ]
    },
    {
      "cell_type": "code",
      "execution_count": 51,
      "metadata": {
        "colab": {
          "base_uri": "https://localhost:8080/",
          "height": 612
        },
        "id": "xZk6PW3mDpsu",
        "outputId": "2fc7b22e-e314-41c6-9b23-ae314cb339f1"
      },
      "outputs": [
        {
          "output_type": "execute_result",
          "data": {
            "text/plain": [
              "                            Prospect ID  Lead Number              Lead Origin  \\\n",
              "0  7927b2df-8bba-4d29-b9a2-b6e0beafe620       660737                      API   \n",
              "2  8cc8c611-a219-4f35-ad23-fdfd2656bd8a       660727  Landing Page Submission   \n",
              "3  0cc2df48-7cf4-4e39-9de9-19797f9b38cc       660719  Landing Page Submission   \n",
              "4  3256f628-e534-4826-9d63-4a8b88782852       660681  Landing Page Submission   \n",
              "6  9fae7df4-169d-489b-afe4-0f3d752542ed       660673  Landing Page Submission   \n",
              "\n",
              "      Lead Source Do Not Email Do Not Call  TotalVisits  \\\n",
              "0      Olark Chat           No          No          0.0   \n",
              "2  Direct Traffic           No          No          2.0   \n",
              "3  Direct Traffic           No          No          1.0   \n",
              "4          Google           No          No          2.0   \n",
              "6          Google           No          No          2.0   \n",
              "\n",
              "   Total Time Spent on Website  Page Views Per Visit            Last Activity  \\\n",
              "0                            0                   0.0  Page Visited on Website   \n",
              "2                         1532                   2.0             Email Opened   \n",
              "3                          305                   1.0              Unreachable   \n",
              "4                         1428                   1.0        Converted to Lead   \n",
              "6                         1640                   2.0             Email Opened   \n",
              "\n",
              "   ... Last Notable Activity_Email Marked Spam  \\\n",
              "0  ...                                       0   \n",
              "2  ...                                       0   \n",
              "3  ...                                       0   \n",
              "4  ...                                       0   \n",
              "6  ...                                       0   \n",
              "\n",
              "  Last Notable Activity_Email Opened Last Notable Activity_Email Received  \\\n",
              "0                                  0                                    0   \n",
              "2                                  1                                    0   \n",
              "3                                  0                                    0   \n",
              "4                                  0                                    0   \n",
              "6                                  0                                    0   \n",
              "\n",
              "  Last Notable Activity_Had a Phone Conversation  \\\n",
              "0                                              0   \n",
              "2                                              0   \n",
              "3                                              0   \n",
              "4                                              0   \n",
              "6                                              0   \n",
              "\n",
              "  Last Notable Activity_Modified  \\\n",
              "0                              1   \n",
              "2                              0   \n",
              "3                              1   \n",
              "4                              1   \n",
              "6                              1   \n",
              "\n",
              "  Last Notable Activity_Olark Chat Conversation  \\\n",
              "0                                             0   \n",
              "2                                             0   \n",
              "3                                             0   \n",
              "4                                             0   \n",
              "6                                             0   \n",
              "\n",
              "  Last Notable Activity_Page Visited on Website  \\\n",
              "0                                             0   \n",
              "2                                             0   \n",
              "3                                             0   \n",
              "4                                             0   \n",
              "6                                             0   \n",
              "\n",
              "  Last Notable Activity_SMS Sent Last Notable Activity_Unreachable  \\\n",
              "0                              0                                 0   \n",
              "2                              0                                 0   \n",
              "3                              0                                 0   \n",
              "4                              0                                 0   \n",
              "6                              0                                 0   \n",
              "\n",
              "  Last Notable Activity_Unsubscribed  \n",
              "0                                  0  \n",
              "2                                  0  \n",
              "3                                  0  \n",
              "4                                  0  \n",
              "6                                  0  \n",
              "\n",
              "[5 rows x 103 columns]"
            ],
            "text/html": [
              "\n",
              "  <div id=\"df-6b124a43-0c7c-47cb-99c2-416e9a3b829e\">\n",
              "    <div class=\"colab-df-container\">\n",
              "      <div>\n",
              "<style scoped>\n",
              "    .dataframe tbody tr th:only-of-type {\n",
              "        vertical-align: middle;\n",
              "    }\n",
              "\n",
              "    .dataframe tbody tr th {\n",
              "        vertical-align: top;\n",
              "    }\n",
              "\n",
              "    .dataframe thead th {\n",
              "        text-align: right;\n",
              "    }\n",
              "</style>\n",
              "<table border=\"1\" class=\"dataframe\">\n",
              "  <thead>\n",
              "    <tr style=\"text-align: right;\">\n",
              "      <th></th>\n",
              "      <th>Prospect ID</th>\n",
              "      <th>Lead Number</th>\n",
              "      <th>Lead Origin</th>\n",
              "      <th>Lead Source</th>\n",
              "      <th>Do Not Email</th>\n",
              "      <th>Do Not Call</th>\n",
              "      <th>TotalVisits</th>\n",
              "      <th>Total Time Spent on Website</th>\n",
              "      <th>Page Views Per Visit</th>\n",
              "      <th>Last Activity</th>\n",
              "      <th>...</th>\n",
              "      <th>Last Notable Activity_Email Marked Spam</th>\n",
              "      <th>Last Notable Activity_Email Opened</th>\n",
              "      <th>Last Notable Activity_Email Received</th>\n",
              "      <th>Last Notable Activity_Had a Phone Conversation</th>\n",
              "      <th>Last Notable Activity_Modified</th>\n",
              "      <th>Last Notable Activity_Olark Chat Conversation</th>\n",
              "      <th>Last Notable Activity_Page Visited on Website</th>\n",
              "      <th>Last Notable Activity_SMS Sent</th>\n",
              "      <th>Last Notable Activity_Unreachable</th>\n",
              "      <th>Last Notable Activity_Unsubscribed</th>\n",
              "    </tr>\n",
              "  </thead>\n",
              "  <tbody>\n",
              "    <tr>\n",
              "      <th>0</th>\n",
              "      <td>7927b2df-8bba-4d29-b9a2-b6e0beafe620</td>\n",
              "      <td>660737</td>\n",
              "      <td>API</td>\n",
              "      <td>Olark Chat</td>\n",
              "      <td>No</td>\n",
              "      <td>No</td>\n",
              "      <td>0.0</td>\n",
              "      <td>0</td>\n",
              "      <td>0.0</td>\n",
              "      <td>Page Visited on Website</td>\n",
              "      <td>...</td>\n",
              "      <td>0</td>\n",
              "      <td>0</td>\n",
              "      <td>0</td>\n",
              "      <td>0</td>\n",
              "      <td>1</td>\n",
              "      <td>0</td>\n",
              "      <td>0</td>\n",
              "      <td>0</td>\n",
              "      <td>0</td>\n",
              "      <td>0</td>\n",
              "    </tr>\n",
              "    <tr>\n",
              "      <th>2</th>\n",
              "      <td>8cc8c611-a219-4f35-ad23-fdfd2656bd8a</td>\n",
              "      <td>660727</td>\n",
              "      <td>Landing Page Submission</td>\n",
              "      <td>Direct Traffic</td>\n",
              "      <td>No</td>\n",
              "      <td>No</td>\n",
              "      <td>2.0</td>\n",
              "      <td>1532</td>\n",
              "      <td>2.0</td>\n",
              "      <td>Email Opened</td>\n",
              "      <td>...</td>\n",
              "      <td>0</td>\n",
              "      <td>1</td>\n",
              "      <td>0</td>\n",
              "      <td>0</td>\n",
              "      <td>0</td>\n",
              "      <td>0</td>\n",
              "      <td>0</td>\n",
              "      <td>0</td>\n",
              "      <td>0</td>\n",
              "      <td>0</td>\n",
              "    </tr>\n",
              "    <tr>\n",
              "      <th>3</th>\n",
              "      <td>0cc2df48-7cf4-4e39-9de9-19797f9b38cc</td>\n",
              "      <td>660719</td>\n",
              "      <td>Landing Page Submission</td>\n",
              "      <td>Direct Traffic</td>\n",
              "      <td>No</td>\n",
              "      <td>No</td>\n",
              "      <td>1.0</td>\n",
              "      <td>305</td>\n",
              "      <td>1.0</td>\n",
              "      <td>Unreachable</td>\n",
              "      <td>...</td>\n",
              "      <td>0</td>\n",
              "      <td>0</td>\n",
              "      <td>0</td>\n",
              "      <td>0</td>\n",
              "      <td>1</td>\n",
              "      <td>0</td>\n",
              "      <td>0</td>\n",
              "      <td>0</td>\n",
              "      <td>0</td>\n",
              "      <td>0</td>\n",
              "    </tr>\n",
              "    <tr>\n",
              "      <th>4</th>\n",
              "      <td>3256f628-e534-4826-9d63-4a8b88782852</td>\n",
              "      <td>660681</td>\n",
              "      <td>Landing Page Submission</td>\n",
              "      <td>Google</td>\n",
              "      <td>No</td>\n",
              "      <td>No</td>\n",
              "      <td>2.0</td>\n",
              "      <td>1428</td>\n",
              "      <td>1.0</td>\n",
              "      <td>Converted to Lead</td>\n",
              "      <td>...</td>\n",
              "      <td>0</td>\n",
              "      <td>0</td>\n",
              "      <td>0</td>\n",
              "      <td>0</td>\n",
              "      <td>1</td>\n",
              "      <td>0</td>\n",
              "      <td>0</td>\n",
              "      <td>0</td>\n",
              "      <td>0</td>\n",
              "      <td>0</td>\n",
              "    </tr>\n",
              "    <tr>\n",
              "      <th>6</th>\n",
              "      <td>9fae7df4-169d-489b-afe4-0f3d752542ed</td>\n",
              "      <td>660673</td>\n",
              "      <td>Landing Page Submission</td>\n",
              "      <td>Google</td>\n",
              "      <td>No</td>\n",
              "      <td>No</td>\n",
              "      <td>2.0</td>\n",
              "      <td>1640</td>\n",
              "      <td>2.0</td>\n",
              "      <td>Email Opened</td>\n",
              "      <td>...</td>\n",
              "      <td>0</td>\n",
              "      <td>0</td>\n",
              "      <td>0</td>\n",
              "      <td>0</td>\n",
              "      <td>1</td>\n",
              "      <td>0</td>\n",
              "      <td>0</td>\n",
              "      <td>0</td>\n",
              "      <td>0</td>\n",
              "      <td>0</td>\n",
              "    </tr>\n",
              "  </tbody>\n",
              "</table>\n",
              "<p>5 rows × 103 columns</p>\n",
              "</div>\n",
              "      <button class=\"colab-df-convert\" onclick=\"convertToInteractive('df-6b124a43-0c7c-47cb-99c2-416e9a3b829e')\"\n",
              "              title=\"Convert this dataframe to an interactive table.\"\n",
              "              style=\"display:none;\">\n",
              "        \n",
              "  <svg xmlns=\"http://www.w3.org/2000/svg\" height=\"24px\"viewBox=\"0 0 24 24\"\n",
              "       width=\"24px\">\n",
              "    <path d=\"M0 0h24v24H0V0z\" fill=\"none\"/>\n",
              "    <path d=\"M18.56 5.44l.94 2.06.94-2.06 2.06-.94-2.06-.94-.94-2.06-.94 2.06-2.06.94zm-11 1L8.5 8.5l.94-2.06 2.06-.94-2.06-.94L8.5 2.5l-.94 2.06-2.06.94zm10 10l.94 2.06.94-2.06 2.06-.94-2.06-.94-.94-2.06-.94 2.06-2.06.94z\"/><path d=\"M17.41 7.96l-1.37-1.37c-.4-.4-.92-.59-1.43-.59-.52 0-1.04.2-1.43.59L10.3 9.45l-7.72 7.72c-.78.78-.78 2.05 0 2.83L4 21.41c.39.39.9.59 1.41.59.51 0 1.02-.2 1.41-.59l7.78-7.78 2.81-2.81c.8-.78.8-2.07 0-2.86zM5.41 20L4 18.59l7.72-7.72 1.47 1.35L5.41 20z\"/>\n",
              "  </svg>\n",
              "      </button>\n",
              "      \n",
              "  <style>\n",
              "    .colab-df-container {\n",
              "      display:flex;\n",
              "      flex-wrap:wrap;\n",
              "      gap: 12px;\n",
              "    }\n",
              "\n",
              "    .colab-df-convert {\n",
              "      background-color: #E8F0FE;\n",
              "      border: none;\n",
              "      border-radius: 50%;\n",
              "      cursor: pointer;\n",
              "      display: none;\n",
              "      fill: #1967D2;\n",
              "      height: 32px;\n",
              "      padding: 0 0 0 0;\n",
              "      width: 32px;\n",
              "    }\n",
              "\n",
              "    .colab-df-convert:hover {\n",
              "      background-color: #E2EBFA;\n",
              "      box-shadow: 0px 1px 2px rgba(60, 64, 67, 0.3), 0px 1px 3px 1px rgba(60, 64, 67, 0.15);\n",
              "      fill: #174EA6;\n",
              "    }\n",
              "\n",
              "    [theme=dark] .colab-df-convert {\n",
              "      background-color: #3B4455;\n",
              "      fill: #D2E3FC;\n",
              "    }\n",
              "\n",
              "    [theme=dark] .colab-df-convert:hover {\n",
              "      background-color: #434B5C;\n",
              "      box-shadow: 0px 1px 3px 1px rgba(0, 0, 0, 0.15);\n",
              "      filter: drop-shadow(0px 1px 2px rgba(0, 0, 0, 0.3));\n",
              "      fill: #FFFFFF;\n",
              "    }\n",
              "  </style>\n",
              "\n",
              "      <script>\n",
              "        const buttonEl =\n",
              "          document.querySelector('#df-6b124a43-0c7c-47cb-99c2-416e9a3b829e button.colab-df-convert');\n",
              "        buttonEl.style.display =\n",
              "          google.colab.kernel.accessAllowed ? 'block' : 'none';\n",
              "\n",
              "        async function convertToInteractive(key) {\n",
              "          const element = document.querySelector('#df-6b124a43-0c7c-47cb-99c2-416e9a3b829e');\n",
              "          const dataTable =\n",
              "            await google.colab.kernel.invokeFunction('convertToInteractive',\n",
              "                                                     [key], {});\n",
              "          if (!dataTable) return;\n",
              "\n",
              "          const docLinkHtml = 'Like what you see? Visit the ' +\n",
              "            '<a target=\"_blank\" href=https://colab.research.google.com/notebooks/data_table.ipynb>data table notebook</a>'\n",
              "            + ' to learn more about interactive tables.';\n",
              "          element.innerHTML = '';\n",
              "          dataTable['output_type'] = 'display_data';\n",
              "          await google.colab.output.renderOutput(dataTable, element);\n",
              "          const docLink = document.createElement('div');\n",
              "          docLink.innerHTML = docLinkHtml;\n",
              "          element.appendChild(docLink);\n",
              "        }\n",
              "      </script>\n",
              "    </div>\n",
              "  </div>\n",
              "  "
            ]
          },
          "metadata": {},
          "execution_count": 51
        }
      ],
      "source": [
        "X = lead_df_dum.drop(['Converted'], 1)\n",
        "X.head()"
      ]
    },
    {
      "cell_type": "code",
      "execution_count": 52,
      "metadata": {
        "colab": {
          "base_uri": "https://localhost:8080/"
        },
        "id": "7a_1LJC1Dpsu",
        "outputId": "9ca26912-a44f-47fb-e3d4-738cd363465f"
      },
      "outputs": [
        {
          "output_type": "execute_result",
          "data": {
            "text/plain": [
              "0    0\n",
              "2    1\n",
              "3    0\n",
              "4    1\n",
              "6    1\n",
              "Name: Converted, dtype: int64"
            ]
          },
          "metadata": {},
          "execution_count": 52
        }
      ],
      "source": [
        "# Putting the target variable in y\n",
        "y = lead_df_dum['Converted']\n",
        "y.head()\n"
      ]
    },
    {
      "cell_type": "code",
      "execution_count": 55,
      "metadata": {
        "id": "MQggSJWDDpsu"
      },
      "outputs": [],
      "source": [
        "# Split the dataset into 70% and 30% for train and test respectively\n",
        "X_train, X_test, y_train, y_test = train_test_split(X, y, train_size=0.7, test_size=0.3, random_state=10)"
      ]
    },
    {
      "cell_type": "code",
      "execution_count": 86,
      "metadata": {
        "colab": {
          "base_uri": "https://localhost:8080/",
          "height": 629
        },
        "id": "98ayXvB2Dpsv",
        "outputId": "6b74e777-1d36-4bef-fd57-12e94d2cb53a"
      },
      "outputs": [
        {
          "output_type": "execute_result",
          "data": {
            "text/plain": [
              "                               Prospect ID  Lead Number  \\\n",
              "8591  f04a9a8b-2f07-4037-84aa-bb3ebc3989d3       584202   \n",
              "7989  55091ba3-0a24-4126-a6a7-6e16e9265311       588618   \n",
              "2009  b149359e-7673-4d2c-8b11-b468728a21e9       640219   \n",
              "563   2cc428d1-6991-4609-818e-257c3c6fefb5       654453   \n",
              "7449  7407287b-e487-41d5-9990-a52874623793       592424   \n",
              "\n",
              "                  Lead Origin     Lead Source Do Not Email Do Not Call  \\\n",
              "8591                      API      Olark Chat           No          No   \n",
              "7989            Lead Add Form       Reference           No          No   \n",
              "2009                      API          Google           No          No   \n",
              "563   Landing Page Submission          Google           No          No   \n",
              "7449  Landing Page Submission  Direct Traffic           No          No   \n",
              "\n",
              "      TotalVisits  Total Time Spent on Website  Page Views Per Visit  \\\n",
              "8591     0.222222                     0.504660              0.088667   \n",
              "7989     0.000000                     0.000000              0.000000   \n",
              "2009     0.166667                     0.722592              0.066667   \n",
              "563      0.055556                     0.265424              0.066667   \n",
              "7449     0.055556                     0.175766              0.066667   \n",
              "\n",
              "          Last Activity  ... Last Notable Activity_Email Marked Spam  \\\n",
              "8591        Unreachable  ...                                       0   \n",
              "7989       Email Opened  ...                                       0   \n",
              "2009       Email Opened  ...                                       0   \n",
              "563   Converted to Lead  ...                                       0   \n",
              "7449  Converted to Lead  ...                                       0   \n",
              "\n",
              "     Last Notable Activity_Email Opened Last Notable Activity_Email Received  \\\n",
              "8591                                  0                                    0   \n",
              "7989                                  1                                    0   \n",
              "2009                                  1                                    0   \n",
              "563                                   0                                    0   \n",
              "7449                                  0                                    0   \n",
              "\n",
              "     Last Notable Activity_Had a Phone Conversation  \\\n",
              "8591                                              0   \n",
              "7989                                              0   \n",
              "2009                                              0   \n",
              "563                                               0   \n",
              "7449                                              0   \n",
              "\n",
              "     Last Notable Activity_Modified  \\\n",
              "8591                              0   \n",
              "7989                              0   \n",
              "2009                              0   \n",
              "563                               1   \n",
              "7449                              1   \n",
              "\n",
              "     Last Notable Activity_Olark Chat Conversation  \\\n",
              "8591                                             0   \n",
              "7989                                             0   \n",
              "2009                                             0   \n",
              "563                                              0   \n",
              "7449                                             0   \n",
              "\n",
              "     Last Notable Activity_Page Visited on Website  \\\n",
              "8591                                             0   \n",
              "7989                                             0   \n",
              "2009                                             0   \n",
              "563                                              0   \n",
              "7449                                             0   \n",
              "\n",
              "     Last Notable Activity_SMS Sent Last Notable Activity_Unreachable  \\\n",
              "8591                              0                                 1   \n",
              "7989                              0                                 0   \n",
              "2009                              0                                 0   \n",
              "563                               0                                 0   \n",
              "7449                              0                                 0   \n",
              "\n",
              "     Last Notable Activity_Unsubscribed  \n",
              "8591                                  0  \n",
              "7989                                  0  \n",
              "2009                                  0  \n",
              "563                                   0  \n",
              "7449                                  0  \n",
              "\n",
              "[5 rows x 103 columns]"
            ],
            "text/html": [
              "\n",
              "  <div id=\"df-9b22cc0c-bef2-4f64-893b-e7f022049ac7\">\n",
              "    <div class=\"colab-df-container\">\n",
              "      <div>\n",
              "<style scoped>\n",
              "    .dataframe tbody tr th:only-of-type {\n",
              "        vertical-align: middle;\n",
              "    }\n",
              "\n",
              "    .dataframe tbody tr th {\n",
              "        vertical-align: top;\n",
              "    }\n",
              "\n",
              "    .dataframe thead th {\n",
              "        text-align: right;\n",
              "    }\n",
              "</style>\n",
              "<table border=\"1\" class=\"dataframe\">\n",
              "  <thead>\n",
              "    <tr style=\"text-align: right;\">\n",
              "      <th></th>\n",
              "      <th>Prospect ID</th>\n",
              "      <th>Lead Number</th>\n",
              "      <th>Lead Origin</th>\n",
              "      <th>Lead Source</th>\n",
              "      <th>Do Not Email</th>\n",
              "      <th>Do Not Call</th>\n",
              "      <th>TotalVisits</th>\n",
              "      <th>Total Time Spent on Website</th>\n",
              "      <th>Page Views Per Visit</th>\n",
              "      <th>Last Activity</th>\n",
              "      <th>...</th>\n",
              "      <th>Last Notable Activity_Email Marked Spam</th>\n",
              "      <th>Last Notable Activity_Email Opened</th>\n",
              "      <th>Last Notable Activity_Email Received</th>\n",
              "      <th>Last Notable Activity_Had a Phone Conversation</th>\n",
              "      <th>Last Notable Activity_Modified</th>\n",
              "      <th>Last Notable Activity_Olark Chat Conversation</th>\n",
              "      <th>Last Notable Activity_Page Visited on Website</th>\n",
              "      <th>Last Notable Activity_SMS Sent</th>\n",
              "      <th>Last Notable Activity_Unreachable</th>\n",
              "      <th>Last Notable Activity_Unsubscribed</th>\n",
              "    </tr>\n",
              "  </thead>\n",
              "  <tbody>\n",
              "    <tr>\n",
              "      <th>8591</th>\n",
              "      <td>f04a9a8b-2f07-4037-84aa-bb3ebc3989d3</td>\n",
              "      <td>584202</td>\n",
              "      <td>API</td>\n",
              "      <td>Olark Chat</td>\n",
              "      <td>No</td>\n",
              "      <td>No</td>\n",
              "      <td>0.222222</td>\n",
              "      <td>0.504660</td>\n",
              "      <td>0.088667</td>\n",
              "      <td>Unreachable</td>\n",
              "      <td>...</td>\n",
              "      <td>0</td>\n",
              "      <td>0</td>\n",
              "      <td>0</td>\n",
              "      <td>0</td>\n",
              "      <td>0</td>\n",
              "      <td>0</td>\n",
              "      <td>0</td>\n",
              "      <td>0</td>\n",
              "      <td>1</td>\n",
              "      <td>0</td>\n",
              "    </tr>\n",
              "    <tr>\n",
              "      <th>7989</th>\n",
              "      <td>55091ba3-0a24-4126-a6a7-6e16e9265311</td>\n",
              "      <td>588618</td>\n",
              "      <td>Lead Add Form</td>\n",
              "      <td>Reference</td>\n",
              "      <td>No</td>\n",
              "      <td>No</td>\n",
              "      <td>0.000000</td>\n",
              "      <td>0.000000</td>\n",
              "      <td>0.000000</td>\n",
              "      <td>Email Opened</td>\n",
              "      <td>...</td>\n",
              "      <td>0</td>\n",
              "      <td>1</td>\n",
              "      <td>0</td>\n",
              "      <td>0</td>\n",
              "      <td>0</td>\n",
              "      <td>0</td>\n",
              "      <td>0</td>\n",
              "      <td>0</td>\n",
              "      <td>0</td>\n",
              "      <td>0</td>\n",
              "    </tr>\n",
              "    <tr>\n",
              "      <th>2009</th>\n",
              "      <td>b149359e-7673-4d2c-8b11-b468728a21e9</td>\n",
              "      <td>640219</td>\n",
              "      <td>API</td>\n",
              "      <td>Google</td>\n",
              "      <td>No</td>\n",
              "      <td>No</td>\n",
              "      <td>0.166667</td>\n",
              "      <td>0.722592</td>\n",
              "      <td>0.066667</td>\n",
              "      <td>Email Opened</td>\n",
              "      <td>...</td>\n",
              "      <td>0</td>\n",
              "      <td>1</td>\n",
              "      <td>0</td>\n",
              "      <td>0</td>\n",
              "      <td>0</td>\n",
              "      <td>0</td>\n",
              "      <td>0</td>\n",
              "      <td>0</td>\n",
              "      <td>0</td>\n",
              "      <td>0</td>\n",
              "    </tr>\n",
              "    <tr>\n",
              "      <th>563</th>\n",
              "      <td>2cc428d1-6991-4609-818e-257c3c6fefb5</td>\n",
              "      <td>654453</td>\n",
              "      <td>Landing Page Submission</td>\n",
              "      <td>Google</td>\n",
              "      <td>No</td>\n",
              "      <td>No</td>\n",
              "      <td>0.055556</td>\n",
              "      <td>0.265424</td>\n",
              "      <td>0.066667</td>\n",
              "      <td>Converted to Lead</td>\n",
              "      <td>...</td>\n",
              "      <td>0</td>\n",
              "      <td>0</td>\n",
              "      <td>0</td>\n",
              "      <td>0</td>\n",
              "      <td>1</td>\n",
              "      <td>0</td>\n",
              "      <td>0</td>\n",
              "      <td>0</td>\n",
              "      <td>0</td>\n",
              "      <td>0</td>\n",
              "    </tr>\n",
              "    <tr>\n",
              "      <th>7449</th>\n",
              "      <td>7407287b-e487-41d5-9990-a52874623793</td>\n",
              "      <td>592424</td>\n",
              "      <td>Landing Page Submission</td>\n",
              "      <td>Direct Traffic</td>\n",
              "      <td>No</td>\n",
              "      <td>No</td>\n",
              "      <td>0.055556</td>\n",
              "      <td>0.175766</td>\n",
              "      <td>0.066667</td>\n",
              "      <td>Converted to Lead</td>\n",
              "      <td>...</td>\n",
              "      <td>0</td>\n",
              "      <td>0</td>\n",
              "      <td>0</td>\n",
              "      <td>0</td>\n",
              "      <td>1</td>\n",
              "      <td>0</td>\n",
              "      <td>0</td>\n",
              "      <td>0</td>\n",
              "      <td>0</td>\n",
              "      <td>0</td>\n",
              "    </tr>\n",
              "  </tbody>\n",
              "</table>\n",
              "<p>5 rows × 103 columns</p>\n",
              "</div>\n",
              "      <button class=\"colab-df-convert\" onclick=\"convertToInteractive('df-9b22cc0c-bef2-4f64-893b-e7f022049ac7')\"\n",
              "              title=\"Convert this dataframe to an interactive table.\"\n",
              "              style=\"display:none;\">\n",
              "        \n",
              "  <svg xmlns=\"http://www.w3.org/2000/svg\" height=\"24px\"viewBox=\"0 0 24 24\"\n",
              "       width=\"24px\">\n",
              "    <path d=\"M0 0h24v24H0V0z\" fill=\"none\"/>\n",
              "    <path d=\"M18.56 5.44l.94 2.06.94-2.06 2.06-.94-2.06-.94-.94-2.06-.94 2.06-2.06.94zm-11 1L8.5 8.5l.94-2.06 2.06-.94-2.06-.94L8.5 2.5l-.94 2.06-2.06.94zm10 10l.94 2.06.94-2.06 2.06-.94-2.06-.94-.94-2.06-.94 2.06-2.06.94z\"/><path d=\"M17.41 7.96l-1.37-1.37c-.4-.4-.92-.59-1.43-.59-.52 0-1.04.2-1.43.59L10.3 9.45l-7.72 7.72c-.78.78-.78 2.05 0 2.83L4 21.41c.39.39.9.59 1.41.59.51 0 1.02-.2 1.41-.59l7.78-7.78 2.81-2.81c.8-.78.8-2.07 0-2.86zM5.41 20L4 18.59l7.72-7.72 1.47 1.35L5.41 20z\"/>\n",
              "  </svg>\n",
              "      </button>\n",
              "      \n",
              "  <style>\n",
              "    .colab-df-container {\n",
              "      display:flex;\n",
              "      flex-wrap:wrap;\n",
              "      gap: 12px;\n",
              "    }\n",
              "\n",
              "    .colab-df-convert {\n",
              "      background-color: #E8F0FE;\n",
              "      border: none;\n",
              "      border-radius: 50%;\n",
              "      cursor: pointer;\n",
              "      display: none;\n",
              "      fill: #1967D2;\n",
              "      height: 32px;\n",
              "      padding: 0 0 0 0;\n",
              "      width: 32px;\n",
              "    }\n",
              "\n",
              "    .colab-df-convert:hover {\n",
              "      background-color: #E2EBFA;\n",
              "      box-shadow: 0px 1px 2px rgba(60, 64, 67, 0.3), 0px 1px 3px 1px rgba(60, 64, 67, 0.15);\n",
              "      fill: #174EA6;\n",
              "    }\n",
              "\n",
              "    [theme=dark] .colab-df-convert {\n",
              "      background-color: #3B4455;\n",
              "      fill: #D2E3FC;\n",
              "    }\n",
              "\n",
              "    [theme=dark] .colab-df-convert:hover {\n",
              "      background-color: #434B5C;\n",
              "      box-shadow: 0px 1px 3px 1px rgba(0, 0, 0, 0.15);\n",
              "      filter: drop-shadow(0px 1px 2px rgba(0, 0, 0, 0.3));\n",
              "      fill: #FFFFFF;\n",
              "    }\n",
              "  </style>\n",
              "\n",
              "      <script>\n",
              "        const buttonEl =\n",
              "          document.querySelector('#df-9b22cc0c-bef2-4f64-893b-e7f022049ac7 button.colab-df-convert');\n",
              "        buttonEl.style.display =\n",
              "          google.colab.kernel.accessAllowed ? 'block' : 'none';\n",
              "\n",
              "        async function convertToInteractive(key) {\n",
              "          const element = document.querySelector('#df-9b22cc0c-bef2-4f64-893b-e7f022049ac7');\n",
              "          const dataTable =\n",
              "            await google.colab.kernel.invokeFunction('convertToInteractive',\n",
              "                                                     [key], {});\n",
              "          if (!dataTable) return;\n",
              "\n",
              "          const docLinkHtml = 'Like what you see? Visit the ' +\n",
              "            '<a target=\"_blank\" href=https://colab.research.google.com/notebooks/data_table.ipynb>data table notebook</a>'\n",
              "            + ' to learn more about interactive tables.';\n",
              "          element.innerHTML = '';\n",
              "          dataTable['output_type'] = 'display_data';\n",
              "          await google.colab.output.renderOutput(dataTable, element);\n",
              "          const docLink = document.createElement('div');\n",
              "          docLink.innerHTML = docLinkHtml;\n",
              "          element.appendChild(docLink);\n",
              "        }\n",
              "      </script>\n",
              "    </div>\n",
              "  </div>\n",
              "  "
            ]
          },
          "metadata": {},
          "execution_count": 86
        }
      ],
      "source": [
        "# Import MinMax scaler\n",
        "from sklearn.preprocessing import MinMaxScaler\n",
        "# Scale the three numeric features\n",
        "scaler = MinMaxScaler()\n",
        "X_train[['TotalVisits', 'Page Views Per Visit', 'Total Time Spent on Website']] = scaler.fit_transform(X_train[['TotalVisits', 'Page Views Per Visit', 'Total Time Spent on Website']])\n",
        "X_train.head()"
      ]
    },
    {
      "cell_type": "markdown",
      "metadata": {
        "id": "zduOimhpDpsv"
      },
      "source": [
        "# Model Building"
      ]
    },
    {
      "cell_type": "code",
      "execution_count": 57,
      "metadata": {
        "id": "FXeb7HhQDpsv"
      },
      "outputs": [],
      "source": [
        "# Import 'LogisticRegression'\n",
        "from sklearn.linear_model import LogisticRegression\n",
        "lr = LogisticRegression()"
      ]
    },
    {
      "cell_type": "code",
      "execution_count": 58,
      "metadata": {
        "id": "c03keSisDpsw"
      },
      "outputs": [],
      "source": [
        "# Import RFE\n",
        "from sklearn.feature_selection import RFE"
      ]
    },
    {
      "cell_type": "code",
      "execution_count": 73,
      "metadata": {
        "colab": {
          "base_uri": "https://localhost:8080/",
          "height": 359
        },
        "id": "9vLMIHjmDpsw",
        "outputId": "1d334a79-7429-4a54-8355-1056c70f0623"
      },
      "outputs": [
        {
          "output_type": "error",
          "ename": "ValueError",
          "evalue": "ignored",
          "traceback": [
            "\u001b[0;31m---------------------------------------------------------------------------\u001b[0m",
            "\u001b[0;31mValueError\u001b[0m                                Traceback (most recent call last)",
            "\u001b[0;32m<ipython-input-73-5322e53a62c6>\u001b[0m in \u001b[0;36m<module>\u001b[0;34m\u001b[0m\n\u001b[1;32m      1\u001b[0m \u001b[0;31m# Running RFE with 15 variables as output\u001b[0m\u001b[0;34m\u001b[0m\u001b[0;34m\u001b[0m\u001b[0m\n\u001b[1;32m      2\u001b[0m \u001b[0mrfe\u001b[0m \u001b[0;34m=\u001b[0m \u001b[0mRFE\u001b[0m\u001b[0;34m(\u001b[0m\u001b[0mlr\u001b[0m\u001b[0;34m,\u001b[0m \u001b[0mstep\u001b[0m\u001b[0;34m=\u001b[0m\u001b[0;36m20\u001b[0m\u001b[0;34m)\u001b[0m\u001b[0;34m\u001b[0m\u001b[0;34m\u001b[0m\u001b[0m\n\u001b[0;32m----> 3\u001b[0;31m \u001b[0mrfe\u001b[0m \u001b[0;34m=\u001b[0m \u001b[0mrfe\u001b[0m\u001b[0;34m.\u001b[0m\u001b[0mfit\u001b[0m\u001b[0;34m(\u001b[0m\u001b[0mX_train\u001b[0m\u001b[0;34m,\u001b[0m \u001b[0my_train\u001b[0m\u001b[0;34m)\u001b[0m\u001b[0;34m\u001b[0m\u001b[0;34m\u001b[0m\u001b[0m\n\u001b[0m",
            "\u001b[0;32m/usr/local/lib/python3.9/dist-packages/sklearn/feature_selection/_rfe.py\u001b[0m in \u001b[0;36mfit\u001b[0;34m(self, X, y, **fit_params)\u001b[0m\n\u001b[1;32m    249\u001b[0m         \"\"\"\n\u001b[1;32m    250\u001b[0m         \u001b[0mself\u001b[0m\u001b[0;34m.\u001b[0m\u001b[0m_validate_params\u001b[0m\u001b[0;34m(\u001b[0m\u001b[0;34m)\u001b[0m\u001b[0;34m\u001b[0m\u001b[0;34m\u001b[0m\u001b[0m\n\u001b[0;32m--> 251\u001b[0;31m         \u001b[0;32mreturn\u001b[0m \u001b[0mself\u001b[0m\u001b[0;34m.\u001b[0m\u001b[0m_fit\u001b[0m\u001b[0;34m(\u001b[0m\u001b[0mX\u001b[0m\u001b[0;34m,\u001b[0m \u001b[0my\u001b[0m\u001b[0;34m,\u001b[0m \u001b[0;34m**\u001b[0m\u001b[0mfit_params\u001b[0m\u001b[0;34m)\u001b[0m\u001b[0;34m\u001b[0m\u001b[0;34m\u001b[0m\u001b[0m\n\u001b[0m\u001b[1;32m    252\u001b[0m \u001b[0;34m\u001b[0m\u001b[0m\n\u001b[1;32m    253\u001b[0m     \u001b[0;32mdef\u001b[0m \u001b[0m_fit\u001b[0m\u001b[0;34m(\u001b[0m\u001b[0mself\u001b[0m\u001b[0;34m,\u001b[0m \u001b[0mX\u001b[0m\u001b[0;34m,\u001b[0m \u001b[0my\u001b[0m\u001b[0;34m,\u001b[0m \u001b[0mstep_score\u001b[0m\u001b[0;34m=\u001b[0m\u001b[0;32mNone\u001b[0m\u001b[0;34m,\u001b[0m \u001b[0;34m**\u001b[0m\u001b[0mfit_params\u001b[0m\u001b[0;34m)\u001b[0m\u001b[0;34m:\u001b[0m\u001b[0;34m\u001b[0m\u001b[0;34m\u001b[0m\u001b[0m\n",
            "\u001b[0;32m/usr/local/lib/python3.9/dist-packages/sklearn/feature_selection/_rfe.py\u001b[0m in \u001b[0;36m_fit\u001b[0;34m(self, X, y, step_score, **fit_params)\u001b[0m\n\u001b[1;32m    258\u001b[0m \u001b[0;34m\u001b[0m\u001b[0m\n\u001b[1;32m    259\u001b[0m         \u001b[0mtags\u001b[0m \u001b[0;34m=\u001b[0m \u001b[0mself\u001b[0m\u001b[0;34m.\u001b[0m\u001b[0m_get_tags\u001b[0m\u001b[0;34m(\u001b[0m\u001b[0;34m)\u001b[0m\u001b[0;34m\u001b[0m\u001b[0;34m\u001b[0m\u001b[0m\n\u001b[0;32m--> 260\u001b[0;31m         X, y = self._validate_data(\n\u001b[0m\u001b[1;32m    261\u001b[0m             \u001b[0mX\u001b[0m\u001b[0;34m,\u001b[0m\u001b[0;34m\u001b[0m\u001b[0;34m\u001b[0m\u001b[0m\n\u001b[1;32m    262\u001b[0m             \u001b[0my\u001b[0m\u001b[0;34m,\u001b[0m\u001b[0;34m\u001b[0m\u001b[0;34m\u001b[0m\u001b[0m\n",
            "\u001b[0;32m/usr/local/lib/python3.9/dist-packages/sklearn/base.py\u001b[0m in \u001b[0;36m_validate_data\u001b[0;34m(self, X, y, reset, validate_separately, **check_params)\u001b[0m\n\u001b[1;32m    582\u001b[0m                 \u001b[0my\u001b[0m \u001b[0;34m=\u001b[0m \u001b[0mcheck_array\u001b[0m\u001b[0;34m(\u001b[0m\u001b[0my\u001b[0m\u001b[0;34m,\u001b[0m \u001b[0minput_name\u001b[0m\u001b[0;34m=\u001b[0m\u001b[0;34m\"y\"\u001b[0m\u001b[0;34m,\u001b[0m \u001b[0;34m**\u001b[0m\u001b[0mcheck_y_params\u001b[0m\u001b[0;34m)\u001b[0m\u001b[0;34m\u001b[0m\u001b[0;34m\u001b[0m\u001b[0m\n\u001b[1;32m    583\u001b[0m             \u001b[0;32melse\u001b[0m\u001b[0;34m:\u001b[0m\u001b[0;34m\u001b[0m\u001b[0;34m\u001b[0m\u001b[0m\n\u001b[0;32m--> 584\u001b[0;31m                 \u001b[0mX\u001b[0m\u001b[0;34m,\u001b[0m \u001b[0my\u001b[0m \u001b[0;34m=\u001b[0m \u001b[0mcheck_X_y\u001b[0m\u001b[0;34m(\u001b[0m\u001b[0mX\u001b[0m\u001b[0;34m,\u001b[0m \u001b[0my\u001b[0m\u001b[0;34m,\u001b[0m \u001b[0;34m**\u001b[0m\u001b[0mcheck_params\u001b[0m\u001b[0;34m)\u001b[0m\u001b[0;34m\u001b[0m\u001b[0;34m\u001b[0m\u001b[0m\n\u001b[0m\u001b[1;32m    585\u001b[0m             \u001b[0mout\u001b[0m \u001b[0;34m=\u001b[0m \u001b[0mX\u001b[0m\u001b[0;34m,\u001b[0m \u001b[0my\u001b[0m\u001b[0;34m\u001b[0m\u001b[0;34m\u001b[0m\u001b[0m\n\u001b[1;32m    586\u001b[0m \u001b[0;34m\u001b[0m\u001b[0m\n",
            "\u001b[0;32m/usr/local/lib/python3.9/dist-packages/sklearn/utils/validation.py\u001b[0m in \u001b[0;36mcheck_X_y\u001b[0;34m(X, y, accept_sparse, accept_large_sparse, dtype, order, copy, force_all_finite, ensure_2d, allow_nd, multi_output, ensure_min_samples, ensure_min_features, y_numeric, estimator)\u001b[0m\n\u001b[1;32m   1104\u001b[0m         )\n\u001b[1;32m   1105\u001b[0m \u001b[0;34m\u001b[0m\u001b[0m\n\u001b[0;32m-> 1106\u001b[0;31m     X = check_array(\n\u001b[0m\u001b[1;32m   1107\u001b[0m         \u001b[0mX\u001b[0m\u001b[0;34m,\u001b[0m\u001b[0;34m\u001b[0m\u001b[0;34m\u001b[0m\u001b[0m\n\u001b[1;32m   1108\u001b[0m         \u001b[0maccept_sparse\u001b[0m\u001b[0;34m=\u001b[0m\u001b[0maccept_sparse\u001b[0m\u001b[0;34m,\u001b[0m\u001b[0;34m\u001b[0m\u001b[0;34m\u001b[0m\u001b[0m\n",
            "\u001b[0;32m/usr/local/lib/python3.9/dist-packages/sklearn/utils/validation.py\u001b[0m in \u001b[0;36mcheck_array\u001b[0;34m(array, accept_sparse, accept_large_sparse, dtype, order, copy, force_all_finite, ensure_2d, allow_nd, ensure_min_samples, ensure_min_features, estimator, input_name)\u001b[0m\n\u001b[1;32m    877\u001b[0m                     \u001b[0marray\u001b[0m \u001b[0;34m=\u001b[0m \u001b[0mxp\u001b[0m\u001b[0;34m.\u001b[0m\u001b[0mastype\u001b[0m\u001b[0;34m(\u001b[0m\u001b[0marray\u001b[0m\u001b[0;34m,\u001b[0m \u001b[0mdtype\u001b[0m\u001b[0;34m,\u001b[0m \u001b[0mcopy\u001b[0m\u001b[0;34m=\u001b[0m\u001b[0;32mFalse\u001b[0m\u001b[0;34m)\u001b[0m\u001b[0;34m\u001b[0m\u001b[0;34m\u001b[0m\u001b[0m\n\u001b[1;32m    878\u001b[0m                 \u001b[0;32melse\u001b[0m\u001b[0;34m:\u001b[0m\u001b[0;34m\u001b[0m\u001b[0;34m\u001b[0m\u001b[0m\n\u001b[0;32m--> 879\u001b[0;31m                     \u001b[0marray\u001b[0m \u001b[0;34m=\u001b[0m \u001b[0m_asarray_with_order\u001b[0m\u001b[0;34m(\u001b[0m\u001b[0marray\u001b[0m\u001b[0;34m,\u001b[0m \u001b[0morder\u001b[0m\u001b[0;34m=\u001b[0m\u001b[0morder\u001b[0m\u001b[0;34m,\u001b[0m \u001b[0mdtype\u001b[0m\u001b[0;34m=\u001b[0m\u001b[0mdtype\u001b[0m\u001b[0;34m,\u001b[0m \u001b[0mxp\u001b[0m\u001b[0;34m=\u001b[0m\u001b[0mxp\u001b[0m\u001b[0;34m)\u001b[0m\u001b[0;34m\u001b[0m\u001b[0;34m\u001b[0m\u001b[0m\n\u001b[0m\u001b[1;32m    880\u001b[0m             \u001b[0;32mexcept\u001b[0m \u001b[0mComplexWarning\u001b[0m \u001b[0;32mas\u001b[0m \u001b[0mcomplex_warning\u001b[0m\u001b[0;34m:\u001b[0m\u001b[0;34m\u001b[0m\u001b[0;34m\u001b[0m\u001b[0m\n\u001b[1;32m    881\u001b[0m                 raise ValueError(\n",
            "\u001b[0;32m/usr/local/lib/python3.9/dist-packages/sklearn/utils/_array_api.py\u001b[0m in \u001b[0;36m_asarray_with_order\u001b[0;34m(array, dtype, order, copy, xp)\u001b[0m\n\u001b[1;32m    183\u001b[0m     \u001b[0;32mif\u001b[0m \u001b[0mxp\u001b[0m\u001b[0;34m.\u001b[0m\u001b[0m__name__\u001b[0m \u001b[0;32min\u001b[0m \u001b[0;34m{\u001b[0m\u001b[0;34m\"numpy\"\u001b[0m\u001b[0;34m,\u001b[0m \u001b[0;34m\"numpy.array_api\"\u001b[0m\u001b[0;34m}\u001b[0m\u001b[0;34m:\u001b[0m\u001b[0;34m\u001b[0m\u001b[0;34m\u001b[0m\u001b[0m\n\u001b[1;32m    184\u001b[0m         \u001b[0;31m# Use NumPy API to support order\u001b[0m\u001b[0;34m\u001b[0m\u001b[0;34m\u001b[0m\u001b[0m\n\u001b[0;32m--> 185\u001b[0;31m         \u001b[0marray\u001b[0m \u001b[0;34m=\u001b[0m \u001b[0mnumpy\u001b[0m\u001b[0;34m.\u001b[0m\u001b[0masarray\u001b[0m\u001b[0;34m(\u001b[0m\u001b[0marray\u001b[0m\u001b[0;34m,\u001b[0m \u001b[0morder\u001b[0m\u001b[0;34m=\u001b[0m\u001b[0morder\u001b[0m\u001b[0;34m,\u001b[0m \u001b[0mdtype\u001b[0m\u001b[0;34m=\u001b[0m\u001b[0mdtype\u001b[0m\u001b[0;34m)\u001b[0m\u001b[0;34m\u001b[0m\u001b[0;34m\u001b[0m\u001b[0m\n\u001b[0m\u001b[1;32m    186\u001b[0m         \u001b[0;32mreturn\u001b[0m \u001b[0mxp\u001b[0m\u001b[0;34m.\u001b[0m\u001b[0masarray\u001b[0m\u001b[0;34m(\u001b[0m\u001b[0marray\u001b[0m\u001b[0;34m,\u001b[0m \u001b[0mcopy\u001b[0m\u001b[0;34m=\u001b[0m\u001b[0mcopy\u001b[0m\u001b[0;34m)\u001b[0m\u001b[0;34m\u001b[0m\u001b[0;34m\u001b[0m\u001b[0m\n\u001b[1;32m    187\u001b[0m     \u001b[0;32melse\u001b[0m\u001b[0;34m:\u001b[0m\u001b[0;34m\u001b[0m\u001b[0;34m\u001b[0m\u001b[0m\n",
            "\u001b[0;32m/usr/local/lib/python3.9/dist-packages/pandas/core/generic.py\u001b[0m in \u001b[0;36m__array__\u001b[0;34m(self, dtype)\u001b[0m\n\u001b[1;32m   2062\u001b[0m \u001b[0;34m\u001b[0m\u001b[0m\n\u001b[1;32m   2063\u001b[0m     \u001b[0;32mdef\u001b[0m \u001b[0m__array__\u001b[0m\u001b[0;34m(\u001b[0m\u001b[0mself\u001b[0m\u001b[0;34m,\u001b[0m \u001b[0mdtype\u001b[0m\u001b[0;34m:\u001b[0m \u001b[0mnpt\u001b[0m\u001b[0;34m.\u001b[0m\u001b[0mDTypeLike\u001b[0m \u001b[0;34m|\u001b[0m \u001b[0;32mNone\u001b[0m \u001b[0;34m=\u001b[0m \u001b[0;32mNone\u001b[0m\u001b[0;34m)\u001b[0m \u001b[0;34m->\u001b[0m \u001b[0mnp\u001b[0m\u001b[0;34m.\u001b[0m\u001b[0mndarray\u001b[0m\u001b[0;34m:\u001b[0m\u001b[0;34m\u001b[0m\u001b[0;34m\u001b[0m\u001b[0m\n\u001b[0;32m-> 2064\u001b[0;31m         \u001b[0;32mreturn\u001b[0m \u001b[0mnp\u001b[0m\u001b[0;34m.\u001b[0m\u001b[0masarray\u001b[0m\u001b[0;34m(\u001b[0m\u001b[0mself\u001b[0m\u001b[0;34m.\u001b[0m\u001b[0m_values\u001b[0m\u001b[0;34m,\u001b[0m \u001b[0mdtype\u001b[0m\u001b[0;34m=\u001b[0m\u001b[0mdtype\u001b[0m\u001b[0;34m)\u001b[0m\u001b[0;34m\u001b[0m\u001b[0;34m\u001b[0m\u001b[0m\n\u001b[0m\u001b[1;32m   2065\u001b[0m \u001b[0;34m\u001b[0m\u001b[0m\n\u001b[1;32m   2066\u001b[0m     def __array_wrap__(\n",
            "\u001b[0;31mValueError\u001b[0m: could not convert string to float: 'f04a9a8b-2f07-4037-84aa-bb3ebc3989d3'"
          ]
        }
      ],
      "source": [
        "# Running RFE with 15 variables as output\n",
        "rfe = RFE(lr, step=20)\n",
        "rfe = rfe.fit(X_train, y_train)"
      ]
    },
    {
      "cell_type": "code",
      "execution_count": null,
      "metadata": {
        "id": "7zvDBArQDpsx",
        "outputId": "77cd6191-8a8d-40a2-cc3f-d35f419ba5d2"
      },
      "outputs": [
        {
          "data": {
            "text/plain": [
              "[('TotalVisits', True, 1),\n",
              " ('Total Time Spent on Website', True, 1),\n",
              " ('Page Views Per Visit', True, 1),\n",
              " ('Lead Origin_Landing Page Submission', False, 22),\n",
              " ('Lead Origin_Lead Add Form', True, 1),\n",
              " ('Lead Origin_Lead Import', False, 34),\n",
              " ('Specialization_Business Administration', False, 24),\n",
              " ('Specialization_E-Business', False, 18),\n",
              " ('Specialization_E-COMMERCE', False, 29),\n",
              " ('Specialization_Finance Management', False, 21),\n",
              " ('Specialization_Healthcare Management', False, 20),\n",
              " ('Specialization_Hospitality Management', False, 51),\n",
              " ('Specialization_Human Resource Management', False, 23),\n",
              " ('Specialization_IT Projects Management', False, 27),\n",
              " ('Specialization_International Business', False, 26),\n",
              " ('Specialization_Marketing Management', False, 19),\n",
              " ('Specialization_Media and Advertising', False, 46),\n",
              " ('Specialization_Operations Management', False, 30),\n",
              " ('Specialization_Retail Management', False, 59),\n",
              " ('Specialization_Rural and Agribusiness', False, 25),\n",
              " ('Specialization_Services Excellence', False, 43),\n",
              " ('Specialization_Supply Chain Management', False, 28),\n",
              " ('Specialization_Travel and Tourism', False, 31),\n",
              " ('Lead Source_Direct Traffic', True, 1),\n",
              " ('Lead Source_Facebook', False, 45),\n",
              " ('Lead Source_Google', True, 1),\n",
              " ('Lead Source_Live Chat', False, 56),\n",
              " ('Lead Source_NC_EDM', False, 17),\n",
              " ('Lead Source_Olark Chat', False, 12),\n",
              " ('Lead Source_Organic Search', True, 1),\n",
              " ('Lead Source_Pay per Click Ads', False, 42),\n",
              " ('Lead Source_Press_Release', False, 55),\n",
              " ('Lead Source_Reference', False, 11),\n",
              " ('Lead Source_Referral Sites', True, 1),\n",
              " ('Lead Source_Social Media', False, 10),\n",
              " ('Lead Source_WeLearn', False, 41),\n",
              " ('Lead Source_Welingak Website', True, 1),\n",
              " ('Lead Source_bing', False, 48),\n",
              " ('Lead Source_blog', False, 36),\n",
              " ('Lead Source_google', False, 32),\n",
              " ('Lead Source_testone', False, 39),\n",
              " ('Lead Source_welearnblog_Home', False, 61),\n",
              " ('Lead Source_youtubechannel', False, 60),\n",
              " ('Do Not Email_Yes', True, 1),\n",
              " ('Last Activity_Converted to Lead', False, 6),\n",
              " ('Last Activity_Email Bounced', True, 1),\n",
              " ('Last Activity_Email Link Clicked', False, 53),\n",
              " ('Last Activity_Email Marked Spam', False, 33),\n",
              " ('Last Activity_Email Opened', False, 40),\n",
              " ('Last Activity_Email Received', False, 54),\n",
              " ('Last Activity_Form Submitted on Website', False, 7),\n",
              " ('Last Activity_Had a Phone Conversation', False, 14),\n",
              " ('Last Activity_Olark Chat Conversation', True, 1),\n",
              " ('Last Activity_Page Visited on Website', False, 8),\n",
              " ('Last Activity_Resubscribed to emails', False, 16),\n",
              " ('Last Activity_SMS Sent', False, 15),\n",
              " ('Last Activity_Unreachable', False, 5),\n",
              " ('Last Activity_Unsubscribed', False, 49),\n",
              " ('Last Activity_View in browser link Clicked', False, 47),\n",
              " ('Last Activity_Visited Booth in Tradeshow', False, 50),\n",
              " ('What is your current occupation_Housewife', True, 1),\n",
              " ('What is your current occupation_Other', False, 2),\n",
              " ('What is your current occupation_Student', False, 4),\n",
              " ('What is your current occupation_Unemployed', False, 3),\n",
              " ('What is your current occupation_Working Professional', True, 1),\n",
              " ('A free copy of Mastering The Interview_Yes', False, 52),\n",
              " ('Last Notable Activity_Email Bounced', False, 44),\n",
              " ('Last Notable Activity_Email Link Clicked', True, 1),\n",
              " ('Last Notable Activity_Email Marked Spam', False, 35),\n",
              " ('Last Notable Activity_Email Opened', True, 1),\n",
              " ('Last Notable Activity_Email Received', False, 57),\n",
              " ('Last Notable Activity_Form Submitted on Website', False, 58),\n",
              " ('Last Notable Activity_Had a Phone Conversation', True, 1),\n",
              " ('Last Notable Activity_Modified', True, 1),\n",
              " ('Last Notable Activity_Olark Chat Conversation', True, 1),\n",
              " ('Last Notable Activity_Page Visited on Website', True, 1),\n",
              " ('Last Notable Activity_Resubscribed to emails', False, 13),\n",
              " ('Last Notable Activity_SMS Sent', False, 37),\n",
              " ('Last Notable Activity_Unreachable', False, 9),\n",
              " ('Last Notable Activity_Unsubscribed', False, 38),\n",
              " ('Last Notable Activity_View in browser link Clicked', False, 62)]"
            ]
          },
          "execution_count": 64,
          "metadata": {},
          "output_type": "execute_result"
        }
      ],
      "source": [
        "# Features that have been selected by RFE\n",
        "list(zip(X_train.columns, rfe.support_, rfe.ranking_))"
      ]
    },
    {
      "cell_type": "code",
      "execution_count": 72,
      "metadata": {
        "colab": {
          "base_uri": "https://localhost:8080/",
          "height": 189
        },
        "id": "kgccMNdfDpsx",
        "outputId": "0a40e602-a79c-43e9-ebb3-a0141041d48f"
      },
      "outputs": [
        {
          "output_type": "error",
          "ename": "AttributeError",
          "evalue": "ignored",
          "traceback": [
            "\u001b[0;31m---------------------------------------------------------------------------\u001b[0m",
            "\u001b[0;31mAttributeError\u001b[0m                            Traceback (most recent call last)",
            "\u001b[0;32m<ipython-input-72-693ec0278486>\u001b[0m in \u001b[0;36m<module>\u001b[0;34m\u001b[0m\n\u001b[1;32m      1\u001b[0m \u001b[0;31m# Put all the columns selected by RFE in the variable 'col'\u001b[0m\u001b[0;34m\u001b[0m\u001b[0;34m\u001b[0m\u001b[0m\n\u001b[0;32m----> 2\u001b[0;31m \u001b[0mcol\u001b[0m \u001b[0;34m=\u001b[0m \u001b[0mX_train\u001b[0m\u001b[0;34m.\u001b[0m\u001b[0mcolumns\u001b[0m\u001b[0;34m[\u001b[0m\u001b[0mrfe\u001b[0m\u001b[0;34m.\u001b[0m\u001b[0msupport_\u001b[0m\u001b[0;34m]\u001b[0m\u001b[0;34m\u001b[0m\u001b[0;34m\u001b[0m\u001b[0m\n\u001b[0m",
            "\u001b[0;31mAttributeError\u001b[0m: 'RFE' object has no attribute 'support_'"
          ]
        }
      ],
      "source": [
        "# Put all the columns selected by RFE in the variable 'col'\n",
        "col = X_train.columns[rfe.support_]"
      ]
    },
    {
      "cell_type": "markdown",
      "metadata": {
        "id": "3CNMm3xLDpsx"
      },
      "source": [
        "All the variables selected by RFE, next statistics part (p-values and the VIFs)"
      ]
    },
    {
      "cell_type": "code",
      "execution_count": 71,
      "metadata": {
        "colab": {
          "base_uri": "https://localhost:8080/",
          "height": 189
        },
        "id": "HX4akaETDpsx",
        "outputId": "4113e03d-d767-4a01-bdac-2108f309c915"
      },
      "outputs": [
        {
          "output_type": "error",
          "ename": "NameError",
          "evalue": "ignored",
          "traceback": [
            "\u001b[0;31m---------------------------------------------------------------------------\u001b[0m",
            "\u001b[0;31mNameError\u001b[0m                                 Traceback (most recent call last)",
            "\u001b[0;32m<ipython-input-71-c192d326d42c>\u001b[0m in \u001b[0;36m<module>\u001b[0;34m\u001b[0m\n\u001b[1;32m      1\u001b[0m \u001b[0;31m# Selecting columns selected by RFE\u001b[0m\u001b[0;34m\u001b[0m\u001b[0;34m\u001b[0m\u001b[0m\n\u001b[0;32m----> 2\u001b[0;31m \u001b[0mX_train\u001b[0m \u001b[0;34m=\u001b[0m \u001b[0mX_train\u001b[0m\u001b[0;34m[\u001b[0m\u001b[0mcol\u001b[0m\u001b[0;34m]\u001b[0m\u001b[0;34m\u001b[0m\u001b[0;34m\u001b[0m\u001b[0m\n\u001b[0m",
            "\u001b[0;31mNameError\u001b[0m: name 'col' is not defined"
          ]
        }
      ],
      "source": [
        "# Selecting columns selected by RFE\n",
        "X_train = X_train[col]\n"
      ]
    },
    {
      "cell_type": "code",
      "execution_count": null,
      "metadata": {
        "id": "JUo8BDx7Dpsy"
      },
      "outputs": [],
      "source": [
        "# Importing statsmodels\n",
        "import statsmodels.api as sm\n"
      ]
    },
    {
      "cell_type": "code",
      "execution_count": null,
      "metadata": {
        "id": "sEy7-4peDpsy",
        "outputId": "9ce2921f-38fe-46e3-c35c-6d8fa706613b"
      },
      "outputs": [
        {
          "data": {
            "text/html": [
              "<table class=\"simpletable\">\n",
              "<caption>Generalized Linear Model Regression Results</caption>\n",
              "<tr>\n",
              "  <th>Dep. Variable:</th>       <td>Converted</td>    <th>  No. Observations:  </th>  <td>  6293</td> \n",
              "</tr>\n",
              "<tr>\n",
              "  <th>Model:</th>                  <td>GLM</td>       <th>  Df Residuals:      </th>  <td>  6272</td> \n",
              "</tr>\n",
              "<tr>\n",
              "  <th>Model Family:</th>        <td>Binomial</td>     <th>  Df Model:          </th>  <td>    20</td> \n",
              "</tr>\n",
              "<tr>\n",
              "  <th>Link Function:</th>         <td>logit</td>      <th>  Scale:             </th> <td>  1.0000</td>\n",
              "</tr>\n",
              "<tr>\n",
              "  <th>Method:</th>                <td>IRLS</td>       <th>  Log-Likelihood:    </th> <td> -2573.2</td>\n",
              "</tr>\n",
              "<tr>\n",
              "  <th>Date:</th>            <td>Mon, 07 Sep 2020</td> <th>  Deviance:          </th> <td>  5146.4</td>\n",
              "</tr>\n",
              "<tr>\n",
              "  <th>Time:</th>                <td>17:20:08</td>     <th>  Pearson chi2:      </th> <td>6.52e+03</td>\n",
              "</tr>\n",
              "<tr>\n",
              "  <th>No. Iterations:</th>         <td>22</td>        <th>                     </th>     <td> </td>   \n",
              "</tr>\n",
              "<tr>\n",
              "  <th>Covariance Type:</th>     <td>nonrobust</td>    <th>                     </th>     <td> </td>   \n",
              "</tr>\n",
              "</table>\n",
              "<table class=\"simpletable\">\n",
              "<tr>\n",
              "                            <td></td>                              <th>coef</th>     <th>std err</th>      <th>z</th>      <th>P>|z|</th>  <th>[0.025</th>    <th>0.975]</th>  \n",
              "</tr>\n",
              "<tr>\n",
              "  <th>const</th>                                                <td>    0.3920</td> <td>    0.101</td> <td>    3.876</td> <td> 0.000</td> <td>    0.194</td> <td>    0.590</td>\n",
              "</tr>\n",
              "<tr>\n",
              "  <th>TotalVisits</th>                                          <td>    1.9299</td> <td>    0.301</td> <td>    6.405</td> <td> 0.000</td> <td>    1.339</td> <td>    2.520</td>\n",
              "</tr>\n",
              "<tr>\n",
              "  <th>Total Time Spent on Website</th>                          <td>    4.7035</td> <td>    0.170</td> <td>   27.617</td> <td> 0.000</td> <td>    4.370</td> <td>    5.037</td>\n",
              "</tr>\n",
              "<tr>\n",
              "  <th>Page Views Per Visit</th>                                 <td>   -2.0243</td> <td>    0.444</td> <td>   -4.558</td> <td> 0.000</td> <td>   -2.895</td> <td>   -1.154</td>\n",
              "</tr>\n",
              "<tr>\n",
              "  <th>Lead Origin_Lead Add Form</th>                            <td>    3.0451</td> <td>    0.256</td> <td>   11.896</td> <td> 0.000</td> <td>    2.543</td> <td>    3.547</td>\n",
              "</tr>\n",
              "<tr>\n",
              "  <th>Lead Source_Direct Traffic</th>                           <td>   -1.5377</td> <td>    0.132</td> <td>  -11.617</td> <td> 0.000</td> <td>   -1.797</td> <td>   -1.278</td>\n",
              "</tr>\n",
              "<tr>\n",
              "  <th>Lead Source_Google</th>                                   <td>   -1.1120</td> <td>    0.129</td> <td>   -8.598</td> <td> 0.000</td> <td>   -1.366</td> <td>   -0.859</td>\n",
              "</tr>\n",
              "<tr>\n",
              "  <th>Lead Source_Organic Search</th>                           <td>   -1.4285</td> <td>    0.165</td> <td>   -8.657</td> <td> 0.000</td> <td>   -1.752</td> <td>   -1.105</td>\n",
              "</tr>\n",
              "<tr>\n",
              "  <th>Lead Source_Referral Sites</th>                           <td>   -1.3511</td> <td>    0.334</td> <td>   -4.049</td> <td> 0.000</td> <td>   -2.005</td> <td>   -0.697</td>\n",
              "</tr>\n",
              "<tr>\n",
              "  <th>Lead Source_Welingak Website</th>                         <td>    2.4662</td> <td>    1.039</td> <td>    2.373</td> <td> 0.018</td> <td>    0.429</td> <td>    4.503</td>\n",
              "</tr>\n",
              "<tr>\n",
              "  <th>Do Not Email_Yes</th>                                     <td>   -1.4273</td> <td>    0.206</td> <td>   -6.916</td> <td> 0.000</td> <td>   -1.832</td> <td>   -1.023</td>\n",
              "</tr>\n",
              "<tr>\n",
              "  <th>Last Activity_Email Bounced</th>                          <td>   -1.1159</td> <td>    0.396</td> <td>   -2.820</td> <td> 0.005</td> <td>   -1.891</td> <td>   -0.340</td>\n",
              "</tr>\n",
              "<tr>\n",
              "  <th>Last Activity_Olark Chat Conversation</th>                <td>   -1.2987</td> <td>    0.193</td> <td>   -6.723</td> <td> 0.000</td> <td>   -1.677</td> <td>   -0.920</td>\n",
              "</tr>\n",
              "<tr>\n",
              "  <th>What is your current occupation_Housewife</th>            <td>   23.3558</td> <td> 2.89e+04</td> <td>    0.001</td> <td> 0.999</td> <td>-5.66e+04</td> <td> 5.66e+04</td>\n",
              "</tr>\n",
              "<tr>\n",
              "  <th>What is your current occupation_Working Professional</th> <td>    2.7793</td> <td>    0.191</td> <td>   14.523</td> <td> 0.000</td> <td>    2.404</td> <td>    3.154</td>\n",
              "</tr>\n",
              "<tr>\n",
              "  <th>Last Notable Activity_Email Link Clicked</th>             <td>   -2.0672</td> <td>    0.266</td> <td>   -7.760</td> <td> 0.000</td> <td>   -2.589</td> <td>   -1.545</td>\n",
              "</tr>\n",
              "<tr>\n",
              "  <th>Last Notable Activity_Email Opened</th>                   <td>   -1.4274</td> <td>    0.090</td> <td>  -15.864</td> <td> 0.000</td> <td>   -1.604</td> <td>   -1.251</td>\n",
              "</tr>\n",
              "<tr>\n",
              "  <th>Last Notable Activity_Had a Phone Conversation</th>       <td>   22.3270</td> <td> 2.19e+04</td> <td>    0.001</td> <td> 0.999</td> <td>-4.28e+04</td> <td> 4.29e+04</td>\n",
              "</tr>\n",
              "<tr>\n",
              "  <th>Last Notable Activity_Modified</th>                       <td>   -1.8466</td> <td>    0.099</td> <td>  -18.632</td> <td> 0.000</td> <td>   -2.041</td> <td>   -1.652</td>\n",
              "</tr>\n",
              "<tr>\n",
              "  <th>Last Notable Activity_Olark Chat Conversation</th>        <td>   -1.6187</td> <td>    0.372</td> <td>   -4.347</td> <td> 0.000</td> <td>   -2.348</td> <td>   -0.889</td>\n",
              "</tr>\n",
              "<tr>\n",
              "  <th>Last Notable Activity_Page Visited on Website</th>        <td>   -2.1305</td> <td>    0.216</td> <td>   -9.849</td> <td> 0.000</td> <td>   -2.554</td> <td>   -1.707</td>\n",
              "</tr>\n",
              "</table>"
            ],
            "text/plain": [
              "<class 'statsmodels.iolib.summary.Summary'>\n",
              "\"\"\"\n",
              "                 Generalized Linear Model Regression Results                  \n",
              "==============================================================================\n",
              "Dep. Variable:              Converted   No. Observations:                 6293\n",
              "Model:                            GLM   Df Residuals:                     6272\n",
              "Model Family:                Binomial   Df Model:                           20\n",
              "Link Function:                  logit   Scale:                          1.0000\n",
              "Method:                          IRLS   Log-Likelihood:                -2573.2\n",
              "Date:                Mon, 07 Sep 2020   Deviance:                       5146.4\n",
              "Time:                        17:20:08   Pearson chi2:                 6.52e+03\n",
              "No. Iterations:                    22                                         \n",
              "Covariance Type:            nonrobust                                         \n",
              "========================================================================================================================\n",
              "                                                           coef    std err          z      P>|z|      [0.025      0.975]\n",
              "------------------------------------------------------------------------------------------------------------------------\n",
              "const                                                    0.3920      0.101      3.876      0.000       0.194       0.590\n",
              "TotalVisits                                              1.9299      0.301      6.405      0.000       1.339       2.520\n",
              "Total Time Spent on Website                              4.7035      0.170     27.617      0.000       4.370       5.037\n",
              "Page Views Per Visit                                    -2.0243      0.444     -4.558      0.000      -2.895      -1.154\n",
              "Lead Origin_Lead Add Form                                3.0451      0.256     11.896      0.000       2.543       3.547\n",
              "Lead Source_Direct Traffic                              -1.5377      0.132    -11.617      0.000      -1.797      -1.278\n",
              "Lead Source_Google                                      -1.1120      0.129     -8.598      0.000      -1.366      -0.859\n",
              "Lead Source_Organic Search                              -1.4285      0.165     -8.657      0.000      -1.752      -1.105\n",
              "Lead Source_Referral Sites                              -1.3511      0.334     -4.049      0.000      -2.005      -0.697\n",
              "Lead Source_Welingak Website                             2.4662      1.039      2.373      0.018       0.429       4.503\n",
              "Do Not Email_Yes                                        -1.4273      0.206     -6.916      0.000      -1.832      -1.023\n",
              "Last Activity_Email Bounced                             -1.1159      0.396     -2.820      0.005      -1.891      -0.340\n",
              "Last Activity_Olark Chat Conversation                   -1.2987      0.193     -6.723      0.000      -1.677      -0.920\n",
              "What is your current occupation_Housewife               23.3558   2.89e+04      0.001      0.999   -5.66e+04    5.66e+04\n",
              "What is your current occupation_Working Professional     2.7793      0.191     14.523      0.000       2.404       3.154\n",
              "Last Notable Activity_Email Link Clicked                -2.0672      0.266     -7.760      0.000      -2.589      -1.545\n",
              "Last Notable Activity_Email Opened                      -1.4274      0.090    -15.864      0.000      -1.604      -1.251\n",
              "Last Notable Activity_Had a Phone Conversation          22.3270   2.19e+04      0.001      0.999   -4.28e+04    4.29e+04\n",
              "Last Notable Activity_Modified                          -1.8466      0.099    -18.632      0.000      -2.041      -1.652\n",
              "Last Notable Activity_Olark Chat Conversation           -1.6187      0.372     -4.347      0.000      -2.348      -0.889\n",
              "Last Notable Activity_Page Visited on Website           -2.1305      0.216     -9.849      0.000      -2.554      -1.707\n",
              "========================================================================================================================\n",
              "\"\"\""
            ]
          },
          "execution_count": 68,
          "metadata": {},
          "output_type": "execute_result"
        }
      ],
      "source": [
        "X_train_sm = sm.add_constant(X_train)\n",
        "logm1 = sm.GLM(y_train, X_train_sm, family = sm.families.Binomial())\n",
        "res = logm1.fit()\n",
        "res.summary()\n"
      ]
    },
    {
      "cell_type": "code",
      "execution_count": null,
      "metadata": {
        "id": "8xkth28rDpsy"
      },
      "outputs": [],
      "source": [
        "# Importing 'variance_inflation_factor'\n",
        "from statsmodels.stats.outliers_influence import variance_inflation_factor\n"
      ]
    },
    {
      "cell_type": "code",
      "execution_count": null,
      "metadata": {
        "id": "CpKqFgBsDpsy",
        "outputId": "7fbb0aaf-5ee9-4f08-9ac2-116b4c0cdcfc"
      },
      "outputs": [
        {
          "data": {
            "text/html": [
              "<div>\n",
              "<style scoped>\n",
              "    .dataframe tbody tr th:only-of-type {\n",
              "        vertical-align: middle;\n",
              "    }\n",
              "\n",
              "    .dataframe tbody tr th {\n",
              "        vertical-align: top;\n",
              "    }\n",
              "\n",
              "    .dataframe thead th {\n",
              "        text-align: right;\n",
              "    }\n",
              "</style>\n",
              "<table border=\"1\" class=\"dataframe\">\n",
              "  <thead>\n",
              "    <tr style=\"text-align: right;\">\n",
              "      <th></th>\n",
              "      <th>Features</th>\n",
              "      <th>VIF</th>\n",
              "    </tr>\n",
              "  </thead>\n",
              "  <tbody>\n",
              "    <tr>\n",
              "      <th>2</th>\n",
              "      <td>Page Views Per Visit</td>\n",
              "      <td>6.32</td>\n",
              "    </tr>\n",
              "    <tr>\n",
              "      <th>0</th>\n",
              "      <td>TotalVisits</td>\n",
              "      <td>5.50</td>\n",
              "    </tr>\n",
              "    <tr>\n",
              "      <th>5</th>\n",
              "      <td>Lead Source_Google</td>\n",
              "      <td>3.56</td>\n",
              "    </tr>\n",
              "    <tr>\n",
              "      <th>4</th>\n",
              "      <td>Lead Source_Direct Traffic</td>\n",
              "      <td>3.15</td>\n",
              "    </tr>\n",
              "    <tr>\n",
              "      <th>6</th>\n",
              "      <td>Lead Source_Organic Search</td>\n",
              "      <td>2.43</td>\n",
              "    </tr>\n",
              "    <tr>\n",
              "      <th>1</th>\n",
              "      <td>Total Time Spent on Website</td>\n",
              "      <td>2.35</td>\n",
              "    </tr>\n",
              "    <tr>\n",
              "      <th>17</th>\n",
              "      <td>Last Notable Activity_Modified</td>\n",
              "      <td>2.34</td>\n",
              "    </tr>\n",
              "    <tr>\n",
              "      <th>9</th>\n",
              "      <td>Do Not Email_Yes</td>\n",
              "      <td>1.92</td>\n",
              "    </tr>\n",
              "    <tr>\n",
              "      <th>10</th>\n",
              "      <td>Last Activity_Email Bounced</td>\n",
              "      <td>1.86</td>\n",
              "    </tr>\n",
              "    <tr>\n",
              "      <th>11</th>\n",
              "      <td>Last Activity_Olark Chat Conversation</td>\n",
              "      <td>1.77</td>\n",
              "    </tr>\n",
              "    <tr>\n",
              "      <th>15</th>\n",
              "      <td>Last Notable Activity_Email Opened</td>\n",
              "      <td>1.70</td>\n",
              "    </tr>\n",
              "    <tr>\n",
              "      <th>3</th>\n",
              "      <td>Lead Origin_Lead Add Form</td>\n",
              "      <td>1.53</td>\n",
              "    </tr>\n",
              "    <tr>\n",
              "      <th>18</th>\n",
              "      <td>Last Notable Activity_Olark Chat Conversation</td>\n",
              "      <td>1.36</td>\n",
              "    </tr>\n",
              "    <tr>\n",
              "      <th>8</th>\n",
              "      <td>Lead Source_Welingak Website</td>\n",
              "      <td>1.34</td>\n",
              "    </tr>\n",
              "    <tr>\n",
              "      <th>19</th>\n",
              "      <td>Last Notable Activity_Page Visited on Website</td>\n",
              "      <td>1.18</td>\n",
              "    </tr>\n",
              "    <tr>\n",
              "      <th>13</th>\n",
              "      <td>What is your current occupation_Working Profes...</td>\n",
              "      <td>1.17</td>\n",
              "    </tr>\n",
              "    <tr>\n",
              "      <th>7</th>\n",
              "      <td>Lead Source_Referral Sites</td>\n",
              "      <td>1.15</td>\n",
              "    </tr>\n",
              "    <tr>\n",
              "      <th>14</th>\n",
              "      <td>Last Notable Activity_Email Link Clicked</td>\n",
              "      <td>1.03</td>\n",
              "    </tr>\n",
              "    <tr>\n",
              "      <th>12</th>\n",
              "      <td>What is your current occupation_Housewife</td>\n",
              "      <td>1.01</td>\n",
              "    </tr>\n",
              "    <tr>\n",
              "      <th>16</th>\n",
              "      <td>Last Notable Activity_Had a Phone Conversation</td>\n",
              "      <td>1.01</td>\n",
              "    </tr>\n",
              "  </tbody>\n",
              "</table>\n",
              "</div>"
            ],
            "text/plain": [
              "                                             Features   VIF\n",
              "2                                Page Views Per Visit  6.32\n",
              "0                                         TotalVisits  5.50\n",
              "5                                  Lead Source_Google  3.56\n",
              "4                          Lead Source_Direct Traffic  3.15\n",
              "6                          Lead Source_Organic Search  2.43\n",
              "1                         Total Time Spent on Website  2.35\n",
              "17                     Last Notable Activity_Modified  2.34\n",
              "9                                    Do Not Email_Yes  1.92\n",
              "10                        Last Activity_Email Bounced  1.86\n",
              "11              Last Activity_Olark Chat Conversation  1.77\n",
              "15                 Last Notable Activity_Email Opened  1.70\n",
              "3                           Lead Origin_Lead Add Form  1.53\n",
              "18      Last Notable Activity_Olark Chat Conversation  1.36\n",
              "8                        Lead Source_Welingak Website  1.34\n",
              "19      Last Notable Activity_Page Visited on Website  1.18\n",
              "13  What is your current occupation_Working Profes...  1.17\n",
              "7                          Lead Source_Referral Sites  1.15\n",
              "14           Last Notable Activity_Email Link Clicked  1.03\n",
              "12          What is your current occupation_Housewife  1.01\n",
              "16     Last Notable Activity_Had a Phone Conversation  1.01"
            ]
          },
          "execution_count": 70,
          "metadata": {},
          "output_type": "execute_result"
        }
      ],
      "source": [
        "# Make a VIF dataframe for all the variables present\n",
        "vif = pd.DataFrame()\n",
        "vif['Features'] = X_train.columns\n",
        "vif['VIF'] = [variance_inflation_factor(X_train.values, i) for i in range(X_train.shape[1])]\n",
        "vif['VIF'] = round(vif['VIF'], 2)\n",
        "vif = vif.sort_values(by = \"VIF\", ascending = False)\n",
        "vif\n"
      ]
    },
    {
      "cell_type": "markdown",
      "metadata": {
        "id": "jzo6wsZLDpsz"
      },
      "source": [
        "### The VIF values seem fine but some p-values are 99 %. So removing ' What is your current occupation_Housewife','Last Notable Activity_Had a Phone Conversation'."
      ]
    },
    {
      "cell_type": "code",
      "execution_count": null,
      "metadata": {
        "id": "eixur7WDDpsz"
      },
      "outputs": [],
      "source": [
        "X_train.drop(['What is your current occupation_Housewife','Last Notable Activity_Had a Phone Conversation'], axis = 1, inplace = True)"
      ]
    },
    {
      "cell_type": "code",
      "execution_count": null,
      "metadata": {
        "id": "0K5e7gPyDpsz",
        "outputId": "395d1211-7d2c-4dec-e510-e8a1555322fe"
      },
      "outputs": [
        {
          "data": {
            "text/html": [
              "<table class=\"simpletable\">\n",
              "<caption>Generalized Linear Model Regression Results</caption>\n",
              "<tr>\n",
              "  <th>Dep. Variable:</th>       <td>Converted</td>    <th>  No. Observations:  </th>  <td>  6293</td> \n",
              "</tr>\n",
              "<tr>\n",
              "  <th>Model:</th>                  <td>GLM</td>       <th>  Df Residuals:      </th>  <td>  6274</td> \n",
              "</tr>\n",
              "<tr>\n",
              "  <th>Model Family:</th>        <td>Binomial</td>     <th>  Df Model:          </th>  <td>    18</td> \n",
              "</tr>\n",
              "<tr>\n",
              "  <th>Link Function:</th>         <td>logit</td>      <th>  Scale:             </th> <td>  1.0000</td>\n",
              "</tr>\n",
              "<tr>\n",
              "  <th>Method:</th>                <td>IRLS</td>       <th>  Log-Likelihood:    </th> <td> -2579.1</td>\n",
              "</tr>\n",
              "<tr>\n",
              "  <th>Date:</th>            <td>Mon, 07 Sep 2020</td> <th>  Deviance:          </th> <td>  5158.3</td>\n",
              "</tr>\n",
              "<tr>\n",
              "  <th>Time:</th>                <td>17:20:09</td>     <th>  Pearson chi2:      </th> <td>6.55e+03</td>\n",
              "</tr>\n",
              "<tr>\n",
              "  <th>No. Iterations:</th>          <td>7</td>        <th>                     </th>     <td> </td>   \n",
              "</tr>\n",
              "<tr>\n",
              "  <th>Covariance Type:</th>     <td>nonrobust</td>    <th>                     </th>     <td> </td>   \n",
              "</tr>\n",
              "</table>\n",
              "<table class=\"simpletable\">\n",
              "<tr>\n",
              "                            <td></td>                              <th>coef</th>     <th>std err</th>      <th>z</th>      <th>P>|z|</th>  <th>[0.025</th>    <th>0.975]</th>  \n",
              "</tr>\n",
              "<tr>\n",
              "  <th>const</th>                                                <td>    0.3960</td> <td>    0.101</td> <td>    3.918</td> <td> 0.000</td> <td>    0.198</td> <td>    0.594</td>\n",
              "</tr>\n",
              "<tr>\n",
              "  <th>TotalVisits</th>                                          <td>    1.9392</td> <td>    0.300</td> <td>    6.461</td> <td> 0.000</td> <td>    1.351</td> <td>    2.528</td>\n",
              "</tr>\n",
              "<tr>\n",
              "  <th>Total Time Spent on Website</th>                          <td>    4.7007</td> <td>    0.170</td> <td>   27.634</td> <td> 0.000</td> <td>    4.367</td> <td>    5.034</td>\n",
              "</tr>\n",
              "<tr>\n",
              "  <th>Page Views Per Visit</th>                                 <td>   -2.0311</td> <td>    0.443</td> <td>   -4.582</td> <td> 0.000</td> <td>   -2.900</td> <td>   -1.162</td>\n",
              "</tr>\n",
              "<tr>\n",
              "  <th>Lead Origin_Lead Add Form</th>                            <td>    3.0728</td> <td>    0.256</td> <td>   12.020</td> <td> 0.000</td> <td>    2.572</td> <td>    3.574</td>\n",
              "</tr>\n",
              "<tr>\n",
              "  <th>Lead Source_Direct Traffic</th>                           <td>   -1.5326</td> <td>    0.132</td> <td>  -11.589</td> <td> 0.000</td> <td>   -1.792</td> <td>   -1.273</td>\n",
              "</tr>\n",
              "<tr>\n",
              "  <th>Lead Source_Google</th>                                   <td>   -1.1040</td> <td>    0.129</td> <td>   -8.544</td> <td> 0.000</td> <td>   -1.357</td> <td>   -0.851</td>\n",
              "</tr>\n",
              "<tr>\n",
              "  <th>Lead Source_Organic Search</th>                           <td>   -1.4292</td> <td>    0.165</td> <td>   -8.664</td> <td> 0.000</td> <td>   -1.753</td> <td>   -1.106</td>\n",
              "</tr>\n",
              "<tr>\n",
              "  <th>Lead Source_Referral Sites</th>                           <td>   -1.3504</td> <td>    0.334</td> <td>   -4.048</td> <td> 0.000</td> <td>   -2.004</td> <td>   -0.697</td>\n",
              "</tr>\n",
              "<tr>\n",
              "  <th>Lead Source_Welingak Website</th>                         <td>    2.4399</td> <td>    1.039</td> <td>    2.348</td> <td> 0.019</td> <td>    0.403</td> <td>    4.477</td>\n",
              "</tr>\n",
              "<tr>\n",
              "  <th>Do Not Email_Yes</th>                                     <td>   -1.4347</td> <td>    0.206</td> <td>   -6.949</td> <td> 0.000</td> <td>   -1.839</td> <td>   -1.030</td>\n",
              "</tr>\n",
              "<tr>\n",
              "  <th>Last Activity_Email Bounced</th>                          <td>   -1.1144</td> <td>    0.396</td> <td>   -2.816</td> <td> 0.005</td> <td>   -1.890</td> <td>   -0.339</td>\n",
              "</tr>\n",
              "<tr>\n",
              "  <th>Last Activity_Olark Chat Conversation</th>                <td>   -1.2999</td> <td>    0.193</td> <td>   -6.730</td> <td> 0.000</td> <td>   -1.678</td> <td>   -0.921</td>\n",
              "</tr>\n",
              "<tr>\n",
              "  <th>What is your current occupation_Working Professional</th> <td>    2.7758</td> <td>    0.191</td> <td>   14.506</td> <td> 0.000</td> <td>    2.401</td> <td>    3.151</td>\n",
              "</tr>\n",
              "<tr>\n",
              "  <th>Last Notable Activity_Email Link Clicked</th>             <td>   -2.0624</td> <td>    0.265</td> <td>   -7.796</td> <td> 0.000</td> <td>   -2.581</td> <td>   -1.544</td>\n",
              "</tr>\n",
              "<tr>\n",
              "  <th>Last Notable Activity_Email Opened</th>                   <td>   -1.4328</td> <td>    0.090</td> <td>  -15.945</td> <td> 0.000</td> <td>   -1.609</td> <td>   -1.257</td>\n",
              "</tr>\n",
              "<tr>\n",
              "  <th>Last Notable Activity_Modified</th>                       <td>   -1.8512</td> <td>    0.099</td> <td>  -18.701</td> <td> 0.000</td> <td>   -2.045</td> <td>   -1.657</td>\n",
              "</tr>\n",
              "<tr>\n",
              "  <th>Last Notable Activity_Olark Chat Conversation</th>        <td>   -1.6244</td> <td>    0.372</td> <td>   -4.362</td> <td> 0.000</td> <td>   -2.354</td> <td>   -0.894</td>\n",
              "</tr>\n",
              "<tr>\n",
              "  <th>Last Notable Activity_Page Visited on Website</th>        <td>   -2.1410</td> <td>    0.216</td> <td>   -9.903</td> <td> 0.000</td> <td>   -2.565</td> <td>   -1.717</td>\n",
              "</tr>\n",
              "</table>"
            ],
            "text/plain": [
              "<class 'statsmodels.iolib.summary.Summary'>\n",
              "\"\"\"\n",
              "                 Generalized Linear Model Regression Results                  \n",
              "==============================================================================\n",
              "Dep. Variable:              Converted   No. Observations:                 6293\n",
              "Model:                            GLM   Df Residuals:                     6274\n",
              "Model Family:                Binomial   Df Model:                           18\n",
              "Link Function:                  logit   Scale:                          1.0000\n",
              "Method:                          IRLS   Log-Likelihood:                -2579.1\n",
              "Date:                Mon, 07 Sep 2020   Deviance:                       5158.3\n",
              "Time:                        17:20:09   Pearson chi2:                 6.55e+03\n",
              "No. Iterations:                     7                                         \n",
              "Covariance Type:            nonrobust                                         \n",
              "========================================================================================================================\n",
              "                                                           coef    std err          z      P>|z|      [0.025      0.975]\n",
              "------------------------------------------------------------------------------------------------------------------------\n",
              "const                                                    0.3960      0.101      3.918      0.000       0.198       0.594\n",
              "TotalVisits                                              1.9392      0.300      6.461      0.000       1.351       2.528\n",
              "Total Time Spent on Website                              4.7007      0.170     27.634      0.000       4.367       5.034\n",
              "Page Views Per Visit                                    -2.0311      0.443     -4.582      0.000      -2.900      -1.162\n",
              "Lead Origin_Lead Add Form                                3.0728      0.256     12.020      0.000       2.572       3.574\n",
              "Lead Source_Direct Traffic                              -1.5326      0.132    -11.589      0.000      -1.792      -1.273\n",
              "Lead Source_Google                                      -1.1040      0.129     -8.544      0.000      -1.357      -0.851\n",
              "Lead Source_Organic Search                              -1.4292      0.165     -8.664      0.000      -1.753      -1.106\n",
              "Lead Source_Referral Sites                              -1.3504      0.334     -4.048      0.000      -2.004      -0.697\n",
              "Lead Source_Welingak Website                             2.4399      1.039      2.348      0.019       0.403       4.477\n",
              "Do Not Email_Yes                                        -1.4347      0.206     -6.949      0.000      -1.839      -1.030\n",
              "Last Activity_Email Bounced                             -1.1144      0.396     -2.816      0.005      -1.890      -0.339\n",
              "Last Activity_Olark Chat Conversation                   -1.2999      0.193     -6.730      0.000      -1.678      -0.921\n",
              "What is your current occupation_Working Professional     2.7758      0.191     14.506      0.000       2.401       3.151\n",
              "Last Notable Activity_Email Link Clicked                -2.0624      0.265     -7.796      0.000      -2.581      -1.544\n",
              "Last Notable Activity_Email Opened                      -1.4328      0.090    -15.945      0.000      -1.609      -1.257\n",
              "Last Notable Activity_Modified                          -1.8512      0.099    -18.701      0.000      -2.045      -1.657\n",
              "Last Notable Activity_Olark Chat Conversation           -1.6244      0.372     -4.362      0.000      -2.354      -0.894\n",
              "Last Notable Activity_Page Visited on Website           -2.1410      0.216     -9.903      0.000      -2.565      -1.717\n",
              "========================================================================================================================\n",
              "\"\"\""
            ]
          },
          "execution_count": 72,
          "metadata": {},
          "output_type": "execute_result"
        }
      ],
      "source": [
        "# Refit the model with the new set of features\n",
        "X_train_sm = sm.add_constant(X_train)\n",
        "logm3 = sm.GLM(y_train, X_train_sm, family = sm.families.Binomial())\n",
        "res = logm3.fit()\n",
        "res.summary()"
      ]
    },
    {
      "cell_type": "code",
      "execution_count": null,
      "metadata": {
        "id": "Q3KjCQ5WDpsz",
        "outputId": "f71e2699-5036-4c2b-d073-d2a75ff70d59"
      },
      "outputs": [
        {
          "data": {
            "text/html": [
              "<div>\n",
              "<style scoped>\n",
              "    .dataframe tbody tr th:only-of-type {\n",
              "        vertical-align: middle;\n",
              "    }\n",
              "\n",
              "    .dataframe tbody tr th {\n",
              "        vertical-align: top;\n",
              "    }\n",
              "\n",
              "    .dataframe thead th {\n",
              "        text-align: right;\n",
              "    }\n",
              "</style>\n",
              "<table border=\"1\" class=\"dataframe\">\n",
              "  <thead>\n",
              "    <tr style=\"text-align: right;\">\n",
              "      <th></th>\n",
              "      <th>Features</th>\n",
              "      <th>VIF</th>\n",
              "    </tr>\n",
              "  </thead>\n",
              "  <tbody>\n",
              "    <tr>\n",
              "      <th>2</th>\n",
              "      <td>Page Views Per Visit</td>\n",
              "      <td>6.32</td>\n",
              "    </tr>\n",
              "    <tr>\n",
              "      <th>0</th>\n",
              "      <td>TotalVisits</td>\n",
              "      <td>5.50</td>\n",
              "    </tr>\n",
              "    <tr>\n",
              "      <th>5</th>\n",
              "      <td>Lead Source_Google</td>\n",
              "      <td>3.56</td>\n",
              "    </tr>\n",
              "    <tr>\n",
              "      <th>4</th>\n",
              "      <td>Lead Source_Direct Traffic</td>\n",
              "      <td>3.15</td>\n",
              "    </tr>\n",
              "    <tr>\n",
              "      <th>6</th>\n",
              "      <td>Lead Source_Organic Search</td>\n",
              "      <td>2.43</td>\n",
              "    </tr>\n",
              "    <tr>\n",
              "      <th>1</th>\n",
              "      <td>Total Time Spent on Website</td>\n",
              "      <td>2.34</td>\n",
              "    </tr>\n",
              "    <tr>\n",
              "      <th>15</th>\n",
              "      <td>Last Notable Activity_Modified</td>\n",
              "      <td>2.34</td>\n",
              "    </tr>\n",
              "    <tr>\n",
              "      <th>9</th>\n",
              "      <td>Do Not Email_Yes</td>\n",
              "      <td>1.92</td>\n",
              "    </tr>\n",
              "    <tr>\n",
              "      <th>10</th>\n",
              "      <td>Last Activity_Email Bounced</td>\n",
              "      <td>1.86</td>\n",
              "    </tr>\n",
              "    <tr>\n",
              "      <th>11</th>\n",
              "      <td>Last Activity_Olark Chat Conversation</td>\n",
              "      <td>1.77</td>\n",
              "    </tr>\n",
              "    <tr>\n",
              "      <th>14</th>\n",
              "      <td>Last Notable Activity_Email Opened</td>\n",
              "      <td>1.70</td>\n",
              "    </tr>\n",
              "    <tr>\n",
              "      <th>3</th>\n",
              "      <td>Lead Origin_Lead Add Form</td>\n",
              "      <td>1.53</td>\n",
              "    </tr>\n",
              "    <tr>\n",
              "      <th>16</th>\n",
              "      <td>Last Notable Activity_Olark Chat Conversation</td>\n",
              "      <td>1.36</td>\n",
              "    </tr>\n",
              "    <tr>\n",
              "      <th>8</th>\n",
              "      <td>Lead Source_Welingak Website</td>\n",
              "      <td>1.34</td>\n",
              "    </tr>\n",
              "    <tr>\n",
              "      <th>17</th>\n",
              "      <td>Last Notable Activity_Page Visited on Website</td>\n",
              "      <td>1.18</td>\n",
              "    </tr>\n",
              "    <tr>\n",
              "      <th>12</th>\n",
              "      <td>What is your current occupation_Working Profes...</td>\n",
              "      <td>1.17</td>\n",
              "    </tr>\n",
              "    <tr>\n",
              "      <th>7</th>\n",
              "      <td>Lead Source_Referral Sites</td>\n",
              "      <td>1.15</td>\n",
              "    </tr>\n",
              "    <tr>\n",
              "      <th>13</th>\n",
              "      <td>Last Notable Activity_Email Link Clicked</td>\n",
              "      <td>1.03</td>\n",
              "    </tr>\n",
              "  </tbody>\n",
              "</table>\n",
              "</div>"
            ],
            "text/plain": [
              "                                             Features   VIF\n",
              "2                                Page Views Per Visit  6.32\n",
              "0                                         TotalVisits  5.50\n",
              "5                                  Lead Source_Google  3.56\n",
              "4                          Lead Source_Direct Traffic  3.15\n",
              "6                          Lead Source_Organic Search  2.43\n",
              "1                         Total Time Spent on Website  2.34\n",
              "15                     Last Notable Activity_Modified  2.34\n",
              "9                                    Do Not Email_Yes  1.92\n",
              "10                        Last Activity_Email Bounced  1.86\n",
              "11              Last Activity_Olark Chat Conversation  1.77\n",
              "14                 Last Notable Activity_Email Opened  1.70\n",
              "3                           Lead Origin_Lead Add Form  1.53\n",
              "16      Last Notable Activity_Olark Chat Conversation  1.36\n",
              "8                        Lead Source_Welingak Website  1.34\n",
              "17      Last Notable Activity_Page Visited on Website  1.18\n",
              "12  What is your current occupation_Working Profes...  1.17\n",
              "7                          Lead Source_Referral Sites  1.15\n",
              "13           Last Notable Activity_Email Link Clicked  1.03"
            ]
          },
          "execution_count": 73,
          "metadata": {},
          "output_type": "execute_result"
        }
      ],
      "source": [
        "# Make a VIF dataframe for all the variables present\n",
        "vif = pd.DataFrame()\n",
        "vif['Features'] = X_train.columns\n",
        "vif['VIF'] = [variance_inflation_factor(X_train.values, i) for i in range(X_train.shape[1])]\n",
        "vif['VIF'] = round(vif['VIF'], 2)\n",
        "vif = vif.sort_values(by = \"VIF\", ascending = False)\n",
        "vif"
      ]
    },
    {
      "cell_type": "code",
      "execution_count": null,
      "metadata": {
        "id": "PzaVy-NfDps1"
      },
      "outputs": [],
      "source": [
        "X_train.drop('Page Views Per Visit', axis = 1, inplace = True)"
      ]
    },
    {
      "cell_type": "code",
      "execution_count": 87,
      "metadata": {
        "colab": {
          "base_uri": "https://localhost:8080/",
          "height": 244
        },
        "id": "twnuErbPDps1",
        "outputId": "175f8adb-0247-47a8-c0c8-724000012583"
      },
      "outputs": [
        {
          "output_type": "error",
          "ename": "NameError",
          "evalue": "ignored",
          "traceback": [
            "\u001b[0;31m---------------------------------------------------------------------------\u001b[0m",
            "\u001b[0;31mNameError\u001b[0m                                 Traceback (most recent call last)",
            "\u001b[0;32m<ipython-input-87-0a97dd847d7e>\u001b[0m in \u001b[0;36m<module>\u001b[0;34m\u001b[0m\n\u001b[1;32m      1\u001b[0m \u001b[0;31m# Refit the model with the new set of features\u001b[0m\u001b[0;34m\u001b[0m\u001b[0;34m\u001b[0m\u001b[0m\n\u001b[0;32m----> 2\u001b[0;31m \u001b[0mX_train_sm\u001b[0m \u001b[0;34m=\u001b[0m \u001b[0msm\u001b[0m\u001b[0;34m.\u001b[0m\u001b[0madd_constant\u001b[0m\u001b[0;34m(\u001b[0m\u001b[0mX_train\u001b[0m\u001b[0;34m)\u001b[0m\u001b[0;34m\u001b[0m\u001b[0;34m\u001b[0m\u001b[0m\n\u001b[0m\u001b[1;32m      3\u001b[0m \u001b[0mlogm3\u001b[0m \u001b[0;34m=\u001b[0m \u001b[0msm\u001b[0m\u001b[0;34m.\u001b[0m\u001b[0mGLM\u001b[0m\u001b[0;34m(\u001b[0m\u001b[0my_train\u001b[0m\u001b[0;34m,\u001b[0m \u001b[0mX_train_sm\u001b[0m\u001b[0;34m,\u001b[0m \u001b[0mfamily\u001b[0m \u001b[0;34m=\u001b[0m \u001b[0msm\u001b[0m\u001b[0;34m.\u001b[0m\u001b[0mfamilies\u001b[0m\u001b[0;34m.\u001b[0m\u001b[0mBinomial\u001b[0m\u001b[0;34m(\u001b[0m\u001b[0;34m)\u001b[0m\u001b[0;34m)\u001b[0m\u001b[0;34m\u001b[0m\u001b[0;34m\u001b[0m\u001b[0m\n\u001b[1;32m      4\u001b[0m \u001b[0mres\u001b[0m \u001b[0;34m=\u001b[0m \u001b[0mlogm3\u001b[0m\u001b[0;34m.\u001b[0m\u001b[0mfit\u001b[0m\u001b[0;34m(\u001b[0m\u001b[0;34m)\u001b[0m\u001b[0;34m\u001b[0m\u001b[0;34m\u001b[0m\u001b[0m\n\u001b[1;32m      5\u001b[0m \u001b[0mres\u001b[0m\u001b[0;34m.\u001b[0m\u001b[0msummary\u001b[0m\u001b[0;34m(\u001b[0m\u001b[0;34m)\u001b[0m\u001b[0;34m\u001b[0m\u001b[0;34m\u001b[0m\u001b[0m\n",
            "\u001b[0;31mNameError\u001b[0m: name 'sm' is not defined"
          ]
        }
      ],
      "source": [
        "# Refit the model with the new set of features\n",
        "X_train_sm = sm.add_constant(X_train)\n",
        "logm3 = sm.GLM(y_train, X_train_sm, family = sm.families.Binomial())\n",
        "res = logm3.fit()\n",
        "res.summary()"
      ]
    },
    {
      "cell_type": "code",
      "execution_count": null,
      "metadata": {
        "id": "wDMoNda0Dps2",
        "outputId": "3569c63b-db03-474b-801f-f25811c8026e"
      },
      "outputs": [
        {
          "data": {
            "text/html": [
              "<div>\n",
              "<style scoped>\n",
              "    .dataframe tbody tr th:only-of-type {\n",
              "        vertical-align: middle;\n",
              "    }\n",
              "\n",
              "    .dataframe tbody tr th {\n",
              "        vertical-align: top;\n",
              "    }\n",
              "\n",
              "    .dataframe thead th {\n",
              "        text-align: right;\n",
              "    }\n",
              "</style>\n",
              "<table border=\"1\" class=\"dataframe\">\n",
              "  <thead>\n",
              "    <tr style=\"text-align: right;\">\n",
              "      <th></th>\n",
              "      <th>Features</th>\n",
              "      <th>VIF</th>\n",
              "    </tr>\n",
              "  </thead>\n",
              "  <tbody>\n",
              "    <tr>\n",
              "      <th>0</th>\n",
              "      <td>TotalVisits</td>\n",
              "      <td>3.68</td>\n",
              "    </tr>\n",
              "    <tr>\n",
              "      <th>4</th>\n",
              "      <td>Lead Source_Google</td>\n",
              "      <td>3.09</td>\n",
              "    </tr>\n",
              "    <tr>\n",
              "      <th>3</th>\n",
              "      <td>Lead Source_Direct Traffic</td>\n",
              "      <td>2.77</td>\n",
              "    </tr>\n",
              "    <tr>\n",
              "      <th>1</th>\n",
              "      <td>Total Time Spent on Website</td>\n",
              "      <td>2.34</td>\n",
              "    </tr>\n",
              "    <tr>\n",
              "      <th>14</th>\n",
              "      <td>Last Notable Activity_Modified</td>\n",
              "      <td>2.34</td>\n",
              "    </tr>\n",
              "    <tr>\n",
              "      <th>5</th>\n",
              "      <td>Lead Source_Organic Search</td>\n",
              "      <td>2.10</td>\n",
              "    </tr>\n",
              "    <tr>\n",
              "      <th>8</th>\n",
              "      <td>Do Not Email_Yes</td>\n",
              "      <td>1.91</td>\n",
              "    </tr>\n",
              "    <tr>\n",
              "      <th>9</th>\n",
              "      <td>Last Activity_Email Bounced</td>\n",
              "      <td>1.85</td>\n",
              "    </tr>\n",
              "    <tr>\n",
              "      <th>10</th>\n",
              "      <td>Last Activity_Olark Chat Conversation</td>\n",
              "      <td>1.77</td>\n",
              "    </tr>\n",
              "    <tr>\n",
              "      <th>13</th>\n",
              "      <td>Last Notable Activity_Email Opened</td>\n",
              "      <td>1.70</td>\n",
              "    </tr>\n",
              "    <tr>\n",
              "      <th>2</th>\n",
              "      <td>Lead Origin_Lead Add Form</td>\n",
              "      <td>1.53</td>\n",
              "    </tr>\n",
              "    <tr>\n",
              "      <th>15</th>\n",
              "      <td>Last Notable Activity_Olark Chat Conversation</td>\n",
              "      <td>1.36</td>\n",
              "    </tr>\n",
              "    <tr>\n",
              "      <th>7</th>\n",
              "      <td>Lead Source_Welingak Website</td>\n",
              "      <td>1.34</td>\n",
              "    </tr>\n",
              "    <tr>\n",
              "      <th>11</th>\n",
              "      <td>What is your current occupation_Working Profes...</td>\n",
              "      <td>1.17</td>\n",
              "    </tr>\n",
              "    <tr>\n",
              "      <th>16</th>\n",
              "      <td>Last Notable Activity_Page Visited on Website</td>\n",
              "      <td>1.14</td>\n",
              "    </tr>\n",
              "    <tr>\n",
              "      <th>6</th>\n",
              "      <td>Lead Source_Referral Sites</td>\n",
              "      <td>1.12</td>\n",
              "    </tr>\n",
              "    <tr>\n",
              "      <th>12</th>\n",
              "      <td>Last Notable Activity_Email Link Clicked</td>\n",
              "      <td>1.03</td>\n",
              "    </tr>\n",
              "  </tbody>\n",
              "</table>\n",
              "</div>"
            ],
            "text/plain": [
              "                                             Features   VIF\n",
              "0                                         TotalVisits  3.68\n",
              "4                                  Lead Source_Google  3.09\n",
              "3                          Lead Source_Direct Traffic  2.77\n",
              "1                         Total Time Spent on Website  2.34\n",
              "14                     Last Notable Activity_Modified  2.34\n",
              "5                          Lead Source_Organic Search  2.10\n",
              "8                                    Do Not Email_Yes  1.91\n",
              "9                         Last Activity_Email Bounced  1.85\n",
              "10              Last Activity_Olark Chat Conversation  1.77\n",
              "13                 Last Notable Activity_Email Opened  1.70\n",
              "2                           Lead Origin_Lead Add Form  1.53\n",
              "15      Last Notable Activity_Olark Chat Conversation  1.36\n",
              "7                        Lead Source_Welingak Website  1.34\n",
              "11  What is your current occupation_Working Profes...  1.17\n",
              "16      Last Notable Activity_Page Visited on Website  1.14\n",
              "6                          Lead Source_Referral Sites  1.12\n",
              "12           Last Notable Activity_Email Link Clicked  1.03"
            ]
          },
          "execution_count": 76,
          "metadata": {},
          "output_type": "execute_result"
        }
      ],
      "source": [
        "# Make a VIF dataframe for all the variables present\n",
        "vif = pd.DataFrame()\n",
        "vif['Features'] = X_train.columns\n",
        "vif['VIF'] = [variance_inflation_factor(X_train.values, i) for i in range(X_train.shape[1])]\n",
        "vif['VIF'] = round(vif['VIF'], 2)\n",
        "vif = vif.sort_values(by = \"VIF\", ascending = False)\n",
        "vif"
      ]
    },
    {
      "cell_type": "code",
      "execution_count": null,
      "metadata": {
        "id": "O15f1U93Dps3"
      },
      "outputs": [],
      "source": []
    },
    {
      "cell_type": "markdown",
      "metadata": {
        "id": "HYQUGLT7Dps4"
      },
      "source": [
        "### All the VIF values are good and all the p-values are below 0.05. So we can fix model."
      ]
    },
    {
      "cell_type": "markdown",
      "metadata": {
        "id": "xNErH8KkDps4"
      },
      "source": [
        "## Creating Prediction"
      ]
    },
    {
      "cell_type": "code",
      "execution_count": null,
      "metadata": {
        "id": "NeoRXxLDDps5",
        "outputId": "6a56690d-beee-4df6-eb1a-58547d89db19"
      },
      "outputs": [
        {
          "data": {
            "text/plain": [
              "3523    0.257438\n",
              "3267    0.997225\n",
              "5653    0.327989\n",
              "5072    0.259734\n",
              "3704    0.135660\n",
              "1790    0.116880\n",
              "2482    0.180653\n",
              "1694    0.187767\n",
              "8768    0.119395\n",
              "9225    0.004629\n",
              "dtype: float64"
            ]
          },
          "execution_count": 77,
          "metadata": {},
          "output_type": "execute_result"
        }
      ],
      "source": [
        "# Predicting the probabilities on the train set\n",
        "y_train_pred = res.predict(X_train_sm)\n",
        "y_train_pred[:10]"
      ]
    },
    {
      "cell_type": "code",
      "execution_count": null,
      "metadata": {
        "id": "Ik-f9YaADps5",
        "outputId": "a74a19e0-6eea-41cb-ca4c-b00a273b0bb0"
      },
      "outputs": [
        {
          "data": {
            "text/plain": [
              "array([0.25743824, 0.99722548, 0.32798883, 0.2597343 , 0.1356595 ,\n",
              "       0.11687958, 0.18065264, 0.1877671 , 0.11939502, 0.00462932])"
            ]
          },
          "execution_count": 78,
          "metadata": {},
          "output_type": "execute_result"
        }
      ],
      "source": [
        "# Reshaping to an array\n",
        "y_train_pred = y_train_pred.values.reshape(-1)\n",
        "y_train_pred[:10]\n"
      ]
    },
    {
      "cell_type": "code",
      "execution_count": null,
      "metadata": {
        "id": "z3RKxzHLDps5",
        "outputId": "7355b393-1609-4b86-cbb7-0519ab58f6cb"
      },
      "outputs": [
        {
          "data": {
            "text/html": [
              "<div>\n",
              "<style scoped>\n",
              "    .dataframe tbody tr th:only-of-type {\n",
              "        vertical-align: middle;\n",
              "    }\n",
              "\n",
              "    .dataframe tbody tr th {\n",
              "        vertical-align: top;\n",
              "    }\n",
              "\n",
              "    .dataframe thead th {\n",
              "        text-align: right;\n",
              "    }\n",
              "</style>\n",
              "<table border=\"1\" class=\"dataframe\">\n",
              "  <thead>\n",
              "    <tr style=\"text-align: right;\">\n",
              "      <th></th>\n",
              "      <th>Converted</th>\n",
              "      <th>Conversion_Prob</th>\n",
              "    </tr>\n",
              "  </thead>\n",
              "  <tbody>\n",
              "    <tr>\n",
              "      <th>0</th>\n",
              "      <td>0</td>\n",
              "      <td>0.257438</td>\n",
              "    </tr>\n",
              "    <tr>\n",
              "      <th>1</th>\n",
              "      <td>1</td>\n",
              "      <td>0.997225</td>\n",
              "    </tr>\n",
              "    <tr>\n",
              "      <th>2</th>\n",
              "      <td>1</td>\n",
              "      <td>0.327989</td>\n",
              "    </tr>\n",
              "    <tr>\n",
              "      <th>3</th>\n",
              "      <td>0</td>\n",
              "      <td>0.259734</td>\n",
              "    </tr>\n",
              "    <tr>\n",
              "      <th>4</th>\n",
              "      <td>0</td>\n",
              "      <td>0.135660</td>\n",
              "    </tr>\n",
              "  </tbody>\n",
              "</table>\n",
              "</div>"
            ],
            "text/plain": [
              "   Converted  Conversion_Prob\n",
              "0          0         0.257438\n",
              "1          1         0.997225\n",
              "2          1         0.327989\n",
              "3          0         0.259734\n",
              "4          0         0.135660"
            ]
          },
          "execution_count": 79,
          "metadata": {},
          "output_type": "execute_result"
        }
      ],
      "source": [
        "# Data frame with given convertion rate and probablity of predicted ones\n",
        "y_train_pred_final = pd.DataFrame({'Converted':y_train.values, 'Conversion_Prob':y_train_pred})\n",
        "y_train_pred_final.head()"
      ]
    },
    {
      "cell_type": "code",
      "execution_count": null,
      "metadata": {
        "id": "biH53mzqDps6",
        "outputId": "1206f4bc-68e0-431c-af76-413019060e19"
      },
      "outputs": [
        {
          "data": {
            "text/html": [
              "<div>\n",
              "<style scoped>\n",
              "    .dataframe tbody tr th:only-of-type {\n",
              "        vertical-align: middle;\n",
              "    }\n",
              "\n",
              "    .dataframe tbody tr th {\n",
              "        vertical-align: top;\n",
              "    }\n",
              "\n",
              "    .dataframe thead th {\n",
              "        text-align: right;\n",
              "    }\n",
              "</style>\n",
              "<table border=\"1\" class=\"dataframe\">\n",
              "  <thead>\n",
              "    <tr style=\"text-align: right;\">\n",
              "      <th></th>\n",
              "      <th>Converted</th>\n",
              "      <th>Conversion_Prob</th>\n",
              "      <th>Predicted</th>\n",
              "    </tr>\n",
              "  </thead>\n",
              "  <tbody>\n",
              "    <tr>\n",
              "      <th>0</th>\n",
              "      <td>0</td>\n",
              "      <td>0.257438</td>\n",
              "      <td>0</td>\n",
              "    </tr>\n",
              "    <tr>\n",
              "      <th>1</th>\n",
              "      <td>1</td>\n",
              "      <td>0.997225</td>\n",
              "      <td>1</td>\n",
              "    </tr>\n",
              "    <tr>\n",
              "      <th>2</th>\n",
              "      <td>1</td>\n",
              "      <td>0.327989</td>\n",
              "      <td>0</td>\n",
              "    </tr>\n",
              "    <tr>\n",
              "      <th>3</th>\n",
              "      <td>0</td>\n",
              "      <td>0.259734</td>\n",
              "      <td>0</td>\n",
              "    </tr>\n",
              "    <tr>\n",
              "      <th>4</th>\n",
              "      <td>0</td>\n",
              "      <td>0.135660</td>\n",
              "      <td>0</td>\n",
              "    </tr>\n",
              "  </tbody>\n",
              "</table>\n",
              "</div>"
            ],
            "text/plain": [
              "   Converted  Conversion_Prob  Predicted\n",
              "0          0         0.257438          0\n",
              "1          1         0.997225          1\n",
              "2          1         0.327989          0\n",
              "3          0         0.259734          0\n",
              "4          0         0.135660          0"
            ]
          },
          "execution_count": 80,
          "metadata": {},
          "output_type": "execute_result"
        }
      ],
      "source": [
        "# Substituting 0 or 1 with the cut off as 0.5\n",
        "y_train_pred_final['Predicted'] = y_train_pred_final.Conversion_Prob.map(lambda x: 1 if x > 0.5 else 0)\n",
        "y_train_pred_final.head()\n"
      ]
    },
    {
      "cell_type": "markdown",
      "metadata": {
        "id": "05SpXGgrDps6"
      },
      "source": [
        "## Model Evaluation"
      ]
    },
    {
      "cell_type": "code",
      "execution_count": null,
      "metadata": {
        "id": "Z4jY5FvwDps6"
      },
      "outputs": [],
      "source": [
        "# Importing metrics from sklearn for evaluation\n",
        "from sklearn import metrics\n"
      ]
    },
    {
      "cell_type": "code",
      "execution_count": null,
      "metadata": {
        "id": "kV5nZHIgDps7",
        "outputId": "103e37c8-4832-40f1-f9f2-b4c485af3be1"
      },
      "outputs": [
        {
          "data": {
            "text/plain": [
              "array([[3479,  436],\n",
              "       [ 708, 1670]], dtype=int64)"
            ]
          },
          "execution_count": 82,
          "metadata": {},
          "output_type": "execute_result"
        }
      ],
      "source": [
        "# Creating confusion matrix \n",
        "confusion = metrics.confusion_matrix(y_train_pred_final.Converted, y_train_pred_final.Predicted )\n",
        "confusion"
      ]
    },
    {
      "cell_type": "code",
      "execution_count": null,
      "metadata": {
        "id": "FmESVWgJDps7"
      },
      "outputs": [],
      "source": [
        "# Predicted        No         Yes\n",
        "# Actual\n",
        "# No              3498      417\n",
        "# Yes             837      1541"
      ]
    },
    {
      "cell_type": "code",
      "execution_count": null,
      "metadata": {
        "id": "JkVUIT7xDps7",
        "outputId": "a88efa32-9045-4be5-d32a-568f1c79ca3c"
      },
      "outputs": [
        {
          "data": {
            "text/plain": [
              "0.8182107103130463"
            ]
          },
          "execution_count": 84,
          "metadata": {},
          "output_type": "execute_result"
        }
      ],
      "source": [
        "# Check the overall accuracy\n",
        "metrics.accuracy_score(y_train_pred_final.Converted, y_train_pred_final.Predicted)"
      ]
    },
    {
      "cell_type": "markdown",
      "metadata": {
        "id": "s1r3GB9qDps7"
      },
      "source": [
        "That's around 82% accuracy with is a very good value"
      ]
    },
    {
      "cell_type": "code",
      "execution_count": null,
      "metadata": {
        "id": "iKxBCBKdDps8"
      },
      "outputs": [],
      "source": [
        "# Substituting the value of true positive\n",
        "TP = confusion[1,1]\n",
        "# Substituting the value of true negatives\n",
        "TN = confusion[0,0]\n",
        "# Substituting the value of false positives\n",
        "FP = confusion[0,1] \n",
        "# Substituting the value of false negatives\n",
        "FN = confusion[1,0]"
      ]
    },
    {
      "cell_type": "code",
      "execution_count": null,
      "metadata": {
        "id": "--CNRFTADps8",
        "outputId": "1b8319f8-93da-4853-8bd7-b478468d9605"
      },
      "outputs": [
        {
          "data": {
            "text/plain": [
              "0.7022708158116064"
            ]
          },
          "execution_count": 86,
          "metadata": {},
          "output_type": "execute_result"
        }
      ],
      "source": [
        "# Calculating the sensitivity\n",
        "TP/(TP+FN)"
      ]
    },
    {
      "cell_type": "code",
      "execution_count": null,
      "metadata": {
        "id": "-YF5-z2ODps8",
        "outputId": "f0d0b6c2-09e4-46c8-dcca-f0a8ccb4ab47"
      },
      "outputs": [
        {
          "data": {
            "text/plain": [
              "0.8886334610472542"
            ]
          },
          "execution_count": 87,
          "metadata": {},
          "output_type": "execute_result"
        }
      ],
      "source": [
        "# Calculating the specificity\n",
        "TN/(TN+FP)\n"
      ]
    },
    {
      "cell_type": "markdown",
      "metadata": {
        "id": "E1zggPhpDps9"
      },
      "source": [
        "With the current cut off as 0.5 we have around 82% accuracy, sensitivity of around 70% and specificity of around 88%."
      ]
    },
    {
      "cell_type": "markdown",
      "metadata": {
        "id": "_Tb9H-gZDps9"
      },
      "source": [
        "## Optimise Cut off (ROC Curve)"
      ]
    },
    {
      "cell_type": "markdown",
      "metadata": {
        "id": "LcrGjGeODps9"
      },
      "source": [
        "The previous cut off was randomely selected. Now to find the optimum one"
      ]
    },
    {
      "cell_type": "code",
      "execution_count": null,
      "metadata": {
        "id": "_i2vnl7ADps9"
      },
      "outputs": [],
      "source": [
        "# ROC function\n",
        "def draw_roc( actual, probs ):\n",
        "    fpr, tpr, thresholds = metrics.roc_curve( actual, probs,\n",
        "                                              drop_intermediate = False )\n",
        "    auc_score = metrics.roc_auc_score( actual, probs )\n",
        "    plt.figure(figsize=(5, 5))\n",
        "    plt.plot( fpr, tpr, label='ROC curve (area = %0.2f)' % auc_score )\n",
        "    plt.plot([0, 1], [0, 1], 'k--')\n",
        "    plt.xlim([0.0, 1.0])\n",
        "    plt.ylim([0.0, 1.05])\n",
        "    plt.xlabel('False Positive Rate or [1 - True Negative Rate]')\n",
        "    plt.ylabel('True Positive Rate')\n",
        "    plt.title('Receiver operating characteristic example')\n",
        "    plt.legend(loc=\"lower right\")\n",
        "    plt.show()\n",
        "\n",
        "    return None\n"
      ]
    },
    {
      "cell_type": "code",
      "execution_count": null,
      "metadata": {
        "id": "s9-tfmnfDps-"
      },
      "outputs": [],
      "source": [
        "fpr, tpr, thresholds = metrics.roc_curve( y_train_pred_final.Converted, y_train_pred_final.Conversion_Prob, drop_intermediate = False )"
      ]
    },
    {
      "cell_type": "code",
      "execution_count": null,
      "metadata": {
        "id": "HnvE3pZzDps-",
        "outputId": "a7a363b0-4959-4cb2-f825-859804100592"
      },
      "outputs": [
        {
          "data": {
            "image/png": "[encoded data removed]",
            "text/plain": [
              "<Figure size 360x360 with 1 Axes>"
            ]
          },
          "metadata": {
            "needs_background": "light"
          },
          "output_type": "display_data"
        }
      ],
      "source": [
        "# Call the ROC function\n",
        "draw_roc(y_train_pred_final.Converted, y_train_pred_final.Conversion_Prob)"
      ]
    },
    {
      "cell_type": "markdown",
      "metadata": {
        "id": "cxiXEQ-vDps-"
      },
      "source": [
        "The area under ROC curve is 0.88 which is a very good value"
      ]
    },
    {
      "cell_type": "code",
      "execution_count": null,
      "metadata": {
        "id": "5xkkZOBTDps-",
        "outputId": "7364c1ad-1f2f-4189-9ba0-c72c57e77c8b"
      },
      "outputs": [
        {
          "data": {
            "text/html": [
              "<div>\n",
              "<style scoped>\n",
              "    .dataframe tbody tr th:only-of-type {\n",
              "        vertical-align: middle;\n",
              "    }\n",
              "\n",
              "    .dataframe tbody tr th {\n",
              "        vertical-align: top;\n",
              "    }\n",
              "\n",
              "    .dataframe thead th {\n",
              "        text-align: right;\n",
              "    }\n",
              "</style>\n",
              "<table border=\"1\" class=\"dataframe\">\n",
              "  <thead>\n",
              "    <tr style=\"text-align: right;\">\n",
              "      <th></th>\n",
              "      <th>Converted</th>\n",
              "      <th>Conversion_Prob</th>\n",
              "      <th>Predicted</th>\n",
              "      <th>0.0</th>\n",
              "      <th>0.1</th>\n",
              "      <th>0.2</th>\n",
              "      <th>0.3</th>\n",
              "      <th>0.4</th>\n",
              "      <th>0.5</th>\n",
              "      <th>0.6</th>\n",
              "      <th>0.7</th>\n",
              "      <th>0.8</th>\n",
              "      <th>0.9</th>\n",
              "    </tr>\n",
              "  </thead>\n",
              "  <tbody>\n",
              "    <tr>\n",
              "      <th>0</th>\n",
              "      <td>0</td>\n",
              "      <td>0.257438</td>\n",
              "      <td>0</td>\n",
              "      <td>1</td>\n",
              "      <td>1</td>\n",
              "      <td>1</td>\n",
              "      <td>0</td>\n",
              "      <td>0</td>\n",
              "      <td>0</td>\n",
              "      <td>0</td>\n",
              "      <td>0</td>\n",
              "      <td>0</td>\n",
              "      <td>0</td>\n",
              "    </tr>\n",
              "    <tr>\n",
              "      <th>1</th>\n",
              "      <td>1</td>\n",
              "      <td>0.997225</td>\n",
              "      <td>1</td>\n",
              "      <td>1</td>\n",
              "      <td>1</td>\n",
              "      <td>1</td>\n",
              "      <td>1</td>\n",
              "      <td>1</td>\n",
              "      <td>1</td>\n",
              "      <td>1</td>\n",
              "      <td>1</td>\n",
              "      <td>1</td>\n",
              "      <td>1</td>\n",
              "    </tr>\n",
              "    <tr>\n",
              "      <th>2</th>\n",
              "      <td>1</td>\n",
              "      <td>0.327989</td>\n",
              "      <td>0</td>\n",
              "      <td>1</td>\n",
              "      <td>1</td>\n",
              "      <td>1</td>\n",
              "      <td>1</td>\n",
              "      <td>0</td>\n",
              "      <td>0</td>\n",
              "      <td>0</td>\n",
              "      <td>0</td>\n",
              "      <td>0</td>\n",
              "      <td>0</td>\n",
              "    </tr>\n",
              "    <tr>\n",
              "      <th>3</th>\n",
              "      <td>0</td>\n",
              "      <td>0.259734</td>\n",
              "      <td>0</td>\n",
              "      <td>1</td>\n",
              "      <td>1</td>\n",
              "      <td>1</td>\n",
              "      <td>0</td>\n",
              "      <td>0</td>\n",
              "      <td>0</td>\n",
              "      <td>0</td>\n",
              "      <td>0</td>\n",
              "      <td>0</td>\n",
              "      <td>0</td>\n",
              "    </tr>\n",
              "    <tr>\n",
              "      <th>4</th>\n",
              "      <td>0</td>\n",
              "      <td>0.135660</td>\n",
              "      <td>0</td>\n",
              "      <td>1</td>\n",
              "      <td>1</td>\n",
              "      <td>0</td>\n",
              "      <td>0</td>\n",
              "      <td>0</td>\n",
              "      <td>0</td>\n",
              "      <td>0</td>\n",
              "      <td>0</td>\n",
              "      <td>0</td>\n",
              "      <td>0</td>\n",
              "    </tr>\n",
              "  </tbody>\n",
              "</table>\n",
              "</div>"
            ],
            "text/plain": [
              "   Converted  Conversion_Prob  Predicted  0.0  0.1  0.2  0.3  0.4  0.5  0.6  \\\n",
              "0          0         0.257438          0    1    1    1    0    0    0    0   \n",
              "1          1         0.997225          1    1    1    1    1    1    1    1   \n",
              "2          1         0.327989          0    1    1    1    1    0    0    0   \n",
              "3          0         0.259734          0    1    1    1    0    0    0    0   \n",
              "4          0         0.135660          0    1    1    0    0    0    0    0   \n",
              "\n",
              "   0.7  0.8  0.9  \n",
              "0    0    0    0  \n",
              "1    1    1    1  \n",
              "2    0    0    0  \n",
              "3    0    0    0  \n",
              "4    0    0    0  "
            ]
          },
          "execution_count": 91,
          "metadata": {},
          "output_type": "execute_result"
        }
      ],
      "source": [
        "# Creating columns with different probability cutoffs \n",
        "numbers = [float(x)/10 for x in range(10)]\n",
        "for i in numbers:\n",
        "    y_train_pred_final[i]= y_train_pred_final.Conversion_Prob.map(lambda x: 1 if x > i else 0)\n",
        "y_train_pred_final.head()"
      ]
    },
    {
      "cell_type": "code",
      "execution_count": null,
      "metadata": {
        "id": "aZqvEpyBDps_",
        "outputId": "ace13ca3-0709-466b-b2ee-71690b0e70c4"
      },
      "outputs": [
        {
          "data": {
            "text/html": [
              "<div>\n",
              "<style scoped>\n",
              "    .dataframe tbody tr th:only-of-type {\n",
              "        vertical-align: middle;\n",
              "    }\n",
              "\n",
              "    .dataframe tbody tr th {\n",
              "        vertical-align: top;\n",
              "    }\n",
              "\n",
              "    .dataframe thead th {\n",
              "        text-align: right;\n",
              "    }\n",
              "</style>\n",
              "<table border=\"1\" class=\"dataframe\">\n",
              "  <thead>\n",
              "    <tr style=\"text-align: right;\">\n",
              "      <th></th>\n",
              "      <th>prob</th>\n",
              "      <th>accuracy</th>\n",
              "      <th>sensi</th>\n",
              "      <th>speci</th>\n",
              "    </tr>\n",
              "  </thead>\n",
              "  <tbody>\n",
              "    <tr>\n",
              "      <th>0.0</th>\n",
              "      <td>0.0</td>\n",
              "      <td>0.377880</td>\n",
              "      <td>1.000000</td>\n",
              "      <td>0.000000</td>\n",
              "    </tr>\n",
              "    <tr>\n",
              "      <th>0.1</th>\n",
              "      <td>0.1</td>\n",
              "      <td>0.605911</td>\n",
              "      <td>0.961312</td>\n",
              "      <td>0.390038</td>\n",
              "    </tr>\n",
              "    <tr>\n",
              "      <th>0.2</th>\n",
              "      <td>0.2</td>\n",
              "      <td>0.757508</td>\n",
              "      <td>0.907906</td>\n",
              "      <td>0.666156</td>\n",
              "    </tr>\n",
              "    <tr>\n",
              "      <th>0.3</th>\n",
              "      <td>0.3</td>\n",
              "      <td>0.801367</td>\n",
              "      <td>0.829689</td>\n",
              "      <td>0.784163</td>\n",
              "    </tr>\n",
              "    <tr>\n",
              "      <th>0.4</th>\n",
              "      <td>0.4</td>\n",
              "      <td>0.817257</td>\n",
              "      <td>0.770395</td>\n",
              "      <td>0.845722</td>\n",
              "    </tr>\n",
              "    <tr>\n",
              "      <th>0.5</th>\n",
              "      <td>0.5</td>\n",
              "      <td>0.818211</td>\n",
              "      <td>0.702271</td>\n",
              "      <td>0.888633</td>\n",
              "    </tr>\n",
              "    <tr>\n",
              "      <th>0.6</th>\n",
              "      <td>0.6</td>\n",
              "      <td>0.794057</td>\n",
              "      <td>0.573591</td>\n",
              "      <td>0.927969</td>\n",
              "    </tr>\n",
              "    <tr>\n",
              "      <th>0.7</th>\n",
              "      <td>0.7</td>\n",
              "      <td>0.782616</td>\n",
              "      <td>0.501682</td>\n",
              "      <td>0.953257</td>\n",
              "    </tr>\n",
              "    <tr>\n",
              "      <th>0.8</th>\n",
              "      <td>0.8</td>\n",
              "      <td>0.763547</td>\n",
              "      <td>0.421362</td>\n",
              "      <td>0.971392</td>\n",
              "    </tr>\n",
              "    <tr>\n",
              "      <th>0.9</th>\n",
              "      <td>0.9</td>\n",
              "      <td>0.717623</td>\n",
              "      <td>0.269975</td>\n",
              "      <td>0.989527</td>\n",
              "    </tr>\n",
              "  </tbody>\n",
              "</table>\n",
              "</div>"
            ],
            "text/plain": [
              "     prob  accuracy     sensi     speci\n",
              "0.0   0.0  0.377880  1.000000  0.000000\n",
              "0.1   0.1  0.605911  0.961312  0.390038\n",
              "0.2   0.2  0.757508  0.907906  0.666156\n",
              "0.3   0.3  0.801367  0.829689  0.784163\n",
              "0.4   0.4  0.817257  0.770395  0.845722\n",
              "0.5   0.5  0.818211  0.702271  0.888633\n",
              "0.6   0.6  0.794057  0.573591  0.927969\n",
              "0.7   0.7  0.782616  0.501682  0.953257\n",
              "0.8   0.8  0.763547  0.421362  0.971392\n",
              "0.9   0.9  0.717623  0.269975  0.989527"
            ]
          },
          "execution_count": 92,
          "metadata": {},
          "output_type": "execute_result"
        }
      ],
      "source": [
        "# Creating a dataframe to see the values of accuracy, sensitivity, and specificity at different values of probabiity cutoffs\n",
        "cutoff_df = pd.DataFrame( columns = ['prob','accuracy','sensi','speci'])\n",
        "# Making confusing matrix to find values of sensitivity, accurace and specificity for each level of probablity\n",
        "from sklearn.metrics import confusion_matrix\n",
        "num = [0.0,0.1,0.2,0.3,0.4,0.5,0.6,0.7,0.8,0.9]\n",
        "for i in num:\n",
        "    cm1 = metrics.confusion_matrix(y_train_pred_final.Converted, y_train_pred_final[i] )\n",
        "    total1=sum(sum(cm1))\n",
        "    accuracy = (cm1[0,0]+cm1[1,1])/total1\n",
        "    \n",
        "    speci = cm1[0,0]/(cm1[0,0]+cm1[0,1])\n",
        "    sensi = cm1[1,1]/(cm1[1,0]+cm1[1,1])\n",
        "    cutoff_df.loc[i] =[ i ,accuracy,sensi,speci]\n",
        "cutoff_df"
      ]
    },
    {
      "cell_type": "code",
      "execution_count": null,
      "metadata": {
        "id": "Y9eLc-IxDps_",
        "outputId": "8c299ae6-dff6-4a15-8e5a-20d8e48f6961"
      },
      "outputs": [
        {
          "data": {
            "image/png": "[encoded data removed]",
            "text/plain": [
              "<Figure size 432x288 with 1 Axes>"
            ]
          },
          "metadata": {
            "needs_background": "light"
          },
          "output_type": "display_data"
        }
      ],
      "source": [
        "# Plotting it\n",
        "cutoff_df.plot.line(x='prob', y=['accuracy','sensi','speci'])\n",
        "plt.show()"
      ]
    },
    {
      "cell_type": "markdown",
      "metadata": {
        "id": "jQbosTjvDptA"
      },
      "source": [
        "From the graph it is visible that the optimal cut off is at 0.35."
      ]
    },
    {
      "cell_type": "code",
      "execution_count": null,
      "metadata": {
        "id": "ip15O6BoDptA",
        "outputId": "323d449b-26a8-4105-e282-e7ae47bdee03"
      },
      "outputs": [
        {
          "data": {
            "text/html": [
              "<div>\n",
              "<style scoped>\n",
              "    .dataframe tbody tr th:only-of-type {\n",
              "        vertical-align: middle;\n",
              "    }\n",
              "\n",
              "    .dataframe tbody tr th {\n",
              "        vertical-align: top;\n",
              "    }\n",
              "\n",
              "    .dataframe thead th {\n",
              "        text-align: right;\n",
              "    }\n",
              "</style>\n",
              "<table border=\"1\" class=\"dataframe\">\n",
              "  <thead>\n",
              "    <tr style=\"text-align: right;\">\n",
              "      <th></th>\n",
              "      <th>Converted</th>\n",
              "      <th>Conversion_Prob</th>\n",
              "      <th>Predicted</th>\n",
              "      <th>0.0</th>\n",
              "      <th>0.1</th>\n",
              "      <th>0.2</th>\n",
              "      <th>0.3</th>\n",
              "      <th>0.4</th>\n",
              "      <th>0.5</th>\n",
              "      <th>0.6</th>\n",
              "      <th>0.7</th>\n",
              "      <th>0.8</th>\n",
              "      <th>0.9</th>\n",
              "      <th>final_predicted</th>\n",
              "    </tr>\n",
              "  </thead>\n",
              "  <tbody>\n",
              "    <tr>\n",
              "      <th>0</th>\n",
              "      <td>0</td>\n",
              "      <td>0.257438</td>\n",
              "      <td>0</td>\n",
              "      <td>1</td>\n",
              "      <td>1</td>\n",
              "      <td>1</td>\n",
              "      <td>0</td>\n",
              "      <td>0</td>\n",
              "      <td>0</td>\n",
              "      <td>0</td>\n",
              "      <td>0</td>\n",
              "      <td>0</td>\n",
              "      <td>0</td>\n",
              "      <td>0</td>\n",
              "    </tr>\n",
              "    <tr>\n",
              "      <th>1</th>\n",
              "      <td>1</td>\n",
              "      <td>0.997225</td>\n",
              "      <td>1</td>\n",
              "      <td>1</td>\n",
              "      <td>1</td>\n",
              "      <td>1</td>\n",
              "      <td>1</td>\n",
              "      <td>1</td>\n",
              "      <td>1</td>\n",
              "      <td>1</td>\n",
              "      <td>1</td>\n",
              "      <td>1</td>\n",
              "      <td>1</td>\n",
              "      <td>1</td>\n",
              "    </tr>\n",
              "    <tr>\n",
              "      <th>2</th>\n",
              "      <td>1</td>\n",
              "      <td>0.327989</td>\n",
              "      <td>0</td>\n",
              "      <td>1</td>\n",
              "      <td>1</td>\n",
              "      <td>1</td>\n",
              "      <td>1</td>\n",
              "      <td>0</td>\n",
              "      <td>0</td>\n",
              "      <td>0</td>\n",
              "      <td>0</td>\n",
              "      <td>0</td>\n",
              "      <td>0</td>\n",
              "      <td>0</td>\n",
              "    </tr>\n",
              "    <tr>\n",
              "      <th>3</th>\n",
              "      <td>0</td>\n",
              "      <td>0.259734</td>\n",
              "      <td>0</td>\n",
              "      <td>1</td>\n",
              "      <td>1</td>\n",
              "      <td>1</td>\n",
              "      <td>0</td>\n",
              "      <td>0</td>\n",
              "      <td>0</td>\n",
              "      <td>0</td>\n",
              "      <td>0</td>\n",
              "      <td>0</td>\n",
              "      <td>0</td>\n",
              "      <td>0</td>\n",
              "    </tr>\n",
              "    <tr>\n",
              "      <th>4</th>\n",
              "      <td>0</td>\n",
              "      <td>0.135660</td>\n",
              "      <td>0</td>\n",
              "      <td>1</td>\n",
              "      <td>1</td>\n",
              "      <td>0</td>\n",
              "      <td>0</td>\n",
              "      <td>0</td>\n",
              "      <td>0</td>\n",
              "      <td>0</td>\n",
              "      <td>0</td>\n",
              "      <td>0</td>\n",
              "      <td>0</td>\n",
              "      <td>0</td>\n",
              "    </tr>\n",
              "  </tbody>\n",
              "</table>\n",
              "</div>"
            ],
            "text/plain": [
              "   Converted  Conversion_Prob  Predicted  0.0  0.1  0.2  0.3  0.4  0.5  0.6  \\\n",
              "0          0         0.257438          0    1    1    1    0    0    0    0   \n",
              "1          1         0.997225          1    1    1    1    1    1    1    1   \n",
              "2          1         0.327989          0    1    1    1    1    0    0    0   \n",
              "3          0         0.259734          0    1    1    1    0    0    0    0   \n",
              "4          0         0.135660          0    1    1    0    0    0    0    0   \n",
              "\n",
              "   0.7  0.8  0.9  final_predicted  \n",
              "0    0    0    0                0  \n",
              "1    1    1    1                1  \n",
              "2    0    0    0                0  \n",
              "3    0    0    0                0  \n",
              "4    0    0    0                0  "
            ]
          },
          "execution_count": 136,
          "metadata": {},
          "output_type": "execute_result"
        }
      ],
      "source": [
        "y_train_pred_final['final_predicted'] = y_train_pred_final.Conversion_Prob.map( lambda x: 1 if x > 0.35 else 0)\n",
        "y_train_pred_final.head()"
      ]
    },
    {
      "cell_type": "code",
      "execution_count": null,
      "metadata": {
        "id": "BZ2JG453DptA",
        "outputId": "09a10d38-0a1c-4519-b475-8e9bcdf558d3"
      },
      "outputs": [
        {
          "data": {
            "text/plain": [
              "0.8091530271730494"
            ]
          },
          "execution_count": 137,
          "metadata": {},
          "output_type": "execute_result"
        }
      ],
      "source": [
        "# Check the overall accuracy\n",
        "metrics.accuracy_score(y_train_pred_final.Converted, y_train_pred_final.final_predicted)\n"
      ]
    },
    {
      "cell_type": "code",
      "execution_count": null,
      "metadata": {
        "id": "f3vZpvOZDptB",
        "outputId": "f451b349-f805-47ea-dc14-92622f94a444"
      },
      "outputs": [
        {
          "data": {
            "text/plain": [
              "array([[3191,  724],\n",
              "       [ 477, 1901]], dtype=int64)"
            ]
          },
          "execution_count": 138,
          "metadata": {},
          "output_type": "execute_result"
        }
      ],
      "source": [
        "# Creating confusion matrix \n",
        "confusion2 = metrics.confusion_matrix(y_train_pred_final.Converted, y_train_pred_final.final_predicted )\n",
        "confusion2"
      ]
    },
    {
      "cell_type": "code",
      "execution_count": null,
      "metadata": {
        "id": "_OwVe02mDptB"
      },
      "outputs": [],
      "source": [
        "# Substituting the value of true positive\n",
        "TP = confusion2[1,1]\n",
        "# Substituting the value of true negatives\n",
        "TN = confusion2[0,0]\n",
        "# Substituting the value of false positives\n",
        "FP = confusion2[0,1] \n",
        "# Substituting the value of false negatives\n",
        "FN = confusion2[1,0]\n"
      ]
    },
    {
      "cell_type": "code",
      "execution_count": null,
      "metadata": {
        "id": "z0zxw8WiDptC",
        "outputId": "5b679d44-89e2-4115-b954-2b3b3540e245"
      },
      "outputs": [
        {
          "data": {
            "text/plain": [
              "0.7994112699747687"
            ]
          },
          "execution_count": 140,
          "metadata": {},
          "output_type": "execute_result"
        }
      ],
      "source": [
        "# Calculating the sensitivity\n",
        "TP/(TP+FN)\n"
      ]
    },
    {
      "cell_type": "code",
      "execution_count": null,
      "metadata": {
        "id": "XNw5VfqHDptC",
        "outputId": "968e4455-95d3-4009-ca51-69a7503dfe7b"
      },
      "outputs": [
        {
          "data": {
            "text/plain": [
              "0.8150702426564496"
            ]
          },
          "execution_count": 141,
          "metadata": {},
          "output_type": "execute_result"
        }
      ],
      "source": [
        "# Calculating the specificity\n",
        "TN/(TN+FP)"
      ]
    },
    {
      "cell_type": "markdown",
      "metadata": {
        "id": "QD-9XO3TDptC"
      },
      "source": [
        "With the current cut off as 0.35 we have accuracy, sensitivity and specificity of around 80%"
      ]
    },
    {
      "cell_type": "markdown",
      "metadata": {
        "id": "LsEuobKeDptD"
      },
      "source": [
        "## Prediction on Test set"
      ]
    },
    {
      "cell_type": "code",
      "execution_count": null,
      "metadata": {
        "id": "NRRQ6SfXDptD"
      },
      "outputs": [],
      "source": [
        " #Scaling numeric values\n",
        "X_test[['TotalVisits', 'Page Views Per Visit', 'Total Time Spent on Website']] = scaler.transform(X_test[['TotalVisits', 'Page Views Per Visit', 'Total Time Spent on Website']])"
      ]
    },
    {
      "cell_type": "code",
      "execution_count": null,
      "metadata": {
        "id": "xUEdbKI0DptD"
      },
      "outputs": [],
      "source": [
        "col = X_train.columns\n"
      ]
    },
    {
      "cell_type": "code",
      "execution_count": null,
      "metadata": {
        "id": "IRP0OB3VDptE",
        "outputId": "c1bf6a8b-f95b-4c43-be28-bc25460a24ca"
      },
      "outputs": [
        {
          "data": {
            "text/html": [
              "<div>\n",
              "<style scoped>\n",
              "    .dataframe tbody tr th:only-of-type {\n",
              "        vertical-align: middle;\n",
              "    }\n",
              "\n",
              "    .dataframe tbody tr th {\n",
              "        vertical-align: top;\n",
              "    }\n",
              "\n",
              "    .dataframe thead th {\n",
              "        text-align: right;\n",
              "    }\n",
              "</style>\n",
              "<table border=\"1\" class=\"dataframe\">\n",
              "  <thead>\n",
              "    <tr style=\"text-align: right;\">\n",
              "      <th></th>\n",
              "      <th>const</th>\n",
              "      <th>TotalVisits</th>\n",
              "      <th>Total Time Spent on Website</th>\n",
              "      <th>Lead Origin_Lead Add Form</th>\n",
              "      <th>Lead Source_Direct Traffic</th>\n",
              "      <th>Lead Source_Google</th>\n",
              "      <th>Lead Source_Organic Search</th>\n",
              "      <th>Lead Source_Referral Sites</th>\n",
              "      <th>Lead Source_Welingak Website</th>\n",
              "      <th>Do Not Email_Yes</th>\n",
              "      <th>Last Activity_Email Bounced</th>\n",
              "      <th>Last Activity_Olark Chat Conversation</th>\n",
              "      <th>What is your current occupation_Working Professional</th>\n",
              "      <th>Last Notable Activity_Email Link Clicked</th>\n",
              "      <th>Last Notable Activity_Email Opened</th>\n",
              "      <th>Last Notable Activity_Modified</th>\n",
              "      <th>Last Notable Activity_Olark Chat Conversation</th>\n",
              "      <th>Last Notable Activity_Page Visited on Website</th>\n",
              "    </tr>\n",
              "  </thead>\n",
              "  <tbody>\n",
              "    <tr>\n",
              "      <th>3308</th>\n",
              "      <td>1.0</td>\n",
              "      <td>0.117647</td>\n",
              "      <td>0.050176</td>\n",
              "      <td>0</td>\n",
              "      <td>0</td>\n",
              "      <td>1</td>\n",
              "      <td>0</td>\n",
              "      <td>0</td>\n",
              "      <td>0</td>\n",
              "      <td>0</td>\n",
              "      <td>0</td>\n",
              "      <td>0</td>\n",
              "      <td>0</td>\n",
              "      <td>0</td>\n",
              "      <td>1</td>\n",
              "      <td>0</td>\n",
              "      <td>0</td>\n",
              "      <td>0</td>\n",
              "    </tr>\n",
              "    <tr>\n",
              "      <th>4421</th>\n",
              "      <td>1.0</td>\n",
              "      <td>0.000000</td>\n",
              "      <td>0.000000</td>\n",
              "      <td>0</td>\n",
              "      <td>0</td>\n",
              "      <td>0</td>\n",
              "      <td>0</td>\n",
              "      <td>0</td>\n",
              "      <td>0</td>\n",
              "      <td>0</td>\n",
              "      <td>0</td>\n",
              "      <td>0</td>\n",
              "      <td>0</td>\n",
              "      <td>0</td>\n",
              "      <td>0</td>\n",
              "      <td>0</td>\n",
              "      <td>0</td>\n",
              "      <td>0</td>\n",
              "    </tr>\n",
              "    <tr>\n",
              "      <th>8855</th>\n",
              "      <td>1.0</td>\n",
              "      <td>0.058824</td>\n",
              "      <td>0.547975</td>\n",
              "      <td>0</td>\n",
              "      <td>1</td>\n",
              "      <td>0</td>\n",
              "      <td>0</td>\n",
              "      <td>0</td>\n",
              "      <td>0</td>\n",
              "      <td>0</td>\n",
              "      <td>0</td>\n",
              "      <td>0</td>\n",
              "      <td>0</td>\n",
              "      <td>0</td>\n",
              "      <td>0</td>\n",
              "      <td>1</td>\n",
              "      <td>0</td>\n",
              "      <td>0</td>\n",
              "    </tr>\n",
              "    <tr>\n",
              "      <th>5302</th>\n",
              "      <td>1.0</td>\n",
              "      <td>0.000000</td>\n",
              "      <td>0.000000</td>\n",
              "      <td>0</td>\n",
              "      <td>0</td>\n",
              "      <td>0</td>\n",
              "      <td>0</td>\n",
              "      <td>0</td>\n",
              "      <td>0</td>\n",
              "      <td>0</td>\n",
              "      <td>0</td>\n",
              "      <td>1</td>\n",
              "      <td>0</td>\n",
              "      <td>0</td>\n",
              "      <td>0</td>\n",
              "      <td>1</td>\n",
              "      <td>0</td>\n",
              "      <td>0</td>\n",
              "    </tr>\n",
              "    <tr>\n",
              "      <th>2169</th>\n",
              "      <td>1.0</td>\n",
              "      <td>0.588235</td>\n",
              "      <td>0.390405</td>\n",
              "      <td>0</td>\n",
              "      <td>1</td>\n",
              "      <td>0</td>\n",
              "      <td>0</td>\n",
              "      <td>0</td>\n",
              "      <td>0</td>\n",
              "      <td>0</td>\n",
              "      <td>0</td>\n",
              "      <td>0</td>\n",
              "      <td>0</td>\n",
              "      <td>0</td>\n",
              "      <td>1</td>\n",
              "      <td>0</td>\n",
              "      <td>0</td>\n",
              "      <td>0</td>\n",
              "    </tr>\n",
              "    <tr>\n",
              "      <th>...</th>\n",
              "      <td>...</td>\n",
              "      <td>...</td>\n",
              "      <td>...</td>\n",
              "      <td>...</td>\n",
              "      <td>...</td>\n",
              "      <td>...</td>\n",
              "      <td>...</td>\n",
              "      <td>...</td>\n",
              "      <td>...</td>\n",
              "      <td>...</td>\n",
              "      <td>...</td>\n",
              "      <td>...</td>\n",
              "      <td>...</td>\n",
              "      <td>...</td>\n",
              "      <td>...</td>\n",
              "      <td>...</td>\n",
              "      <td>...</td>\n",
              "      <td>...</td>\n",
              "    </tr>\n",
              "    <tr>\n",
              "      <th>5655</th>\n",
              "      <td>1.0</td>\n",
              "      <td>0.058824</td>\n",
              "      <td>0.218310</td>\n",
              "      <td>0</td>\n",
              "      <td>1</td>\n",
              "      <td>0</td>\n",
              "      <td>0</td>\n",
              "      <td>0</td>\n",
              "      <td>0</td>\n",
              "      <td>0</td>\n",
              "      <td>0</td>\n",
              "      <td>0</td>\n",
              "      <td>0</td>\n",
              "      <td>0</td>\n",
              "      <td>0</td>\n",
              "      <td>1</td>\n",
              "      <td>0</td>\n",
              "      <td>0</td>\n",
              "    </tr>\n",
              "    <tr>\n",
              "      <th>7836</th>\n",
              "      <td>1.0</td>\n",
              "      <td>0.588235</td>\n",
              "      <td>0.227113</td>\n",
              "      <td>0</td>\n",
              "      <td>0</td>\n",
              "      <td>1</td>\n",
              "      <td>0</td>\n",
              "      <td>0</td>\n",
              "      <td>0</td>\n",
              "      <td>0</td>\n",
              "      <td>0</td>\n",
              "      <td>0</td>\n",
              "      <td>1</td>\n",
              "      <td>1</td>\n",
              "      <td>0</td>\n",
              "      <td>0</td>\n",
              "      <td>0</td>\n",
              "      <td>0</td>\n",
              "    </tr>\n",
              "    <tr>\n",
              "      <th>8378</th>\n",
              "      <td>1.0</td>\n",
              "      <td>0.588235</td>\n",
              "      <td>0.179577</td>\n",
              "      <td>0</td>\n",
              "      <td>0</td>\n",
              "      <td>0</td>\n",
              "      <td>1</td>\n",
              "      <td>0</td>\n",
              "      <td>0</td>\n",
              "      <td>1</td>\n",
              "      <td>0</td>\n",
              "      <td>0</td>\n",
              "      <td>0</td>\n",
              "      <td>0</td>\n",
              "      <td>0</td>\n",
              "      <td>0</td>\n",
              "      <td>0</td>\n",
              "      <td>1</td>\n",
              "    </tr>\n",
              "    <tr>\n",
              "      <th>1263</th>\n",
              "      <td>1.0</td>\n",
              "      <td>0.117647</td>\n",
              "      <td>0.376320</td>\n",
              "      <td>0</td>\n",
              "      <td>1</td>\n",
              "      <td>0</td>\n",
              "      <td>0</td>\n",
              "      <td>0</td>\n",
              "      <td>0</td>\n",
              "      <td>0</td>\n",
              "      <td>0</td>\n",
              "      <td>0</td>\n",
              "      <td>1</td>\n",
              "      <td>0</td>\n",
              "      <td>0</td>\n",
              "      <td>0</td>\n",
              "      <td>0</td>\n",
              "      <td>0</td>\n",
              "    </tr>\n",
              "    <tr>\n",
              "      <th>8633</th>\n",
              "      <td>1.0</td>\n",
              "      <td>0.058824</td>\n",
              "      <td>0.150088</td>\n",
              "      <td>0</td>\n",
              "      <td>1</td>\n",
              "      <td>0</td>\n",
              "      <td>0</td>\n",
              "      <td>0</td>\n",
              "      <td>0</td>\n",
              "      <td>1</td>\n",
              "      <td>1</td>\n",
              "      <td>0</td>\n",
              "      <td>0</td>\n",
              "      <td>0</td>\n",
              "      <td>0</td>\n",
              "      <td>1</td>\n",
              "      <td>0</td>\n",
              "      <td>0</td>\n",
              "    </tr>\n",
              "  </tbody>\n",
              "</table>\n",
              "<p>2698 rows × 18 columns</p>\n",
              "</div>"
            ],
            "text/plain": [
              "      const  TotalVisits  Total Time Spent on Website  \\\n",
              "3308    1.0     0.117647                     0.050176   \n",
              "4421    1.0     0.000000                     0.000000   \n",
              "8855    1.0     0.058824                     0.547975   \n",
              "5302    1.0     0.000000                     0.000000   \n",
              "2169    1.0     0.588235                     0.390405   \n",
              "...     ...          ...                          ...   \n",
              "5655    1.0     0.058824                     0.218310   \n",
              "7836    1.0     0.588235                     0.227113   \n",
              "8378    1.0     0.588235                     0.179577   \n",
              "1263    1.0     0.117647                     0.376320   \n",
              "8633    1.0     0.058824                     0.150088   \n",
              "\n",
              "      Lead Origin_Lead Add Form  Lead Source_Direct Traffic  \\\n",
              "3308                          0                           0   \n",
              "4421                          0                           0   \n",
              "8855                          0                           1   \n",
              "5302                          0                           0   \n",
              "2169                          0                           1   \n",
              "...                         ...                         ...   \n",
              "5655                          0                           1   \n",
              "7836                          0                           0   \n",
              "8378                          0                           0   \n",
              "1263                          0                           1   \n",
              "8633                          0                           1   \n",
              "\n",
              "      Lead Source_Google  Lead Source_Organic Search  \\\n",
              "3308                   1                           0   \n",
              "4421                   0                           0   \n",
              "8855                   0                           0   \n",
              "5302                   0                           0   \n",
              "2169                   0                           0   \n",
              "...                  ...                         ...   \n",
              "5655                   0                           0   \n",
              "7836                   1                           0   \n",
              "8378                   0                           1   \n",
              "1263                   0                           0   \n",
              "8633                   0                           0   \n",
              "\n",
              "      Lead Source_Referral Sites  Lead Source_Welingak Website  \\\n",
              "3308                           0                             0   \n",
              "4421                           0                             0   \n",
              "8855                           0                             0   \n",
              "5302                           0                             0   \n",
              "2169                           0                             0   \n",
              "...                          ...                           ...   \n",
              "5655                           0                             0   \n",
              "7836                           0                             0   \n",
              "8378                           0                             0   \n",
              "1263                           0                             0   \n",
              "8633                           0                             0   \n",
              "\n",
              "      Do Not Email_Yes  Last Activity_Email Bounced  \\\n",
              "3308                 0                            0   \n",
              "4421                 0                            0   \n",
              "8855                 0                            0   \n",
              "5302                 0                            0   \n",
              "2169                 0                            0   \n",
              "...                ...                          ...   \n",
              "5655                 0                            0   \n",
              "7836                 0                            0   \n",
              "8378                 1                            0   \n",
              "1263                 0                            0   \n",
              "8633                 1                            1   \n",
              "\n",
              "      Last Activity_Olark Chat Conversation  \\\n",
              "3308                                      0   \n",
              "4421                                      0   \n",
              "8855                                      0   \n",
              "5302                                      1   \n",
              "2169                                      0   \n",
              "...                                     ...   \n",
              "5655                                      0   \n",
              "7836                                      0   \n",
              "8378                                      0   \n",
              "1263                                      0   \n",
              "8633                                      0   \n",
              "\n",
              "      What is your current occupation_Working Professional  \\\n",
              "3308                                                  0      \n",
              "4421                                                  0      \n",
              "8855                                                  0      \n",
              "5302                                                  0      \n",
              "2169                                                  0      \n",
              "...                                                 ...      \n",
              "5655                                                  0      \n",
              "7836                                                  1      \n",
              "8378                                                  0      \n",
              "1263                                                  1      \n",
              "8633                                                  0      \n",
              "\n",
              "      Last Notable Activity_Email Link Clicked  \\\n",
              "3308                                         0   \n",
              "4421                                         0   \n",
              "8855                                         0   \n",
              "5302                                         0   \n",
              "2169                                         0   \n",
              "...                                        ...   \n",
              "5655                                         0   \n",
              "7836                                         1   \n",
              "8378                                         0   \n",
              "1263                                         0   \n",
              "8633                                         0   \n",
              "\n",
              "      Last Notable Activity_Email Opened  Last Notable Activity_Modified  \\\n",
              "3308                                   1                               0   \n",
              "4421                                   0                               0   \n",
              "8855                                   0                               1   \n",
              "5302                                   0                               1   \n",
              "2169                                   1                               0   \n",
              "...                                  ...                             ...   \n",
              "5655                                   0                               1   \n",
              "7836                                   0                               0   \n",
              "8378                                   0                               0   \n",
              "1263                                   0                               0   \n",
              "8633                                   0                               1   \n",
              "\n",
              "      Last Notable Activity_Olark Chat Conversation  \\\n",
              "3308                                              0   \n",
              "4421                                              0   \n",
              "8855                                              0   \n",
              "5302                                              0   \n",
              "2169                                              0   \n",
              "...                                             ...   \n",
              "5655                                              0   \n",
              "7836                                              0   \n",
              "8378                                              0   \n",
              "1263                                              0   \n",
              "8633                                              0   \n",
              "\n",
              "      Last Notable Activity_Page Visited on Website  \n",
              "3308                                              0  \n",
              "4421                                              0  \n",
              "8855                                              0  \n",
              "5302                                              0  \n",
              "2169                                              0  \n",
              "...                                             ...  \n",
              "5655                                              0  \n",
              "7836                                              0  \n",
              "8378                                              1  \n",
              "1263                                              0  \n",
              "8633                                              0  \n",
              "\n",
              "[2698 rows x 18 columns]"
            ]
          },
          "execution_count": 102,
          "metadata": {},
          "output_type": "execute_result"
        }
      ],
      "source": [
        "# Select the columns in X_train for X_test as well\n",
        "X_test = X_test[col]\n",
        "# Add a constant to X_test\n",
        "X_test_sm = sm.add_constant(X_test[col])\n",
        "X_test_sm\n",
        "X_test_sm"
      ]
    },
    {
      "cell_type": "code",
      "execution_count": null,
      "metadata": {
        "id": "KXKnPOm2DptG",
        "outputId": "fd4a2eed-e93a-4056-f733-c84382205b73"
      },
      "outputs": [
        {
          "data": {
            "text/html": [
              "<div>\n",
              "<style scoped>\n",
              "    .dataframe tbody tr th:only-of-type {\n",
              "        vertical-align: middle;\n",
              "    }\n",
              "\n",
              "    .dataframe tbody tr th {\n",
              "        vertical-align: top;\n",
              "    }\n",
              "\n",
              "    .dataframe thead th {\n",
              "        text-align: right;\n",
              "    }\n",
              "</style>\n",
              "<table border=\"1\" class=\"dataframe\">\n",
              "  <thead>\n",
              "    <tr style=\"text-align: right;\">\n",
              "      <th></th>\n",
              "      <th>Converted</th>\n",
              "      <th>Conversion_Prob</th>\n",
              "    </tr>\n",
              "  </thead>\n",
              "  <tbody>\n",
              "    <tr>\n",
              "      <th>0</th>\n",
              "      <td>0</td>\n",
              "      <td>0.123887</td>\n",
              "    </tr>\n",
              "    <tr>\n",
              "      <th>1</th>\n",
              "      <td>1</td>\n",
              "      <td>0.588440</td>\n",
              "    </tr>\n",
              "    <tr>\n",
              "      <th>2</th>\n",
              "      <td>1</td>\n",
              "      <td>0.370721</td>\n",
              "    </tr>\n",
              "    <tr>\n",
              "      <th>3</th>\n",
              "      <td>0</td>\n",
              "      <td>0.060348</td>\n",
              "    </tr>\n",
              "    <tr>\n",
              "      <th>4</th>\n",
              "      <td>0</td>\n",
              "      <td>0.442248</td>\n",
              "    </tr>\n",
              "  </tbody>\n",
              "</table>\n",
              "</div>"
            ],
            "text/plain": [
              "   Converted  Conversion_Prob\n",
              "0          0         0.123887\n",
              "1          1         0.588440\n",
              "2          1         0.370721\n",
              "3          0         0.060348\n",
              "4          0         0.442248"
            ]
          },
          "execution_count": 103,
          "metadata": {},
          "output_type": "execute_result"
        }
      ],
      "source": [
        "# Storing prediction of test set in the variable 'y_test_pred'\n",
        "y_test_pred = res.predict(X_test_sm)\n",
        "# Coverting it to df\n",
        "y_pred_df = pd.DataFrame(y_test_pred)\n",
        "# Converting y_test to dataframe\n",
        "y_test_df = pd.DataFrame(y_test)\n",
        "# Remove index for both dataframes to append them side by side \n",
        "y_pred_df.reset_index(drop=True, inplace=True)\n",
        "y_test_df.reset_index(drop=True, inplace=True)\n",
        "# Append y_test_df and y_pred_df\n",
        "y_pred_final = pd.concat([y_test_df, y_pred_df],axis=1)\n",
        "# Renaming column \n",
        "y_pred_final= y_pred_final.rename(columns = {0 : 'Conversion_Prob'})\n",
        "y_pred_final.head()"
      ]
    },
    {
      "cell_type": "code",
      "execution_count": null,
      "metadata": {
        "id": "x6q41whbDptH",
        "outputId": "544bff9e-e635-48a1-8559-29101d7ee3e4"
      },
      "outputs": [
        {
          "data": {
            "text/html": [
              "<div>\n",
              "<style scoped>\n",
              "    .dataframe tbody tr th:only-of-type {\n",
              "        vertical-align: middle;\n",
              "    }\n",
              "\n",
              "    .dataframe tbody tr th {\n",
              "        vertical-align: top;\n",
              "    }\n",
              "\n",
              "    .dataframe thead th {\n",
              "        text-align: right;\n",
              "    }\n",
              "</style>\n",
              "<table border=\"1\" class=\"dataframe\">\n",
              "  <thead>\n",
              "    <tr style=\"text-align: right;\">\n",
              "      <th></th>\n",
              "      <th>Converted</th>\n",
              "      <th>Conversion_Prob</th>\n",
              "      <th>final_predicted</th>\n",
              "    </tr>\n",
              "  </thead>\n",
              "  <tbody>\n",
              "    <tr>\n",
              "      <th>0</th>\n",
              "      <td>0</td>\n",
              "      <td>0.123887</td>\n",
              "      <td>0</td>\n",
              "    </tr>\n",
              "    <tr>\n",
              "      <th>1</th>\n",
              "      <td>1</td>\n",
              "      <td>0.588440</td>\n",
              "      <td>1</td>\n",
              "    </tr>\n",
              "    <tr>\n",
              "      <th>2</th>\n",
              "      <td>1</td>\n",
              "      <td>0.370721</td>\n",
              "      <td>1</td>\n",
              "    </tr>\n",
              "    <tr>\n",
              "      <th>3</th>\n",
              "      <td>0</td>\n",
              "      <td>0.060348</td>\n",
              "      <td>0</td>\n",
              "    </tr>\n",
              "    <tr>\n",
              "      <th>4</th>\n",
              "      <td>0</td>\n",
              "      <td>0.442248</td>\n",
              "      <td>1</td>\n",
              "    </tr>\n",
              "    <tr>\n",
              "      <th>...</th>\n",
              "      <td>...</td>\n",
              "      <td>...</td>\n",
              "      <td>...</td>\n",
              "    </tr>\n",
              "    <tr>\n",
              "      <th>2693</th>\n",
              "      <td>1</td>\n",
              "      <td>0.111744</td>\n",
              "      <td>0</td>\n",
              "    </tr>\n",
              "    <tr>\n",
              "      <th>2694</th>\n",
              "      <td>1</td>\n",
              "      <td>0.829332</td>\n",
              "      <td>1</td>\n",
              "    </tr>\n",
              "    <tr>\n",
              "      <th>2695</th>\n",
              "      <td>0</td>\n",
              "      <td>0.039085</td>\n",
              "      <td>0</td>\n",
              "    </tr>\n",
              "    <tr>\n",
              "      <th>2696</th>\n",
              "      <td>1</td>\n",
              "      <td>0.965347</td>\n",
              "      <td>1</td>\n",
              "    </tr>\n",
              "    <tr>\n",
              "      <th>2697</th>\n",
              "      <td>0</td>\n",
              "      <td>0.007473</td>\n",
              "      <td>0</td>\n",
              "    </tr>\n",
              "  </tbody>\n",
              "</table>\n",
              "<p>2698 rows × 3 columns</p>\n",
              "</div>"
            ],
            "text/plain": [
              "      Converted  Conversion_Prob  final_predicted\n",
              "0             0         0.123887                0\n",
              "1             1         0.588440                1\n",
              "2             1         0.370721                1\n",
              "3             0         0.060348                0\n",
              "4             0         0.442248                1\n",
              "...         ...              ...              ...\n",
              "2693          1         0.111744                0\n",
              "2694          1         0.829332                1\n",
              "2695          0         0.039085                0\n",
              "2696          1         0.965347                1\n",
              "2697          0         0.007473                0\n",
              "\n",
              "[2698 rows x 3 columns]"
            ]
          },
          "execution_count": 104,
          "metadata": {},
          "output_type": "execute_result"
        }
      ],
      "source": [
        "# Making prediction using cut off 0.35\n",
        "y_pred_final['final_predicted'] = y_pred_final.Conversion_Prob.map(lambda x: 1 if x > 0.35 else 0)\n",
        "y_pred_final"
      ]
    },
    {
      "cell_type": "code",
      "execution_count": null,
      "metadata": {
        "id": "oNvxprHyDptI",
        "outputId": "66c2d43b-ddc3-4c9e-f357-4faa1188b8d7"
      },
      "outputs": [
        {
          "data": {
            "text/plain": [
              "0.8002223869532987"
            ]
          },
          "execution_count": 105,
          "metadata": {},
          "output_type": "execute_result"
        }
      ],
      "source": [
        "# Check the overall accuracy\n",
        "metrics.accuracy_score(y_pred_final['Converted'], y_pred_final.final_predicted)"
      ]
    },
    {
      "cell_type": "code",
      "execution_count": null,
      "metadata": {
        "id": "ih3Tn2BzDptI",
        "outputId": "608832c8-9f08-4304-c09e-854b01449ecb"
      },
      "outputs": [
        {
          "data": {
            "text/plain": [
              "array([[1350,  327],\n",
              "       [ 212,  809]], dtype=int64)"
            ]
          },
          "execution_count": 106,
          "metadata": {},
          "output_type": "execute_result"
        }
      ],
      "source": [
        "# Creating confusion matrix \n",
        "confusion2 = metrics.confusion_matrix(y_pred_final['Converted'], y_pred_final.final_predicted )\n",
        "confusion2"
      ]
    },
    {
      "cell_type": "code",
      "execution_count": null,
      "metadata": {
        "id": "vUSvDhYQDptJ"
      },
      "outputs": [],
      "source": [
        "# Substituting the value of true positive\n",
        "TP = confusion2[1,1]\n",
        "# Substituting the value of true negatives\n",
        "TN = confusion2[0,0]\n",
        "# Substituting the value of false positives\n",
        "FP = confusion2[0,1] \n",
        "# Substituting the value of false negatives\n",
        "FN = confusion2[1,0]"
      ]
    },
    {
      "cell_type": "code",
      "execution_count": null,
      "metadata": {
        "id": "5JtU4tHXDptJ",
        "outputId": "e4aa8ecb-1d7a-4bc7-c0b5-362b07e4dcb4"
      },
      "outputs": [
        {
          "data": {
            "text/plain": [
              "0.7923604309500489"
            ]
          },
          "execution_count": 108,
          "metadata": {},
          "output_type": "execute_result"
        }
      ],
      "source": [
        "# Calculating the sensitivity\n",
        "TP/(TP+FN)\n"
      ]
    },
    {
      "cell_type": "code",
      "execution_count": null,
      "metadata": {
        "id": "N-xqW4QxDptJ",
        "outputId": "b8776c10-aab6-4b22-cd70-c66de402de76"
      },
      "outputs": [
        {
          "data": {
            "text/plain": [
              "0.8050089445438283"
            ]
          },
          "execution_count": 109,
          "metadata": {},
          "output_type": "execute_result"
        }
      ],
      "source": [
        "# Calculating the specificity\n",
        "TN/(TN+FP)"
      ]
    },
    {
      "cell_type": "markdown",
      "metadata": {
        "id": "dBTQP_sODptK"
      },
      "source": [
        "With the current cut off as 0.35 we have accuracy, sensitivity and specificity of around 80%"
      ]
    },
    {
      "cell_type": "markdown",
      "metadata": {
        "id": "0xyoEkPxDptK"
      },
      "source": [
        "## Precision-Recall"
      ]
    },
    {
      "cell_type": "code",
      "execution_count": null,
      "metadata": {
        "id": "tAwoJXpsDptK",
        "outputId": "fae9ab99-041c-4751-8db5-cdb6e28f96f6"
      },
      "outputs": [
        {
          "data": {
            "text/plain": [
              "array([[3479,  436],\n",
              "       [ 708, 1670]], dtype=int64)"
            ]
          },
          "execution_count": 110,
          "metadata": {},
          "output_type": "execute_result"
        }
      ],
      "source": [
        "confusion = metrics.confusion_matrix(y_train_pred_final.Converted, y_train_pred_final.Predicted )\n",
        "confusion"
      ]
    },
    {
      "cell_type": "code",
      "execution_count": null,
      "metadata": {
        "id": "7qnzc61WDptL",
        "outputId": "fc4c7715-2c72-4d93-d323-7bb0d565bb4b"
      },
      "outputs": [
        {
          "data": {
            "text/plain": [
              "0.7929724596391263"
            ]
          },
          "execution_count": 111,
          "metadata": {},
          "output_type": "execute_result"
        }
      ],
      "source": [
        "# Precision = TP / TP + FP\n",
        "confusion[1,1]/(confusion[0,1]+confusion[1,1])"
      ]
    },
    {
      "cell_type": "code",
      "execution_count": null,
      "metadata": {
        "id": "EMr4a3A3DptL",
        "outputId": "ea69d536-9bff-4197-c03c-37909f5ff6e8"
      },
      "outputs": [
        {
          "data": {
            "text/plain": [
              "0.7022708158116064"
            ]
          },
          "execution_count": 112,
          "metadata": {},
          "output_type": "execute_result"
        }
      ],
      "source": [
        "#Recall = TP / TP + FN\n",
        "confusion[1,1]/(confusion[1,0]+confusion[1,1])"
      ]
    },
    {
      "cell_type": "markdown",
      "metadata": {
        "id": "IKQNFg2MDptM"
      },
      "source": [
        "With the current cut off as 0.35 we have Precision around 79% and Recall around 70%"
      ]
    },
    {
      "cell_type": "markdown",
      "metadata": {
        "id": "MWvJfnFnDptM"
      },
      "source": [
        "### Precision and recall tradeoff"
      ]
    },
    {
      "cell_type": "code",
      "execution_count": null,
      "metadata": {
        "id": "BBHdX5HBDptM"
      },
      "outputs": [],
      "source": [
        "from sklearn.metrics import precision_recall_curve"
      ]
    },
    {
      "cell_type": "code",
      "execution_count": null,
      "metadata": {
        "id": "dxpWbSW1DptN",
        "outputId": "495e373f-c540-4529-f1a1-d1afd15806fb"
      },
      "outputs": [
        {
          "data": {
            "text/plain": [
              "(0       0\n",
              " 1       1\n",
              " 2       1\n",
              " 3       0\n",
              " 4       0\n",
              "        ..\n",
              " 6288    1\n",
              " 6289    1\n",
              " 6290    1\n",
              " 6291    0\n",
              " 6292    1\n",
              " Name: Converted, Length: 6293, dtype: int64,\n",
              " 0       0\n",
              " 1       1\n",
              " 2       0\n",
              " 3       0\n",
              " 4       0\n",
              "        ..\n",
              " 6288    1\n",
              " 6289    0\n",
              " 6290    1\n",
              " 6291    0\n",
              " 6292    1\n",
              " Name: Predicted, Length: 6293, dtype: int64)"
            ]
          },
          "execution_count": 114,
          "metadata": {},
          "output_type": "execute_result"
        }
      ],
      "source": [
        "y_train_pred_final.Converted, y_train_pred_final.Predicted"
      ]
    },
    {
      "cell_type": "code",
      "execution_count": null,
      "metadata": {
        "id": "Ncs3-I66DptN"
      },
      "outputs": [],
      "source": [
        "p, r, thresholds = precision_recall_curve(y_train_pred_final.Converted, y_train_pred_final.Conversion_Prob)\n"
      ]
    },
    {
      "cell_type": "code",
      "execution_count": null,
      "metadata": {
        "id": "iliz4TI6DptO",
        "outputId": "7288df1c-b552-444b-b775-65617629cdde"
      },
      "outputs": [
        {
          "data": {
            "image/png": "[encoded data removed]",
            "text/plain": [
              "<Figure size 432x288 with 1 Axes>"
            ]
          },
          "metadata": {
            "needs_background": "light"
          },
          "output_type": "display_data"
        }
      ],
      "source": [
        "\n",
        "plt.plot(thresholds, p[:-1], \"g-\")\n",
        "plt.plot(thresholds, r[:-1], \"r-\")\n",
        "plt.show()"
      ]
    },
    {
      "cell_type": "code",
      "execution_count": null,
      "metadata": {
        "id": "M-rNUQFADptO",
        "outputId": "274990d3-4710-463b-f7cf-72b187ce7fd2"
      },
      "outputs": [
        {
          "data": {
            "text/html": [
              "<div>\n",
              "<style scoped>\n",
              "    .dataframe tbody tr th:only-of-type {\n",
              "        vertical-align: middle;\n",
              "    }\n",
              "\n",
              "    .dataframe tbody tr th {\n",
              "        vertical-align: top;\n",
              "    }\n",
              "\n",
              "    .dataframe thead th {\n",
              "        text-align: right;\n",
              "    }\n",
              "</style>\n",
              "<table border=\"1\" class=\"dataframe\">\n",
              "  <thead>\n",
              "    <tr style=\"text-align: right;\">\n",
              "      <th></th>\n",
              "      <th>Converted</th>\n",
              "      <th>Conversion_Prob</th>\n",
              "      <th>Predicted</th>\n",
              "      <th>0.0</th>\n",
              "      <th>0.1</th>\n",
              "      <th>0.2</th>\n",
              "      <th>0.3</th>\n",
              "      <th>0.4</th>\n",
              "      <th>0.5</th>\n",
              "      <th>0.6</th>\n",
              "      <th>0.7</th>\n",
              "      <th>0.8</th>\n",
              "      <th>0.9</th>\n",
              "      <th>final_predicted</th>\n",
              "    </tr>\n",
              "  </thead>\n",
              "  <tbody>\n",
              "    <tr>\n",
              "      <th>0</th>\n",
              "      <td>0</td>\n",
              "      <td>0.257438</td>\n",
              "      <td>0</td>\n",
              "      <td>1</td>\n",
              "      <td>1</td>\n",
              "      <td>1</td>\n",
              "      <td>0</td>\n",
              "      <td>0</td>\n",
              "      <td>0</td>\n",
              "      <td>0</td>\n",
              "      <td>0</td>\n",
              "      <td>0</td>\n",
              "      <td>0</td>\n",
              "      <td>0</td>\n",
              "    </tr>\n",
              "    <tr>\n",
              "      <th>1</th>\n",
              "      <td>1</td>\n",
              "      <td>0.997225</td>\n",
              "      <td>1</td>\n",
              "      <td>1</td>\n",
              "      <td>1</td>\n",
              "      <td>1</td>\n",
              "      <td>1</td>\n",
              "      <td>1</td>\n",
              "      <td>1</td>\n",
              "      <td>1</td>\n",
              "      <td>1</td>\n",
              "      <td>1</td>\n",
              "      <td>1</td>\n",
              "      <td>1</td>\n",
              "    </tr>\n",
              "    <tr>\n",
              "      <th>2</th>\n",
              "      <td>1</td>\n",
              "      <td>0.327989</td>\n",
              "      <td>0</td>\n",
              "      <td>1</td>\n",
              "      <td>1</td>\n",
              "      <td>1</td>\n",
              "      <td>1</td>\n",
              "      <td>0</td>\n",
              "      <td>0</td>\n",
              "      <td>0</td>\n",
              "      <td>0</td>\n",
              "      <td>0</td>\n",
              "      <td>0</td>\n",
              "      <td>0</td>\n",
              "    </tr>\n",
              "    <tr>\n",
              "      <th>3</th>\n",
              "      <td>0</td>\n",
              "      <td>0.259734</td>\n",
              "      <td>0</td>\n",
              "      <td>1</td>\n",
              "      <td>1</td>\n",
              "      <td>1</td>\n",
              "      <td>0</td>\n",
              "      <td>0</td>\n",
              "      <td>0</td>\n",
              "      <td>0</td>\n",
              "      <td>0</td>\n",
              "      <td>0</td>\n",
              "      <td>0</td>\n",
              "      <td>0</td>\n",
              "    </tr>\n",
              "    <tr>\n",
              "      <th>4</th>\n",
              "      <td>0</td>\n",
              "      <td>0.135660</td>\n",
              "      <td>0</td>\n",
              "      <td>1</td>\n",
              "      <td>1</td>\n",
              "      <td>0</td>\n",
              "      <td>0</td>\n",
              "      <td>0</td>\n",
              "      <td>0</td>\n",
              "      <td>0</td>\n",
              "      <td>0</td>\n",
              "      <td>0</td>\n",
              "      <td>0</td>\n",
              "      <td>0</td>\n",
              "    </tr>\n",
              "  </tbody>\n",
              "</table>\n",
              "</div>"
            ],
            "text/plain": [
              "   Converted  Conversion_Prob  Predicted  0.0  0.1  0.2  0.3  0.4  0.5  0.6  \\\n",
              "0          0         0.257438          0    1    1    1    0    0    0    0   \n",
              "1          1         0.997225          1    1    1    1    1    1    1    1   \n",
              "2          1         0.327989          0    1    1    1    1    0    0    0   \n",
              "3          0         0.259734          0    1    1    1    0    0    0    0   \n",
              "4          0         0.135660          0    1    1    0    0    0    0    0   \n",
              "\n",
              "   0.7  0.8  0.9  final_predicted  \n",
              "0    0    0    0                0  \n",
              "1    1    1    1                1  \n",
              "2    0    0    0                0  \n",
              "3    0    0    0                0  \n",
              "4    0    0    0                0  "
            ]
          },
          "execution_count": 117,
          "metadata": {},
          "output_type": "execute_result"
        }
      ],
      "source": [
        "y_train_pred_final['final_predicted'] = y_train_pred_final.Conversion_Prob.map(lambda x: 1 if x > 0.41 else 0)\n",
        "y_train_pred_final.head()"
      ]
    },
    {
      "cell_type": "code",
      "execution_count": null,
      "metadata": {
        "id": "1WIlQEJkDptP",
        "outputId": "87369f1e-e052-409c-f44e-04de21f7c6a4"
      },
      "outputs": [
        {
          "data": {
            "text/plain": [
              "0.8180518035912919"
            ]
          },
          "execution_count": 118,
          "metadata": {},
          "output_type": "execute_result"
        }
      ],
      "source": [
        "# Accuracy\n",
        "metrics.accuracy_score(y_train_pred_final.Converted, y_train_pred_final.final_predicted)"
      ]
    },
    {
      "cell_type": "code",
      "execution_count": null,
      "metadata": {
        "id": "Sc2559TnDptP",
        "outputId": "8271f66e-3c0b-47e2-8778-97209d11b73a"
      },
      "outputs": [
        {
          "data": {
            "text/plain": [
              "array([[3333,  582],\n",
              "       [ 563, 1815]], dtype=int64)"
            ]
          },
          "execution_count": 119,
          "metadata": {},
          "output_type": "execute_result"
        }
      ],
      "source": [
        "# Creating confusion matrix again\n",
        "confusion2 = metrics.confusion_matrix(y_train_pred_final.Converted, y_train_pred_final.final_predicted )\n",
        "confusion2"
      ]
    },
    {
      "cell_type": "code",
      "execution_count": null,
      "metadata": {
        "id": "ZEO_JYJdDptP"
      },
      "outputs": [],
      "source": [
        "\n",
        "# Substituting the value of true positive\n",
        "TP = confusion2[1,1]\n",
        "# Substituting the value of true negatives\n",
        "TN = confusion2[0,0]\n",
        "# Substituting the value of false positives\n",
        "FP = confusion2[0,1] \n",
        "# Substituting the value of false negatives\n",
        "FN = confusion2[1,0]"
      ]
    },
    {
      "cell_type": "code",
      "execution_count": null,
      "metadata": {
        "id": "_tl1WjQ5DptP",
        "outputId": "63619fc1-a826-41ae-8ae5-baa6831a4e3d"
      },
      "outputs": [
        {
          "data": {
            "text/plain": [
              "0.7571964956195244"
            ]
          },
          "execution_count": 121,
          "metadata": {},
          "output_type": "execute_result"
        }
      ],
      "source": [
        "# Precision = TP / TP + FP\n",
        "TP / (TP + FP)"
      ]
    },
    {
      "cell_type": "code",
      "execution_count": null,
      "metadata": {
        "id": "yytskpBlDptQ",
        "outputId": "a8114a76-7a1e-4d2a-d9a0-c16a16c0cb51"
      },
      "outputs": [
        {
          "data": {
            "text/plain": [
              "0.763246425567704"
            ]
          },
          "execution_count": 122,
          "metadata": {},
          "output_type": "execute_result"
        }
      ],
      "source": [
        "#Recall = TP / TP + FN\n",
        "TP / (TP + FN)"
      ]
    },
    {
      "cell_type": "markdown",
      "metadata": {
        "id": "hfyh4m4TDptQ"
      },
      "source": [
        "With the current cut off as 0.44 we have Precision around 76% and Recall around 76.3% and accuracy 82 %."
      ]
    },
    {
      "cell_type": "markdown",
      "metadata": {
        "id": "Emi7b9dQDptQ"
      },
      "source": [
        "## Prediction on Test set"
      ]
    },
    {
      "cell_type": "code",
      "execution_count": null,
      "metadata": {
        "id": "ifknNxJ-DptR",
        "outputId": "e97886bc-f669-4230-bf41-8620cc7b7e76"
      },
      "outputs": [
        {
          "data": {
            "text/html": [
              "<div>\n",
              "<style scoped>\n",
              "    .dataframe tbody tr th:only-of-type {\n",
              "        vertical-align: middle;\n",
              "    }\n",
              "\n",
              "    .dataframe tbody tr th {\n",
              "        vertical-align: top;\n",
              "    }\n",
              "\n",
              "    .dataframe thead th {\n",
              "        text-align: right;\n",
              "    }\n",
              "</style>\n",
              "<table border=\"1\" class=\"dataframe\">\n",
              "  <thead>\n",
              "    <tr style=\"text-align: right;\">\n",
              "      <th></th>\n",
              "      <th>Converted</th>\n",
              "      <th>Conversion_Prob</th>\n",
              "    </tr>\n",
              "  </thead>\n",
              "  <tbody>\n",
              "    <tr>\n",
              "      <th>0</th>\n",
              "      <td>0</td>\n",
              "      <td>0.123887</td>\n",
              "    </tr>\n",
              "    <tr>\n",
              "      <th>1</th>\n",
              "      <td>1</td>\n",
              "      <td>0.588440</td>\n",
              "    </tr>\n",
              "    <tr>\n",
              "      <th>2</th>\n",
              "      <td>1</td>\n",
              "      <td>0.370721</td>\n",
              "    </tr>\n",
              "    <tr>\n",
              "      <th>3</th>\n",
              "      <td>0</td>\n",
              "      <td>0.060348</td>\n",
              "    </tr>\n",
              "    <tr>\n",
              "      <th>4</th>\n",
              "      <td>0</td>\n",
              "      <td>0.442248</td>\n",
              "    </tr>\n",
              "  </tbody>\n",
              "</table>\n",
              "</div>"
            ],
            "text/plain": [
              "   Converted  Conversion_Prob\n",
              "0          0         0.123887\n",
              "1          1         0.588440\n",
              "2          1         0.370721\n",
              "3          0         0.060348\n",
              "4          0         0.442248"
            ]
          },
          "execution_count": 123,
          "metadata": {},
          "output_type": "execute_result"
        }
      ],
      "source": [
        "# Storing prediction of test set in the variable 'y_test_pred'\n",
        "y_test_pred = res.predict(X_test_sm)\n",
        "# Coverting it to df\n",
        "y_pred_df = pd.DataFrame(y_test_pred)\n",
        "# Converting y_test to dataframe\n",
        "y_test_df = pd.DataFrame(y_test)\n",
        "# Remove index for both dataframes to append them side by side \n",
        "y_pred_df.reset_index(drop=True, inplace=True)\n",
        "y_test_df.reset_index(drop=True, inplace=True)\n",
        "# Append y_test_df and y_pred_df\n",
        "y_pred_final = pd.concat([y_test_df, y_pred_df],axis=1)\n",
        "# Renaming column \n",
        "y_pred_final= y_pred_final.rename(columns = {0 : 'Conversion_Prob'})\n",
        "y_pred_final.head()"
      ]
    },
    {
      "cell_type": "code",
      "execution_count": null,
      "metadata": {
        "id": "mTrCI256DptR",
        "outputId": "e3b50a03-9ae1-441e-f130-ca3c39800a94"
      },
      "outputs": [
        {
          "data": {
            "text/html": [
              "<div>\n",
              "<style scoped>\n",
              "    .dataframe tbody tr th:only-of-type {\n",
              "        vertical-align: middle;\n",
              "    }\n",
              "\n",
              "    .dataframe tbody tr th {\n",
              "        vertical-align: top;\n",
              "    }\n",
              "\n",
              "    .dataframe thead th {\n",
              "        text-align: right;\n",
              "    }\n",
              "</style>\n",
              "<table border=\"1\" class=\"dataframe\">\n",
              "  <thead>\n",
              "    <tr style=\"text-align: right;\">\n",
              "      <th></th>\n",
              "      <th>Converted</th>\n",
              "      <th>Conversion_Prob</th>\n",
              "      <th>final_predicted</th>\n",
              "    </tr>\n",
              "  </thead>\n",
              "  <tbody>\n",
              "    <tr>\n",
              "      <th>0</th>\n",
              "      <td>0</td>\n",
              "      <td>0.123887</td>\n",
              "      <td>0</td>\n",
              "    </tr>\n",
              "    <tr>\n",
              "      <th>1</th>\n",
              "      <td>1</td>\n",
              "      <td>0.588440</td>\n",
              "      <td>1</td>\n",
              "    </tr>\n",
              "    <tr>\n",
              "      <th>2</th>\n",
              "      <td>1</td>\n",
              "      <td>0.370721</td>\n",
              "      <td>0</td>\n",
              "    </tr>\n",
              "    <tr>\n",
              "      <th>3</th>\n",
              "      <td>0</td>\n",
              "      <td>0.060348</td>\n",
              "      <td>0</td>\n",
              "    </tr>\n",
              "    <tr>\n",
              "      <th>4</th>\n",
              "      <td>0</td>\n",
              "      <td>0.442248</td>\n",
              "      <td>1</td>\n",
              "    </tr>\n",
              "    <tr>\n",
              "      <th>...</th>\n",
              "      <td>...</td>\n",
              "      <td>...</td>\n",
              "      <td>...</td>\n",
              "    </tr>\n",
              "    <tr>\n",
              "      <th>2693</th>\n",
              "      <td>1</td>\n",
              "      <td>0.111744</td>\n",
              "      <td>0</td>\n",
              "    </tr>\n",
              "    <tr>\n",
              "      <th>2694</th>\n",
              "      <td>1</td>\n",
              "      <td>0.829332</td>\n",
              "      <td>1</td>\n",
              "    </tr>\n",
              "    <tr>\n",
              "      <th>2695</th>\n",
              "      <td>0</td>\n",
              "      <td>0.039085</td>\n",
              "      <td>0</td>\n",
              "    </tr>\n",
              "    <tr>\n",
              "      <th>2696</th>\n",
              "      <td>1</td>\n",
              "      <td>0.965347</td>\n",
              "      <td>1</td>\n",
              "    </tr>\n",
              "    <tr>\n",
              "      <th>2697</th>\n",
              "      <td>0</td>\n",
              "      <td>0.007473</td>\n",
              "      <td>0</td>\n",
              "    </tr>\n",
              "  </tbody>\n",
              "</table>\n",
              "<p>2698 rows × 3 columns</p>\n",
              "</div>"
            ],
            "text/plain": [
              "      Converted  Conversion_Prob  final_predicted\n",
              "0             0         0.123887                0\n",
              "1             1         0.588440                1\n",
              "2             1         0.370721                0\n",
              "3             0         0.060348                0\n",
              "4             0         0.442248                1\n",
              "...         ...              ...              ...\n",
              "2693          1         0.111744                0\n",
              "2694          1         0.829332                1\n",
              "2695          0         0.039085                0\n",
              "2696          1         0.965347                1\n",
              "2697          0         0.007473                0\n",
              "\n",
              "[2698 rows x 3 columns]"
            ]
          },
          "execution_count": 124,
          "metadata": {},
          "output_type": "execute_result"
        }
      ],
      "source": [
        "\n",
        "# Making prediction using cut off 0.41\n",
        "y_pred_final['final_predicted'] = y_pred_final.Conversion_Prob.map(lambda x: 1 if x > 0.44 else 0)\n",
        "y_pred_final"
      ]
    },
    {
      "cell_type": "markdown",
      "metadata": {
        "id": "gT0RjE1dDptS"
      },
      "source": [
        "### Check the overall accuracy"
      ]
    },
    {
      "cell_type": "code",
      "execution_count": null,
      "metadata": {
        "id": "il_9FZXbDptS",
        "outputId": "e88f3a74-cd59-4b55-aac8-2832910abbaf"
      },
      "outputs": [
        {
          "data": {
            "text/plain": [
              "0.8057820607857672"
            ]
          },
          "execution_count": 125,
          "metadata": {},
          "output_type": "execute_result"
        }
      ],
      "source": [
        "# Check the overall accuracy\n",
        "metrics.accuracy_score(y_pred_final['Converted'], y_pred_final.final_predicted)"
      ]
    },
    {
      "cell_type": "code",
      "execution_count": null,
      "metadata": {
        "id": "kMqyCmljDptS",
        "outputId": "7853f931-d099-4a37-a387-95d33a402538"
      },
      "outputs": [
        {
          "data": {
            "text/plain": [
              "array([[1426,  251],\n",
              "       [ 273,  748]], dtype=int64)"
            ]
          },
          "execution_count": 126,
          "metadata": {},
          "output_type": "execute_result"
        }
      ],
      "source": [
        "# Creating confusion matrix \n",
        "confusion2 = metrics.confusion_matrix(y_pred_final['Converted'], y_pred_final.final_predicted )\n",
        "confusion2"
      ]
    },
    {
      "cell_type": "code",
      "execution_count": null,
      "metadata": {
        "id": "uDe9TD1GDptT"
      },
      "outputs": [],
      "source": [
        "# Substituting the value of true positive\n",
        "TP = confusion2[1,1]\n",
        "# Substituting the value of true negatives\n",
        "TN = confusion2[0,0]\n",
        "# Substituting the value of false positives\n",
        "FP = confusion2[0,1] \n",
        "# Substituting the value of false negatives\n",
        "FN = confusion2[1,0]"
      ]
    },
    {
      "cell_type": "code",
      "execution_count": null,
      "metadata": {
        "id": "W_0jb6-XDptU",
        "outputId": "90f2c5e5-fa81-43e1-d2c5-8296f855157d"
      },
      "outputs": [
        {
          "data": {
            "text/plain": [
              "0.7487487487487487"
            ]
          },
          "execution_count": 128,
          "metadata": {},
          "output_type": "execute_result"
        }
      ],
      "source": [
        "# Precision = TP / TP + FP\n",
        "TP / (TP + FP)"
      ]
    },
    {
      "cell_type": "code",
      "execution_count": null,
      "metadata": {
        "id": "DuQQ_YTXDptU",
        "outputId": "83a59579-d3e8-4b40-bb94-48233ab0ff6f"
      },
      "outputs": [
        {
          "data": {
            "text/plain": [
              "0.732615083251714"
            ]
          },
          "execution_count": 129,
          "metadata": {},
          "output_type": "execute_result"
        }
      ],
      "source": [
        "\n",
        "#Recall = TP / TP + FN\n",
        "TP / (TP + FN)\n"
      ]
    },
    {
      "cell_type": "markdown",
      "metadata": {
        "id": "2EpgKhy3DptV"
      },
      "source": [
        "With the current cut off as 0.41 we have Precision around 75% , Recall around 73% and accuracy 80.5%."
      ]
    },
    {
      "cell_type": "markdown",
      "metadata": {
        "id": "f13QrwETDptZ"
      },
      "source": [
        "\n",
        "The Model seems to predict the Conversion Rate very well and we should be able to give the CEO confidence in making good calls based on this model"
      ]
    },
    {
      "cell_type": "markdown",
      "metadata": {
        "id": "8xIPnHTLDpta"
      },
      "source": [
        "# Conclusion"
      ]
    },
    {
      "cell_type": "markdown",
      "metadata": {
        "id": "O4iIbWcDDpta"
      },
      "source": [
        "\n",
        "It was found that the variables that mattered the most in the potential buyers are (In descending order) :\n",
        "#TotalVisits\n",
        "#The total time spend on the Website.\n",
        "#Lead Origin_Lead Add Form\n",
        "#Lead Source_Direct Traffic\n",
        "#Lead Source_Google\n",
        "#Lead Source_Welingak Website\n",
        "#Lead Source_Organic Search\t\n",
        "#Lead Source_Referral Sites\n",
        "#Lead Source_Welingak Website\n",
        "#Do Not Email_Yes\n",
        "#Last Activity_Email Bounced\n",
        "#Last Activity_Olark Chat Conversation\n",
        "\n",
        "### Keeping these in mind the X Education can flourish as they have a very high chance to get almost all the potential buyers to change their mind and buy their courses.\n",
        "\n",
        "\n"
      ]
    },
    {
      "cell_type": "code",
      "execution_count": null,
      "metadata": {
        "id": "W5-jM9anDpta"
      },
      "outputs": [],
      "source": []
    },
    {
      "cell_type": "code",
      "execution_count": null,
      "metadata": {
        "id": "xPTKyOJeDptf"
      },
      "outputs": [],
      "source": []
    }
  ],
  "metadata": {
    "kernelspec": {
      "display_name": "Python 3",
      "language": "python",
      "name": "python3"
    },
    "language_info": {
      "codemirror_mode": {
        "name": "ipython",
        "version": 3
      },
      "file_extension": ".py",
      "mimetype": "text/x-python",
      "name": "python",
      "nbconvert_exporter": "python",
      "pygments_lexer": "ipython3",
      "version": "3.7.6"
    },
    "colab": {
      "provenance": []
    }
  },
  "nbformat": 4,
  "nbformat_minor": 0
}